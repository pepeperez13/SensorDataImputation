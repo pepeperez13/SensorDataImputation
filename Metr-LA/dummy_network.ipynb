{
 "cells": [
  {
   "cell_type": "markdown",
   "id": "388ce295",
   "metadata": {},
   "source": [
    "### Read network data"
   ]
  },
  {
   "cell_type": "code",
   "execution_count": 100,
   "id": "1e796775",
   "metadata": {},
   "outputs": [],
   "source": [
    "import pickle\n",
    "import networkx as nx\n",
    "import numpy as np\n",
    "\n",
    "with open(r\"D:\\Master\\Thesis\\Code\\traffic\\metr-la\\adj_METR-LA.pkl\", 'rb') as f:\n",
    "    spatial = pickle.load(f, encoding='latin1')\n",
    "\n",
    "sensor_id = spatial[0]\n",
    "sensor_nodes = spatial[1]\n",
    "adj = spatial[2]\n",
    "\n",
    "# Build NetworkX graph\n",
    "G = nx.from_numpy_array(adj, create_using=nx.DiGraph())\n",
    "nx.set_node_attributes(G, {v: k for k, v in sensor_nodes.items()}, name=\"sensor_id\")"
   ]
  },
  {
   "cell_type": "code",
   "execution_count": 151,
   "id": "c3c42bd4",
   "metadata": {},
   "outputs": [
    {
     "data": {
      "text/plain": [
       "array([[1.       , 0.       , 0.       , ..., 0.       , 0.       ,\n",
       "        0.       ],\n",
       "       [0.       , 1.       , 0.3909554, ..., 0.       , 0.       ,\n",
       "        0.       ],\n",
       "       [0.       , 0.7174379, 1.       , ..., 0.       , 0.       ,\n",
       "        0.       ],\n",
       "       ...,\n",
       "       [0.       , 0.       , 0.       , ..., 1.       , 0.       ,\n",
       "        0.       ],\n",
       "       [0.       , 0.       , 0.       , ..., 0.       , 1.       ,\n",
       "        0.       ],\n",
       "       [0.       , 0.       , 0.       , ..., 0.       , 0.       ,\n",
       "        1.       ]], dtype=float32)"
      ]
     },
     "execution_count": 151,
     "metadata": {},
     "output_type": "execute_result"
    }
   ],
   "source": [
    "adj"
   ]
  },
  {
   "cell_type": "code",
   "execution_count": 124,
   "id": "7e88af1a",
   "metadata": {},
   "outputs": [
    {
     "name": "stdout",
     "output_type": "stream",
     "text": [
      "0.0 1.0 0.019010518\n"
     ]
    }
   ],
   "source": [
    "print(np.min(adj), np.max(adj), np.mean(adj))\n"
   ]
  },
  {
   "cell_type": "markdown",
   "id": "ce5ce13a",
   "metadata": {},
   "source": [
    "### Read semantic data"
   ]
  },
  {
   "cell_type": "code",
   "execution_count": 102,
   "id": "f43c3140",
   "metadata": {},
   "outputs": [
    {
     "name": "stdout",
     "output_type": "stream",
     "text": [
      "717825\n"
     ]
    }
   ],
   "source": [
    "# Find the key with value 181\n",
    "key_for_181 = next((k for k, v in sensor_nodes.items() if v == 182), None)\n",
    "print(key_for_181)"
   ]
  },
  {
   "cell_type": "code",
   "execution_count": 103,
   "id": "b320d773",
   "metadata": {},
   "outputs": [],
   "source": [
    "from rdflib import Graph, Namespace\n",
    "import numpy as np\n",
    "import pandas as pd\n",
    "\n",
    "g = Graph()\n",
    "g.parse(\"LA_traffic_KG.ttl\", format=\"ttl\")\n",
    "\n",
    "TRAFFIC = Namespace(\"http://example.org/traffic#\")\n",
    "\n",
    "# Get semantic features per sensor\n",
    "query = \"\"\"\n",
    "PREFIX traffic: <http://example.org/traffic#>\n",
    "SELECT ?sensor ?roadType ?maxSpeed ?numLanes\n",
    "WHERE {\n",
    "  ?sensor a traffic:TrafficSensor ;\n",
    "          traffic:installedOn ?road .\n",
    "  ?road traffic:roadType ?roadType ;\n",
    "        traffic:maxSpeed ?maxSpeed ;\n",
    "        traffic:numberOfLanes ?numLanes .\n",
    "}\n",
    "\"\"\"\n",
    "\n",
    "results = g.query(query)\n",
    "rows = []\n",
    "for r in results:\n",
    "    sensor_uri = str(r.sensor)\n",
    "    sensor_id = sensor_uri.split(\"#\")[-1].replace(\"sensor_\", \"\")\n",
    "    rows.append({\n",
    "        \"sensor_id\": sensor_id,\n",
    "        \"road_type\": str(r.roadType),\n",
    "        \"max_speed\": float(r.maxSpeed),\n",
    "        \"num_lanes\": int(r.numLanes)\n",
    "    })\n",
    "\n",
    "sensor_ids = [row[\"sensor_id\"] for row in rows]\n",
    "\n",
    "semantic_df = pd.DataFrame(rows)"
   ]
  },
  {
   "cell_type": "code",
   "execution_count": 104,
   "id": "e8843f38",
   "metadata": {},
   "outputs": [
    {
     "data": {
      "text/html": [
       "<div>\n",
       "<style scoped>\n",
       "    .dataframe tbody tr th:only-of-type {\n",
       "        vertical-align: middle;\n",
       "    }\n",
       "\n",
       "    .dataframe tbody tr th {\n",
       "        vertical-align: top;\n",
       "    }\n",
       "\n",
       "    .dataframe thead th {\n",
       "        text-align: right;\n",
       "    }\n",
       "</style>\n",
       "<table border=\"1\" class=\"dataframe\">\n",
       "  <thead>\n",
       "    <tr style=\"text-align: right;\">\n",
       "      <th></th>\n",
       "      <th>sensor_id</th>\n",
       "      <th>road_type</th>\n",
       "      <th>max_speed</th>\n",
       "      <th>num_lanes</th>\n",
       "    </tr>\n",
       "  </thead>\n",
       "  <tbody>\n",
       "    <tr>\n",
       "      <th>0</th>\n",
       "      <td>773869</td>\n",
       "      <td>motorway</td>\n",
       "      <td>65.0</td>\n",
       "      <td>5</td>\n",
       "    </tr>\n",
       "    <tr>\n",
       "      <th>1</th>\n",
       "      <td>767541</td>\n",
       "      <td>motorway</td>\n",
       "      <td>65.0</td>\n",
       "      <td>4</td>\n",
       "    </tr>\n",
       "    <tr>\n",
       "      <th>2</th>\n",
       "      <td>767542</td>\n",
       "      <td>motorway</td>\n",
       "      <td>65.0</td>\n",
       "      <td>4</td>\n",
       "    </tr>\n",
       "    <tr>\n",
       "      <th>3</th>\n",
       "      <td>717447</td>\n",
       "      <td>motorway</td>\n",
       "      <td>55.0</td>\n",
       "      <td>4</td>\n",
       "    </tr>\n",
       "    <tr>\n",
       "      <th>4</th>\n",
       "      <td>717446</td>\n",
       "      <td>motorway</td>\n",
       "      <td>55.0</td>\n",
       "      <td>4</td>\n",
       "    </tr>\n",
       "    <tr>\n",
       "      <th>...</th>\n",
       "      <td>...</td>\n",
       "      <td>...</td>\n",
       "      <td>...</td>\n",
       "      <td>...</td>\n",
       "    </tr>\n",
       "    <tr>\n",
       "      <th>175</th>\n",
       "      <td>717592</td>\n",
       "      <td>motorway</td>\n",
       "      <td>65.0</td>\n",
       "      <td>5</td>\n",
       "    </tr>\n",
       "    <tr>\n",
       "      <th>176</th>\n",
       "      <td>717595</td>\n",
       "      <td>motorway</td>\n",
       "      <td>65.0</td>\n",
       "      <td>5</td>\n",
       "    </tr>\n",
       "    <tr>\n",
       "      <th>177</th>\n",
       "      <td>772168</td>\n",
       "      <td>motorway</td>\n",
       "      <td>65.0</td>\n",
       "      <td>6</td>\n",
       "    </tr>\n",
       "    <tr>\n",
       "      <th>178</th>\n",
       "      <td>718141</td>\n",
       "      <td>motorway</td>\n",
       "      <td>55.0</td>\n",
       "      <td>3</td>\n",
       "    </tr>\n",
       "    <tr>\n",
       "      <th>179</th>\n",
       "      <td>769373</td>\n",
       "      <td>motorway</td>\n",
       "      <td>55.0</td>\n",
       "      <td>4</td>\n",
       "    </tr>\n",
       "  </tbody>\n",
       "</table>\n",
       "<p>180 rows × 4 columns</p>\n",
       "</div>"
      ],
      "text/plain": [
       "    sensor_id road_type  max_speed  num_lanes\n",
       "0      773869  motorway       65.0          5\n",
       "1      767541  motorway       65.0          4\n",
       "2      767542  motorway       65.0          4\n",
       "3      717447  motorway       55.0          4\n",
       "4      717446  motorway       55.0          4\n",
       "..        ...       ...        ...        ...\n",
       "175    717592  motorway       65.0          5\n",
       "176    717595  motorway       65.0          5\n",
       "177    772168  motorway       65.0          6\n",
       "178    718141  motorway       55.0          3\n",
       "179    769373  motorway       55.0          4\n",
       "\n",
       "[180 rows x 4 columns]"
      ]
     },
     "execution_count": 104,
     "metadata": {},
     "output_type": "execute_result"
    }
   ],
   "source": [
    "semantic_df"
   ]
  },
  {
   "cell_type": "code",
   "execution_count": 147,
   "id": "1acf906b",
   "metadata": {},
   "outputs": [],
   "source": [
    "sensor_ids = semantic_df[\"sensor_id\"].astype(str).tolist()"
   ]
  },
  {
   "cell_type": "markdown",
   "id": "daa97227",
   "metadata": {},
   "source": [
    "### Select only distances for sensors with semantics available"
   ]
  },
  {
   "cell_type": "code",
   "execution_count": 105,
   "id": "ac686560",
   "metadata": {},
   "outputs": [],
   "source": [
    "graph_nodes = list(G.nodes())  # This will give a list of all node indices in the graph"
   ]
  },
  {
   "cell_type": "code",
   "execution_count": 106,
   "id": "8e20e98f",
   "metadata": {},
   "outputs": [
    {
     "data": {
      "text/plain": [
       "{110: '717099',\n",
       " 0: '773869',\n",
       " 1: '767541',\n",
       " 2: '767542',\n",
       " 3: '717447',\n",
       " 4: '717446',\n",
       " 5: '717445',\n",
       " 6: '773062',\n",
       " 84: '767053',\n",
       " 8: '737529',\n",
       " 9: '717816',\n",
       " 10: '765604',\n",
       " 11: '767471',\n",
       " 12: '716339',\n",
       " 86: '772596',\n",
       " 14: '765273',\n",
       " 15: '716331',\n",
       " 16: '771667',\n",
       " 17: '716337',\n",
       " 18: '769953',\n",
       " 19: '769402',\n",
       " 20: '769403',\n",
       " 21: '769819',\n",
       " 22: '769405',\n",
       " 164: '769345',\n",
       " 25: '716960',\n",
       " 26: '717804',\n",
       " 27: '767572',\n",
       " 28: '767573',\n",
       " 29: '773012',\n",
       " 30: '773013',\n",
       " 31: '764424',\n",
       " 176: '764101',\n",
       " 32: '769388',\n",
       " 33: '716328',\n",
       " 34: '717819',\n",
       " 35: '769941',\n",
       " 36: '760987',\n",
       " 37: '718204',\n",
       " 38: '718045',\n",
       " 39: '769418',\n",
       " 40: '768066',\n",
       " 41: '772140',\n",
       " 42: '773927',\n",
       " 126: '769867',\n",
       " 138: '772513',\n",
       " 44: '774012',\n",
       " 45: '774011',\n",
       " 46: '767609',\n",
       " 48: '760650',\n",
       " 131: '765099',\n",
       " 50: '769831',\n",
       " 166: '772669',\n",
       " 92: '767585',\n",
       " 53: '716554',\n",
       " 54: '773953',\n",
       " 55: '767470',\n",
       " 132: '762329',\n",
       " 57: '764949',\n",
       " 58: '773954',\n",
       " 59: '767366',\n",
       " 60: '769444',\n",
       " 61: '773939',\n",
       " 62: '774067',\n",
       " 63: '769443',\n",
       " 64: '767750',\n",
       " 65: '767751',\n",
       " 66: '767610',\n",
       " 67: '773880',\n",
       " 68: '764766',\n",
       " 69: '717497',\n",
       " 70: '717490',\n",
       " 71: '717491',\n",
       " 72: '717492',\n",
       " 73: '717493',\n",
       " 74: '765176',\n",
       " 75: '717498',\n",
       " 76: '717499',\n",
       " 77: '765171',\n",
       " 78: '718064',\n",
       " 79: '718066',\n",
       " 101: '718371',\n",
       " 81: '769431',\n",
       " 82: '769430',\n",
       " 102: '717489',\n",
       " 7: '767620',\n",
       " 85: '767621',\n",
       " 13: '773906',\n",
       " 87: '772597',\n",
       " 88: '767350',\n",
       " 89: '767351',\n",
       " 90: '716571',\n",
       " 91: '773023',\n",
       " 51: '761604',\n",
       " 93: '773024',\n",
       " 94: '717483',\n",
       " 95: '718379',\n",
       " 96: '717481',\n",
       " 97: '717480',\n",
       " 98: '717486',\n",
       " 99: '764120',\n",
       " 100: '772151',\n",
       " 80: '765164',\n",
       " 83: '717610',\n",
       " 103: '717488',\n",
       " 200: '769806',\n",
       " 104: '717818',\n",
       " 105: '718076',\n",
       " 106: '718072',\n",
       " 107: '767455',\n",
       " 108: '767454',\n",
       " 121: '769847',\n",
       " 109: '761599',\n",
       " 52: '717495',\n",
       " 111: '773916',\n",
       " 112: '716968',\n",
       " 113: '769467',\n",
       " 114: '717576',\n",
       " 115: '717573',\n",
       " 116: '717572',\n",
       " 117: '717571',\n",
       " 118: '717570',\n",
       " 119: '764760',\n",
       " 120: '718089',\n",
       " 24: '717578',\n",
       " 122: '717608',\n",
       " 147: '759602',\n",
       " 43: '760024',\n",
       " 127: '717472',\n",
       " 128: '717473',\n",
       " 129: '759591',\n",
       " 130: '764781',\n",
       " 49: '716956',\n",
       " 56: '716955',\n",
       " 133: '716953',\n",
       " 134: '716951',\n",
       " 135: '767509',\n",
       " 137: '769358',\n",
       " 47: '769359',\n",
       " 139: '716958',\n",
       " 140: '718496',\n",
       " 141: '769346',\n",
       " 142: '773904',\n",
       " 143: '718499',\n",
       " 144: '764853',\n",
       " 145: '761003',\n",
       " 146: '717502',\n",
       " 125: '718090',\n",
       " 148: '717504',\n",
       " 149: '763995',\n",
       " 150: '717508',\n",
       " 196: '771673',\n",
       " 152: '773996',\n",
       " 153: '773995',\n",
       " 154: '717469',\n",
       " 155: '717468',\n",
       " 156: '764106',\n",
       " 157: '717465',\n",
       " 158: '764794',\n",
       " 159: '717466',\n",
       " 160: '717461',\n",
       " 161: '717460',\n",
       " 162: '717463',\n",
       " 163: '717462',\n",
       " 23: '716941',\n",
       " 165: '716943',\n",
       " 124: '716942',\n",
       " 167: '717582',\n",
       " 168: '717583',\n",
       " 169: '717580',\n",
       " 170: '716949',\n",
       " 171: '717587',\n",
       " 172: '772178',\n",
       " 173: '717585',\n",
       " 174: '716939',\n",
       " 175: '768469',\n",
       " 136: '765182',\n",
       " 177: '767554',\n",
       " 178: '773975',\n",
       " 179: '773974',\n",
       " 180: '717510',\n",
       " 181: '717513',\n",
       " 182: '717825',\n",
       " 183: '767495',\n",
       " 184: '767494',\n",
       " 185: '717821',\n",
       " 186: '717823',\n",
       " 187: '717458',\n",
       " 188: '717459',\n",
       " 189: '769926',\n",
       " 190: '764858',\n",
       " 191: '717450',\n",
       " 192: '717452',\n",
       " 193: '717453',\n",
       " 194: '759772',\n",
       " 195: '717456',\n",
       " 151: '765265',\n",
       " 197: '772167',\n",
       " 205: '718141',\n",
       " 199: '774204',\n",
       " 123: '767523',\n",
       " 201: '717590',\n",
       " 202: '717592',\n",
       " 203: '717595',\n",
       " 204: '772168',\n",
       " 198: '769372',\n",
       " 206: '769373'}"
      ]
     },
     "execution_count": 106,
     "metadata": {},
     "output_type": "execute_result"
    }
   ],
   "source": [
    "node_to_sensor = {node: sensor_id for sensor_id, node in sensor_nodes.items()}\n",
    "node_to_sensor"
   ]
  },
  {
   "cell_type": "code",
   "execution_count": 107,
   "id": "1d8d629e",
   "metadata": {},
   "outputs": [],
   "source": [
    "common_sensors = []\n",
    "\n",
    "for node, sensor in node_to_sensor.items():\n",
    "    if sensor in semantic_df[\"sensor_id\"].values:\n",
    "        common_sensors.append(sensor)"
   ]
  },
  {
   "cell_type": "code",
   "execution_count": 108,
   "id": "832c0614",
   "metadata": {},
   "outputs": [
    {
     "data": {
      "text/plain": [
       "180"
      ]
     },
     "execution_count": 108,
     "metadata": {},
     "output_type": "execute_result"
    }
   ],
   "source": [
    "len(common_sensors)"
   ]
  },
  {
   "cell_type": "code",
   "execution_count": 109,
   "id": "dce67379",
   "metadata": {},
   "outputs": [
    {
     "data": {
      "text/plain": [
       "True"
      ]
     },
     "execution_count": 109,
     "metadata": {},
     "output_type": "execute_result"
    }
   ],
   "source": [
    "common_sensors in semantic_df[\"sensor_id\"].values"
   ]
  },
  {
   "cell_type": "code",
   "execution_count": 110,
   "id": "01188256",
   "metadata": {},
   "outputs": [],
   "source": [
    "# Create a subgraph with only the nodes whose corresponding sensor_id is in common_sensors\n",
    "common_sensor_nodes = [node for node, sensor in node_to_sensor.items() if sensor in common_sensors]\n",
    "\n",
    "# Create the subgraph from the original graph G\n",
    "G = G.subgraph(common_sensor_nodes).copy()"
   ]
  },
  {
   "cell_type": "markdown",
   "id": "f383da97",
   "metadata": {},
   "source": [
    "### Attach semantic features to nodes"
   ]
  },
  {
   "cell_type": "code",
   "execution_count": 111,
   "id": "43000ee2",
   "metadata": {},
   "outputs": [],
   "source": [
    "for idx, row in semantic_df.iterrows():\n",
    "    node = sensor_nodes.get(row[\"sensor_id\"])\n",
    "    if node is not None:\n",
    "        for col in semantic_df.columns:\n",
    "            if col != \"sensor_id\":\n",
    "                G.nodes[node][col] = row[col]\n"
   ]
  },
  {
   "cell_type": "code",
   "execution_count": 112,
   "id": "1887ddf4",
   "metadata": {},
   "outputs": [],
   "source": [
    "# Remove all self-loops (edges from a node to itself)\n",
    "self_loops = list(nx.selfloop_edges(G))\n",
    "G.remove_edges_from(self_loops)"
   ]
  },
  {
   "cell_type": "code",
   "execution_count": 113,
   "id": "ce9535d4",
   "metadata": {},
   "outputs": [
    {
     "data": {
      "image/png": "[encoded data removed]",
      "text/plain": [
       "<Figure size 1000x800 with 1 Axes>"
      ]
     },
     "metadata": {},
     "output_type": "display_data"
    }
   ],
   "source": [
    "import networkx as nx\n",
    "import matplotlib.pyplot as plt\n",
    "\n",
    "# Assume G is your graph\n",
    "plt.figure(figsize=(10, 8))\n",
    "pos = nx.spring_layout(G, seed=42)  # You can also try nx.kamada_kawai_layout(G) for better spacing\n",
    "\n",
    "# Draw the graph with labels\n",
    "nx.draw(G, pos, with_labels=True, node_size=500, font_size=8, arrows=True)\n",
    "\n",
    "plt.title(\"Simple Graph Visualization\")\n",
    "plt.axis('off')\n",
    "plt.show()\n"
   ]
  },
  {
   "cell_type": "markdown",
   "id": "23adcb1e",
   "metadata": {},
   "source": [
    "### Normalize semantic features"
   ]
  },
  {
   "cell_type": "code",
   "execution_count": 115,
   "id": "c95b207a",
   "metadata": {},
   "outputs": [],
   "source": [
    "from sklearn.preprocessing import StandardScaler\n",
    "\n",
    "# Assume semantic_df has columns: sensor_id, max_speed, num_lanes, road_type\n",
    "semantic_encoded = pd.get_dummies(semantic_df, columns=[\"road_type\"]).astype(int)\n",
    "\n",
    "X = semantic_encoded[[\"max_speed\", \"num_lanes\"]]\n",
    "X_scaled = StandardScaler().fit_transform(X)\n",
    "semantic_encoded[[\"max_speed\", \"num_lanes\"]] = X_scaled"
   ]
  },
  {
   "cell_type": "code",
   "execution_count": 116,
   "id": "99c9f9e8",
   "metadata": {},
   "outputs": [
    {
     "data": {
      "text/html": [
       "<div>\n",
       "<style scoped>\n",
       "    .dataframe tbody tr th:only-of-type {\n",
       "        vertical-align: middle;\n",
       "    }\n",
       "\n",
       "    .dataframe tbody tr th {\n",
       "        vertical-align: top;\n",
       "    }\n",
       "\n",
       "    .dataframe thead th {\n",
       "        text-align: right;\n",
       "    }\n",
       "</style>\n",
       "<table border=\"1\" class=\"dataframe\">\n",
       "  <thead>\n",
       "    <tr style=\"text-align: right;\">\n",
       "      <th></th>\n",
       "      <th>sensor_id</th>\n",
       "      <th>max_speed</th>\n",
       "      <th>num_lanes</th>\n",
       "      <th>road_type_bridleway</th>\n",
       "      <th>road_type_cycleway</th>\n",
       "      <th>road_type_motorway</th>\n",
       "      <th>road_type_motorway_link</th>\n",
       "      <th>road_type_path</th>\n",
       "      <th>road_type_primary</th>\n",
       "      <th>road_type_residential</th>\n",
       "    </tr>\n",
       "  </thead>\n",
       "  <tbody>\n",
       "    <tr>\n",
       "      <th>0</th>\n",
       "      <td>773869</td>\n",
       "      <td>0.499567</td>\n",
       "      <td>0.535477</td>\n",
       "      <td>0</td>\n",
       "      <td>0</td>\n",
       "      <td>1</td>\n",
       "      <td>0</td>\n",
       "      <td>0</td>\n",
       "      <td>0</td>\n",
       "      <td>0</td>\n",
       "    </tr>\n",
       "    <tr>\n",
       "      <th>1</th>\n",
       "      <td>767541</td>\n",
       "      <td>0.499567</td>\n",
       "      <td>-0.189229</td>\n",
       "      <td>0</td>\n",
       "      <td>0</td>\n",
       "      <td>1</td>\n",
       "      <td>0</td>\n",
       "      <td>0</td>\n",
       "      <td>0</td>\n",
       "      <td>0</td>\n",
       "    </tr>\n",
       "    <tr>\n",
       "      <th>2</th>\n",
       "      <td>767542</td>\n",
       "      <td>0.499567</td>\n",
       "      <td>-0.189229</td>\n",
       "      <td>0</td>\n",
       "      <td>0</td>\n",
       "      <td>1</td>\n",
       "      <td>0</td>\n",
       "      <td>0</td>\n",
       "      <td>0</td>\n",
       "      <td>0</td>\n",
       "    </tr>\n",
       "    <tr>\n",
       "      <th>3</th>\n",
       "      <td>717447</td>\n",
       "      <td>-0.111317</td>\n",
       "      <td>-0.189229</td>\n",
       "      <td>0</td>\n",
       "      <td>0</td>\n",
       "      <td>1</td>\n",
       "      <td>0</td>\n",
       "      <td>0</td>\n",
       "      <td>0</td>\n",
       "      <td>0</td>\n",
       "    </tr>\n",
       "    <tr>\n",
       "      <th>4</th>\n",
       "      <td>717446</td>\n",
       "      <td>-0.111317</td>\n",
       "      <td>-0.189229</td>\n",
       "      <td>0</td>\n",
       "      <td>0</td>\n",
       "      <td>1</td>\n",
       "      <td>0</td>\n",
       "      <td>0</td>\n",
       "      <td>0</td>\n",
       "      <td>0</td>\n",
       "    </tr>\n",
       "    <tr>\n",
       "      <th>...</th>\n",
       "      <td>...</td>\n",
       "      <td>...</td>\n",
       "      <td>...</td>\n",
       "      <td>...</td>\n",
       "      <td>...</td>\n",
       "      <td>...</td>\n",
       "      <td>...</td>\n",
       "      <td>...</td>\n",
       "      <td>...</td>\n",
       "      <td>...</td>\n",
       "    </tr>\n",
       "    <tr>\n",
       "      <th>175</th>\n",
       "      <td>717592</td>\n",
       "      <td>0.499567</td>\n",
       "      <td>0.535477</td>\n",
       "      <td>0</td>\n",
       "      <td>0</td>\n",
       "      <td>1</td>\n",
       "      <td>0</td>\n",
       "      <td>0</td>\n",
       "      <td>0</td>\n",
       "      <td>0</td>\n",
       "    </tr>\n",
       "    <tr>\n",
       "      <th>176</th>\n",
       "      <td>717595</td>\n",
       "      <td>0.499567</td>\n",
       "      <td>0.535477</td>\n",
       "      <td>0</td>\n",
       "      <td>0</td>\n",
       "      <td>1</td>\n",
       "      <td>0</td>\n",
       "      <td>0</td>\n",
       "      <td>0</td>\n",
       "      <td>0</td>\n",
       "    </tr>\n",
       "    <tr>\n",
       "      <th>177</th>\n",
       "      <td>772168</td>\n",
       "      <td>0.499567</td>\n",
       "      <td>1.260182</td>\n",
       "      <td>0</td>\n",
       "      <td>0</td>\n",
       "      <td>1</td>\n",
       "      <td>0</td>\n",
       "      <td>0</td>\n",
       "      <td>0</td>\n",
       "      <td>0</td>\n",
       "    </tr>\n",
       "    <tr>\n",
       "      <th>178</th>\n",
       "      <td>718141</td>\n",
       "      <td>-0.111317</td>\n",
       "      <td>-0.913934</td>\n",
       "      <td>0</td>\n",
       "      <td>0</td>\n",
       "      <td>1</td>\n",
       "      <td>0</td>\n",
       "      <td>0</td>\n",
       "      <td>0</td>\n",
       "      <td>0</td>\n",
       "    </tr>\n",
       "    <tr>\n",
       "      <th>179</th>\n",
       "      <td>769373</td>\n",
       "      <td>-0.111317</td>\n",
       "      <td>-0.189229</td>\n",
       "      <td>0</td>\n",
       "      <td>0</td>\n",
       "      <td>1</td>\n",
       "      <td>0</td>\n",
       "      <td>0</td>\n",
       "      <td>0</td>\n",
       "      <td>0</td>\n",
       "    </tr>\n",
       "  </tbody>\n",
       "</table>\n",
       "<p>180 rows × 10 columns</p>\n",
       "</div>"
      ],
      "text/plain": [
       "     sensor_id  max_speed  num_lanes  road_type_bridleway  road_type_cycleway  \\\n",
       "0       773869   0.499567   0.535477                    0                   0   \n",
       "1       767541   0.499567  -0.189229                    0                   0   \n",
       "2       767542   0.499567  -0.189229                    0                   0   \n",
       "3       717447  -0.111317  -0.189229                    0                   0   \n",
       "4       717446  -0.111317  -0.189229                    0                   0   \n",
       "..         ...        ...        ...                  ...                 ...   \n",
       "175     717592   0.499567   0.535477                    0                   0   \n",
       "176     717595   0.499567   0.535477                    0                   0   \n",
       "177     772168   0.499567   1.260182                    0                   0   \n",
       "178     718141  -0.111317  -0.913934                    0                   0   \n",
       "179     769373  -0.111317  -0.189229                    0                   0   \n",
       "\n",
       "     road_type_motorway  road_type_motorway_link  road_type_path  \\\n",
       "0                     1                        0               0   \n",
       "1                     1                        0               0   \n",
       "2                     1                        0               0   \n",
       "3                     1                        0               0   \n",
       "4                     1                        0               0   \n",
       "..                  ...                      ...             ...   \n",
       "175                   1                        0               0   \n",
       "176                   1                        0               0   \n",
       "177                   1                        0               0   \n",
       "178                   1                        0               0   \n",
       "179                   1                        0               0   \n",
       "\n",
       "     road_type_primary  road_type_residential  \n",
       "0                    0                      0  \n",
       "1                    0                      0  \n",
       "2                    0                      0  \n",
       "3                    0                      0  \n",
       "4                    0                      0  \n",
       "..                 ...                    ...  \n",
       "175                  0                      0  \n",
       "176                  0                      0  \n",
       "177                  0                      0  \n",
       "178                  0                      0  \n",
       "179                  0                      0  \n",
       "\n",
       "[180 rows x 10 columns]"
      ]
     },
     "execution_count": 116,
     "metadata": {},
     "output_type": "execute_result"
    }
   ],
   "source": [
    "semantic_encoded"
   ]
  },
  {
   "cell_type": "code",
   "execution_count": 137,
   "id": "5d4b805b",
   "metadata": {},
   "outputs": [
    {
     "data": {
      "text/plain": [
       "array([[0.        , 0.72470557, 0.72470557, ..., 0.72470557, 1.5728862 ,\n",
       "        0.94782725],\n",
       "       [0.72470557, 0.        , 0.        , ..., 1.44941114, 0.94782725,\n",
       "        0.61088324],\n",
       "       [0.72470557, 0.        , 0.        , ..., 1.44941114, 0.94782725,\n",
       "        0.61088324],\n",
       "       ...,\n",
       "       [0.72470557, 1.44941114, 1.44941114, ..., 0.        , 2.25830951,\n",
       "        1.5728862 ],\n",
       "       [1.5728862 , 0.94782725, 0.94782725, ..., 2.25830951, 0.        ,\n",
       "        0.72470557],\n",
       "       [0.94782725, 0.61088324, 0.61088324, ..., 1.5728862 , 0.72470557,\n",
       "        0.        ]])"
      ]
     },
     "execution_count": 137,
     "metadata": {},
     "output_type": "execute_result"
    }
   ],
   "source": [
    "# Feature semantic distance\n",
    "from scipy.spatial.distance import pdist, squareform\n",
    "\n",
    "features = semantic_encoded.drop(columns=[\"sensor_id\"]).values\n",
    "semantic_features_matrix = squareform(pdist(features, metric=\"euclidean\"))\n",
    "semantic_features_matrix"
   ]
  },
  {
   "cell_type": "markdown",
   "id": "8259cf10",
   "metadata": {},
   "source": [
    "### Combine semantic and spatial features"
   ]
  },
  {
   "cell_type": "code",
   "execution_count": 138,
   "id": "f93d664c",
   "metadata": {},
   "outputs": [],
   "source": [
    "import numpy as np\n",
    "import scipy.sparse as sp\n",
    "\n",
    "# Step 1: Create reverse mapping from sensor_id → node index\n",
    "sensor_to_node = {v: k for k, v in node_to_sensor.items()}\n",
    "\n",
    "# Step 2: Create index list for reordering\n",
    "# These are the node indices in the order of common_sensors\n",
    "ordered_sensor_ids = semantic_df[\"sensor_id\"].values\n",
    "node_indices = [sensor_to_node[sensor_id] for sensor_id in ordered_sensor_ids if sensor_id in sensor_to_node]\n",
    "\n",
    "# Step 3: Reorder the adjacency matrix\n",
    "# Assuming `adj_matrix` is a scipy.sparse matrix (180x180)\n",
    "adj_matrix_reordered = adj[node_indices, :][:, node_indices]"
   ]
  },
  {
   "cell_type": "code",
   "execution_count": 139,
   "id": "0021c53f",
   "metadata": {},
   "outputs": [
    {
     "data": {
      "text/plain": [
       "180"
      ]
     },
     "execution_count": 139,
     "metadata": {},
     "output_type": "execute_result"
    }
   ],
   "source": [
    "len(node_indices)"
   ]
  },
  {
   "cell_type": "code",
   "execution_count": 140,
   "id": "e336e45c",
   "metadata": {},
   "outputs": [
    {
     "name": "stdout",
     "output_type": "stream",
     "text": [
      "0.0 1.0 0.022087533\n"
     ]
    }
   ],
   "source": [
    "print(np.min(adj_matrix_reordered), np.max(adj_matrix_reordered), np.mean(adj_matrix_reordered))\n"
   ]
  },
  {
   "cell_type": "code",
   "execution_count": 141,
   "id": "6e5c7cd4",
   "metadata": {},
   "outputs": [],
   "source": [
    "alpha = 0.5  # balance between semantic and physical (distance-based)\n",
    "combined_matrix = alpha * semantic_features_matrix + (1 - alpha) * adj_matrix_reordered"
   ]
  },
  {
   "cell_type": "code",
   "execution_count": 142,
   "id": "38d7c76c",
   "metadata": {},
   "outputs": [
    {
     "data": {
      "text/plain": [
       "array([[0.5       , 0.36235279, 0.36235279, ..., 0.36235279, 0.7864431 ,\n",
       "        0.47391363],\n",
       "       [0.36235279, 0.5       , 0.19547769, ..., 0.72470557, 0.47391363,\n",
       "        0.30544162],\n",
       "       [0.36235279, 0.35871896, 0.5       , ..., 0.72470557, 0.47391363,\n",
       "        0.30544162],\n",
       "       ...,\n",
       "       [0.36235279, 0.72470557, 0.72470557, ..., 0.5       , 1.12915475,\n",
       "        0.7864431 ],\n",
       "       [0.7864431 , 0.47391363, 0.47391363, ..., 1.12915475, 0.5       ,\n",
       "        0.36235279],\n",
       "       [0.47391363, 0.30544162, 0.30544162, ..., 0.7864431 , 0.36235279,\n",
       "        0.5       ]])"
      ]
     },
     "execution_count": 142,
     "metadata": {},
     "output_type": "execute_result"
    }
   ],
   "source": [
    "combined_matrix"
   ]
  },
  {
   "cell_type": "code",
   "execution_count": 149,
   "id": "564c8c7d",
   "metadata": {},
   "outputs": [],
   "source": [
    "from sklearn.cluster import AgglomerativeClustering\n",
    "\n",
    "# Use precomputed distance matrix\n",
    "model = AgglomerativeClustering(\n",
    "    n_clusters=10,  # Choose number of clusters\n",
    "    metric='precomputed',\n",
    "    linkage='average'  # or 'complete', 'single'\n",
    ")\n",
    "labels = model.fit_predict(adj_matrix_reordered)"
   ]
  },
  {
   "cell_type": "code",
   "execution_count": 150,
   "id": "c89459a3",
   "metadata": {},
   "outputs": [
    {
     "name": "stdout",
     "output_type": "stream",
     "text": [
      "Cluster 7: 716955, 716956, 717445, 717447, 717463, 717473, 717497, 717499, 717578, 717825, 718066, 718089, 718499, 737529, 761599, 764120, 765604, 767509, 767541, 767750, 768066, 769388, 769402, 769431, 772178, 772513, 772597, 773012, 773062, 773869, 773939, 773995, 774012\n",
      "Cluster 6: 716339, 716571, 716942, 716949, 716953, 716960, 717446, 717465, 717480, 717489, 717491, 717504, 717510, 717571, 717592, 717610, 717816, 717819, 718045, 765273, 767366, 767542, 767620, 769359, 769403, 773013, 773880, 773906, 773927\n",
      "Cluster 4: 716331, 716337, 716941, 716951, 717458, 717481, 717490, 717495, 717498, 717573, 717821, 718204, 718371, 759591, 760024, 760650, 763995, 764106, 764424, 767053, 767351, 767454, 767554, 767572, 769418, 769443, 772167, 773954\n",
      "Cluster 5: 716328, 716958, 717460, 717472, 717483, 717493, 717508, 717576, 717608, 717804, 717823, 718064, 718072, 718141, 761604, 764766, 767573, 769345, 769405, 769444, 771667, 772140, 772596, 773953, 773975, 774011\n",
      "Cluster 3: 716939, 717466, 717492, 717513, 717572, 717595, 717818, 718379, 761003, 764794, 764949, 765099, 765164, 765171, 765176, 767523, 767621, 767751, 769358, 772151, 773023, 773916, 773996, 774067\n",
      "Cluster 2: 716943, 717450, 717453, 717459, 717469, 717486, 717488, 717570, 718090, 759602, 762329, 764101, 764760, 764853, 767350, 767455, 767494, 769430, 769467, 773024, 773904\n",
      "Cluster 1: 717456, 717468, 717502, 764781, 764858, 765182, 765265, 769346, 772669, 773974\n",
      "Cluster 0: 717452, 717461, 717462, 767495, 768469, 771673, 772168\n",
      "Cluster 8: 769372\n",
      "Cluster 9: 769373\n"
     ]
    }
   ],
   "source": [
    "from collections import defaultdict\n",
    "\n",
    "\n",
    "pipe_clusters = dict(zip(sensor_ids, labels))\n",
    "\n",
    "clusters = defaultdict(list)\n",
    "# Example: print each pipe with its assigned cluster\n",
    "for pipe, cluster in pipe_clusters.items():\n",
    "    clusters[cluster].append(pipe)\n",
    "\n",
    "for cluster_id, pipes in clusters.items():\n",
    "    print(f\"Cluster {cluster_id}: {', '.join(sorted(pipes))}\")\n"
   ]
  }
 ],
 "metadata": {
  "kernelspec": {
   "display_name": "base",
   "language": "python",
   "name": "python3"
  },
  "language_info": {
   "codemirror_mode": {
    "name": "ipython",
    "version": 3
   },
   "file_extension": ".py",
   "mimetype": "text/x-python",
   "name": "python",
   "nbconvert_exporter": "python",
   "pygments_lexer": "ipython3",
   "version": "3.10.14"
  }
 },
 "nbformat": 4,
 "nbformat_minor": 5
}
