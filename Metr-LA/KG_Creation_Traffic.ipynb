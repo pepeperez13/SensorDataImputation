{
 "cells": [
  {
   "cell_type": "code",
   "execution_count": null,
   "metadata": {},
   "outputs": [
    {
     "name": "stdout",
     "output_type": "stream",
     "text": [
      "✅ TTL file generated: LA_traffic_KG.ttl\n"
     ]
    }
   ],
   "source": [
    "import pandas as pd\n",
    "\n",
    "# Load data\n",
    "sensor_df = pd.read_csv(\"sensor_semantics.csv\")\n",
    "distance_df = pd.read_csv(\"sensor_semantics_distances.csv\")\n",
    "\n",
    "# Define Turtle prefixes\n",
    "prefixes = \"\"\"@prefix : <http://example.org/traffic#> .\n",
    "@prefix rdf: <http://www.w3.org/1999/02/22-rdf-syntax-ns#> .\n",
    "@prefix xsd: <http://www.w3.org/2001/XMLSchema#> .\n",
    "\"\"\"\n",
    "\n",
    "ttl = prefixes\n",
    "\n",
    "# Sanitize string literals before inserting into TTL\n",
    "def escape_ttl_string(val):\n",
    "    return str(val).replace('\"', '\\\\\"').replace('\\n', ' ').strip()\n",
    "\n",
    "def make_uri_safe(val):\n",
    "    return str(val).replace(\" \", \"_\").replace(\"/\", \"_\").replace(\":\", \"_\")\n",
    "\n",
    "\n",
    "# Add TrafficSensor and RoadSegment instances with full property mappings\n",
    "for _, row in sensor_df.iterrows():\n",
    "    sensor_uri = f\":sensor_{row['sensor_id']}\"\n",
    "    road_uri = f\":road_{row['matched_road_id']}\"\n",
    "    \n",
    "    ttl += f\"{sensor_uri} rdf:type :TrafficSensor ;\\n\"\n",
    "    ttl += f\"    :installedOn {road_uri} .\\n\\n\"\n",
    "\n",
    "    ttl += f\"{road_uri} rdf:type :RoadSegment ;\\n\"\n",
    "    ttl += f\"    :roadType \\\"{escape_ttl_string(row['matched_road_type'])}\\\"^^xsd:string ;\\n\"\n",
    "    ttl += f\"    :maxSpeed \\\"{row['max_speed']}\\\"^^xsd:float ;\\n\"\n",
    "    ttl += f\"    :numberOfLanes \\\"{int(row['lanes'])}\\\"^^xsd:integer .\\n\\n\"\n",
    "\n",
    "# Add sensor-to-sensor networkDistance resources\n",
    "for _, row in distance_df.iterrows():\n",
    "    from_sensor_id = int(row['from'])\n",
    "    to_sensor_id = int(row['to'])\n",
    "    cost = row['cost']\n",
    "\n",
    "    from_sensor = f\":sensor_{from_sensor_id}\"\n",
    "    to_sensor = f\":sensor_{to_sensor_id}\"\n",
    "    dist_uri = f\":dist_{from_sensor_id}_{to_sensor_id}\"\n",
    "\n",
    "    ttl += f\"{dist_uri} a :NetworkDistance ;\\n\"\n",
    "    ttl += f\"    :fromSensor {from_sensor} ;\\n\"\n",
    "    ttl += f\"    :toSensor {to_sensor} ;\\n\"\n",
    "    ttl += f\"    :distanceValue \\\"{cost}\\\"^^xsd:float ;\\n\"\n",
    "    ttl += f\"    :distanceUnit \\\"meters\\\"^^xsd:string .\\n\\n\"\n",
    "\n",
    "\n",
    "# Write to TTL file\n",
    "with open(\"LA_traffic_KG.ttl\", \"w\") as f:\n",
    "    f.write(ttl)\n",
    "\n",
    "print(\"TTL file generated: LA_traffic_KG.ttl\")\n"
   ]
  }
 ],
 "metadata": {
  "kernelspec": {
   "display_name": "base",
   "language": "python",
   "name": "python3"
  },
  "language_info": {
   "codemirror_mode": {
    "name": "ipython",
    "version": 3
   },
   "file_extension": ".py",
   "mimetype": "text/x-python",
   "name": "python",
   "nbconvert_exporter": "python",
   "pygments_lexer": "ipython3",
   "version": "3.10.14"
  }
 },
 "nbformat": 4,
 "nbformat_minor": 2
}
