{
 "cells": [
  {
   "cell_type": "markdown",
   "metadata": {},
   "source": [
    "# LeakDB"
   ]
  },
  {
   "cell_type": "code",
   "execution_count": 83,
   "metadata": {},
   "outputs": [
    {
     "name": "stdout",
     "output_type": "stream",
     "text": [
      "<class 'dict'>\n"
     ]
    }
   ],
   "source": [
    "#Load data from all scenarios\n",
    "import pickle\n",
    "\n",
    "# Load dictionary from pickle file\n",
    "with open(\"scenario_data.pkl\", \"rb\") as f:\n",
    "    G = pickle.load(f)\n",
    "\n",
    "print(type(G)) "
   ]
  },
  {
   "cell_type": "code",
   "execution_count": 84,
   "metadata": {},
   "outputs": [
    {
     "name": "stdout",
     "output_type": "stream",
     "text": [
      "dict_keys(['1', '2', '3', '4', '5', '6', '7', '8', '9', '10'])\n"
     ]
    }
   ],
   "source": [
    "# Check structure\n",
    "print(G['Scenario'].keys()) "
   ]
  },
  {
   "cell_type": "code",
   "execution_count": 85,
   "metadata": {},
   "outputs": [
    {
     "name": "stdout",
     "output_type": "stream",
     "text": [
      "Scenario: Scenario\n",
      "  Subfolder: 1\n",
      "    File: Labels.csv\n",
      "    File: Scenario-1_info.csv\n",
      "    File: Demands\n",
      "    File: Flows\n",
      "    File: Leaks\n",
      "    File: Pressures\n",
      "  Subfolder: 2\n",
      "    File: Labels.csv\n",
      "    File: Scenario-2_info.csv\n",
      "    File: Demands\n",
      "    File: Flows\n",
      "    File: Leaks\n",
      "    File: Pressures\n",
      "  Subfolder: 3\n",
      "    File: Labels.csv\n",
      "    File: Scenario-3_info.csv\n",
      "    File: Demands\n",
      "    File: Flows\n",
      "    File: Leaks\n",
      "    File: Pressures\n"
     ]
    }
   ],
   "source": [
    "# Inspect the structure of the available data\n",
    "for scenario, scenario_data in G.items():\n",
    "    print(f\"Scenario: {scenario}\")  # Prints the scenario number\n",
    "    \n",
    "    for subfolder, subfolder_data in scenario_data.items():\n",
    "        if (int(subfolder) < 4):\n",
    "            print(f\"  Subfolder: {subfolder}\")  # Prints the subfolder name\n",
    "\n",
    "            for file, df in subfolder_data.items():\n",
    "                    print(f\"    File: {file}\")  # Prints the CSV filename\n",
    "        else:\n",
    "             break"
   ]
  },
  {
   "cell_type": "code",
   "execution_count": 86,
   "metadata": {},
   "outputs": [],
   "source": [
    "import pandas as pd\n",
    "\n",
    "#Processes demands, pressures, flows, and leaks for a given scenario in `G`.\n",
    "def process_df_node_data(scenario_dict):\n",
    "\n",
    "    demands_dict = scenario_dict.get(\"Demands\", {})\n",
    "    pressures_dict = scenario_dict.get(\"Pressures\", {})\n",
    "    flows_dict = scenario_dict.get(\"Flows\", {})\n",
    "    # gather data associated with nodes\n",
    "\n",
    "    nodes_data = []\n",
    "    for file_name in sorted(demands_dict.keys()):\n",
    "        if file_name in pressures_dict:\n",
    "            d_df = demands_dict[file_name]\n",
    "            p_df = pressures_dict[file_name]\n",
    "\n",
    "            # Merge on common node identifier (assuming \"NodeID\" column)\n",
    "            merged_df = d_df.merge(p_df, on=\"Timestamp\", suffixes=(\"_Demand\", \"_Pressure\"))                \n",
    "            merged_df.rename(columns={\"Value_Demand\": \"Demand\", \"Value_Pressure\": \"Pressure\", \"Description\": \"Leak_Demand\"}, inplace=True)\n",
    "            merged_df['node_id'] = file_name.replace('.csv', '')\n",
    "            nodes_data.append(merged_df)\n",
    "\n",
    "    # Combine all time-step data for demands and pressures\n",
    "    nodes_data = pd.concat(nodes_data, ignore_index=True) if nodes_data else None\n",
    "\n",
    "    # Gather data associated with pipes (links)\n",
    "    links_data = []\n",
    "    for file_name in sorted(flows_dict):\n",
    "        f_df = flows_dict[file_name]\n",
    "        f_df['link_id'] = file_name.replace('.csv', '')\n",
    "        links_data.append(f_df)\n",
    "\n",
    "    # Combine all time-step data for flows\n",
    "    links_data = pd.concat(links_data, ignore_index=True) if links_data else None\n",
    "\n",
    "    # Return structured data\n",
    "    return nodes_data, links_data"
   ]
  },
  {
   "cell_type": "code",
   "execution_count": 87,
   "metadata": {},
   "outputs": [],
   "source": [
    "# Save processed data from all scenarios in a single dictionary\n",
    "processed_scenarios = {}\n",
    "\n",
    "for scenario in G[\"Scenario\"]:\n",
    "    nodes_data, links_data = process_df_node_data(G[\"Scenario\"][scenario])\n",
    "    processed_scenarios[scenario] = {\"nodes\": nodes_data, \"links\": links_data}"
   ]
  },
  {
   "cell_type": "code",
   "execution_count": 88,
   "metadata": {},
   "outputs": [],
   "source": [
    "# Select one specific scenario for the EDA\n",
    "nodes_scenario1 = processed_scenarios[\"1\"]['nodes']\n",
    "links_scenario1 = processed_scenarios[\"1\"]['links']"
   ]
  },
  {
   "cell_type": "code",
   "execution_count": 89,
   "metadata": {},
   "outputs": [
    {
     "data": {
      "application/vnd.microsoft.datawrangler.viewer.v0+json": {
       "columns": [
        {
         "name": "index",
         "rawType": "int64",
         "type": "integer"
        },
        {
         "name": "Timestamp",
         "rawType": "object",
         "type": "string"
        },
        {
         "name": "Value",
         "rawType": "float64",
         "type": "float"
        },
        {
         "name": "link_id",
         "rawType": "object",
         "type": "string"
        }
       ],
       "conversionMethod": "pd.DataFrame",
       "ref": "593ee685-99e8-4753-9abb-c0ca763273b8",
       "rows": [
        [
         "0",
         "2017-01-01 00:00:00",
         "3405.6",
         "Link_1"
        ],
        [
         "1",
         "2017-01-01 00:30:00",
         "2970.0",
         "Link_1"
        ],
        [
         "2",
         "2017-01-01 01:00:00",
         "2656.8",
         "Link_1"
        ],
        [
         "3",
         "2017-01-01 01:30:00",
         "2401.2",
         "Link_1"
        ],
        [
         "4",
         "2017-01-01 02:00:00",
         "2199.6",
         "Link_1"
        ],
        [
         "5",
         "2017-01-01 02:30:00",
         "2142.0",
         "Link_1"
        ],
        [
         "6",
         "2017-01-01 03:00:00",
         "2142.0",
         "Link_1"
        ],
        [
         "7",
         "2017-01-01 03:30:00",
         "2271.6",
         "Link_1"
        ],
        [
         "8",
         "2017-01-01 04:00:00",
         "2534.4",
         "Link_1"
        ],
        [
         "9",
         "2017-01-01 04:30:00",
         "2797.2",
         "Link_1"
        ],
        [
         "10",
         "2017-01-01 05:00:00",
         "3283.2",
         "Link_1"
        ],
        [
         "11",
         "2017-01-01 05:30:00",
         "3654.0",
         "Link_1"
        ],
        [
         "12",
         "2017-01-01 06:00:00",
         "4273.2",
         "Link_1"
        ],
        [
         "13",
         "2017-01-01 06:30:00",
         "4838.4",
         "Link_1"
        ],
        [
         "14",
         "2017-01-01 07:00:00",
         "5374.8",
         "Link_1"
        ],
        [
         "15",
         "2017-01-01 07:30:00",
         "5889.6",
         "Link_1"
        ],
        [
         "16",
         "2017-01-01 08:00:00",
         "6336.0",
         "Link_1"
        ],
        [
         "17",
         "2017-01-01 08:30:00",
         "6843.6",
         "Link_1"
        ],
        [
         "18",
         "2017-01-01 09:00:00",
         "6955.2",
         "Link_1"
        ],
        [
         "19",
         "2017-01-01 09:30:00",
         "7369.2",
         "Link_1"
        ],
        [
         "20",
         "2017-01-01 10:00:00",
         "7491.6",
         "Link_1"
        ],
        [
         "21",
         "2017-01-01 10:30:00",
         "7300.8",
         "Link_1"
        ],
        [
         "22",
         "2017-01-01 11:00:00",
         "7246.8",
         "Link_1"
        ],
        [
         "23",
         "2017-01-01 11:30:00",
         "7016.4",
         "Link_1"
        ],
        [
         "24",
         "2017-01-01 12:00:00",
         "6724.8",
         "Link_1"
        ],
        [
         "25",
         "2017-01-01 12:30:00",
         "6526.8",
         "Link_1"
        ],
        [
         "26",
         "2017-01-01 13:00:00",
         "6181.2",
         "Link_1"
        ],
        [
         "27",
         "2017-01-01 13:30:00",
         "5839.2",
         "Link_1"
        ],
        [
         "28",
         "2017-01-01 14:00:00",
         "5659.2",
         "Link_1"
        ],
        [
         "29",
         "2017-01-01 14:30:00",
         "5270.4",
         "Link_1"
        ],
        [
         "30",
         "2017-01-01 15:00:00",
         "5148.0",
         "Link_1"
        ],
        [
         "31",
         "2017-01-01 15:30:00",
         "5007.6",
         "Link_1"
        ],
        [
         "32",
         "2017-01-01 16:00:00",
         "5058.0",
         "Link_1"
        ],
        [
         "33",
         "2017-01-01 16:30:00",
         "5032.8",
         "Link_1"
        ],
        [
         "34",
         "2017-01-01 17:00:00",
         "5184.0",
         "Link_1"
        ],
        [
         "35",
         "2017-01-01 17:30:00",
         "5389.2",
         "Link_1"
        ],
        [
         "36",
         "2017-01-01 18:00:00",
         "5583.6",
         "Link_1"
        ],
        [
         "37",
         "2017-01-01 18:30:00",
         "5871.6",
         "Link_1"
        ],
        [
         "38",
         "2017-01-01 19:00:00",
         "5871.6",
         "Link_1"
        ],
        [
         "39",
         "2017-01-01 19:30:00",
         "5940.0",
         "Link_1"
        ],
        [
         "40",
         "2017-01-01 20:00:00",
         "6141.6",
         "Link_1"
        ],
        [
         "41",
         "2017-01-01 20:30:00",
         "5954.4",
         "Link_1"
        ],
        [
         "42",
         "2017-01-01 21:00:00",
         "5846.4",
         "Link_1"
        ],
        [
         "43",
         "2017-01-01 21:30:00",
         "5709.6",
         "Link_1"
        ],
        [
         "44",
         "2017-01-01 22:00:00",
         "5324.4",
         "Link_1"
        ],
        [
         "45",
         "2017-01-01 22:30:00",
         "4964.4",
         "Link_1"
        ],
        [
         "46",
         "2017-01-01 23:00:00",
         "4471.2",
         "Link_1"
        ],
        [
         "47",
         "2017-01-01 23:30:00",
         "4132.8",
         "Link_1"
        ],
        [
         "48",
         "2017-01-02 00:00:00",
         "3574.8",
         "Link_1"
        ],
        [
         "49",
         "2017-01-02 00:30:00",
         "3204.0",
         "Link_1"
        ]
       ],
       "shape": {
        "columns": 3,
        "rows": 595680
       }
      },
      "text/html": [
       "<div>\n",
       "<style scoped>\n",
       "    .dataframe tbody tr th:only-of-type {\n",
       "        vertical-align: middle;\n",
       "    }\n",
       "\n",
       "    .dataframe tbody tr th {\n",
       "        vertical-align: top;\n",
       "    }\n",
       "\n",
       "    .dataframe thead th {\n",
       "        text-align: right;\n",
       "    }\n",
       "</style>\n",
       "<table border=\"1\" class=\"dataframe\">\n",
       "  <thead>\n",
       "    <tr style=\"text-align: right;\">\n",
       "      <th></th>\n",
       "      <th>Timestamp</th>\n",
       "      <th>Value</th>\n",
       "      <th>link_id</th>\n",
       "    </tr>\n",
       "  </thead>\n",
       "  <tbody>\n",
       "    <tr>\n",
       "      <th>0</th>\n",
       "      <td>2017-01-01 00:00:00</td>\n",
       "      <td>3405.6</td>\n",
       "      <td>Link_1</td>\n",
       "    </tr>\n",
       "    <tr>\n",
       "      <th>1</th>\n",
       "      <td>2017-01-01 00:30:00</td>\n",
       "      <td>2970.0</td>\n",
       "      <td>Link_1</td>\n",
       "    </tr>\n",
       "    <tr>\n",
       "      <th>2</th>\n",
       "      <td>2017-01-01 01:00:00</td>\n",
       "      <td>2656.8</td>\n",
       "      <td>Link_1</td>\n",
       "    </tr>\n",
       "    <tr>\n",
       "      <th>3</th>\n",
       "      <td>2017-01-01 01:30:00</td>\n",
       "      <td>2401.2</td>\n",
       "      <td>Link_1</td>\n",
       "    </tr>\n",
       "    <tr>\n",
       "      <th>4</th>\n",
       "      <td>2017-01-01 02:00:00</td>\n",
       "      <td>2199.6</td>\n",
       "      <td>Link_1</td>\n",
       "    </tr>\n",
       "    <tr>\n",
       "      <th>...</th>\n",
       "      <td>...</td>\n",
       "      <td>...</td>\n",
       "      <td>...</td>\n",
       "    </tr>\n",
       "    <tr>\n",
       "      <th>595675</th>\n",
       "      <td>2017-12-31 21:30:00</td>\n",
       "      <td>1047.6</td>\n",
       "      <td>Link_9</td>\n",
       "    </tr>\n",
       "    <tr>\n",
       "      <th>595676</th>\n",
       "      <td>2017-12-31 22:00:00</td>\n",
       "      <td>990.0</td>\n",
       "      <td>Link_9</td>\n",
       "    </tr>\n",
       "    <tr>\n",
       "      <th>595677</th>\n",
       "      <td>2017-12-31 22:30:00</td>\n",
       "      <td>932.4</td>\n",
       "      <td>Link_9</td>\n",
       "    </tr>\n",
       "    <tr>\n",
       "      <th>595678</th>\n",
       "      <td>2017-12-31 23:00:00</td>\n",
       "      <td>838.8</td>\n",
       "      <td>Link_9</td>\n",
       "    </tr>\n",
       "    <tr>\n",
       "      <th>595679</th>\n",
       "      <td>2017-12-31 23:30:00</td>\n",
       "      <td>756.0</td>\n",
       "      <td>Link_9</td>\n",
       "    </tr>\n",
       "  </tbody>\n",
       "</table>\n",
       "<p>595680 rows × 3 columns</p>\n",
       "</div>"
      ],
      "text/plain": [
       "                  Timestamp   Value link_id\n",
       "0       2017-01-01 00:00:00  3405.6  Link_1\n",
       "1       2017-01-01 00:30:00  2970.0  Link_1\n",
       "2       2017-01-01 01:00:00  2656.8  Link_1\n",
       "3       2017-01-01 01:30:00  2401.2  Link_1\n",
       "4       2017-01-01 02:00:00  2199.6  Link_1\n",
       "...                     ...     ...     ...\n",
       "595675  2017-12-31 21:30:00  1047.6  Link_9\n",
       "595676  2017-12-31 22:00:00   990.0  Link_9\n",
       "595677  2017-12-31 22:30:00   932.4  Link_9\n",
       "595678  2017-12-31 23:00:00   838.8  Link_9\n",
       "595679  2017-12-31 23:30:00   756.0  Link_9\n",
       "\n",
       "[595680 rows x 3 columns]"
      ]
     },
     "execution_count": 89,
     "metadata": {},
     "output_type": "execute_result"
    }
   ],
   "source": [
    "links_scenario1"
   ]
  },
  {
   "cell_type": "code",
   "execution_count": 90,
   "metadata": {},
   "outputs": [
    {
     "data": {
      "application/vnd.microsoft.datawrangler.viewer.v0+json": {
       "columns": [
        {
         "name": "index",
         "rawType": "int64",
         "type": "integer"
        },
        {
         "name": "Timestamp",
         "rawType": "object",
         "type": "string"
        },
        {
         "name": "measurement",
         "rawType": "float64",
         "type": "float"
        },
        {
         "name": "sensor_id",
         "rawType": "object",
         "type": "string"
        },
        {
         "name": "sensor_type",
         "rawType": "object",
         "type": "string"
        }
       ],
       "conversionMethod": "pd.DataFrame",
       "ref": "6929ea6f-e23f-49db-949e-1ea0023deff0",
       "rows": [
        [
         "0",
         "2017-01-01 00:00:00",
         "-3405.6",
         "Node_1_demand",
         "demand"
        ],
        [
         "1",
         "2017-01-01 00:30:00",
         "-2970.0",
         "Node_1_demand",
         "demand"
        ],
        [
         "2",
         "2017-01-01 01:00:00",
         "-2656.8",
         "Node_1_demand",
         "demand"
        ],
        [
         "3",
         "2017-01-01 01:30:00",
         "-2401.2",
         "Node_1_demand",
         "demand"
        ],
        [
         "4",
         "2017-01-01 02:00:00",
         "-2199.6",
         "Node_1_demand",
         "demand"
        ],
        [
         "5",
         "2017-01-01 02:30:00",
         "-2142.0",
         "Node_1_demand",
         "demand"
        ],
        [
         "6",
         "2017-01-01 03:00:00",
         "-2142.0",
         "Node_1_demand",
         "demand"
        ],
        [
         "7",
         "2017-01-01 03:30:00",
         "-2271.6",
         "Node_1_demand",
         "demand"
        ],
        [
         "8",
         "2017-01-01 04:00:00",
         "-2534.4",
         "Node_1_demand",
         "demand"
        ],
        [
         "9",
         "2017-01-01 04:30:00",
         "-2797.2",
         "Node_1_demand",
         "demand"
        ],
        [
         "10",
         "2017-01-01 05:00:00",
         "-3283.2",
         "Node_1_demand",
         "demand"
        ],
        [
         "11",
         "2017-01-01 05:30:00",
         "-3654.0",
         "Node_1_demand",
         "demand"
        ],
        [
         "12",
         "2017-01-01 06:00:00",
         "-4273.2",
         "Node_1_demand",
         "demand"
        ],
        [
         "13",
         "2017-01-01 06:30:00",
         "-4838.4",
         "Node_1_demand",
         "demand"
        ],
        [
         "14",
         "2017-01-01 07:00:00",
         "-5374.8",
         "Node_1_demand",
         "demand"
        ],
        [
         "15",
         "2017-01-01 07:30:00",
         "-5889.6",
         "Node_1_demand",
         "demand"
        ],
        [
         "16",
         "2017-01-01 08:00:00",
         "-6336.0",
         "Node_1_demand",
         "demand"
        ],
        [
         "17",
         "2017-01-01 08:30:00",
         "-6843.6",
         "Node_1_demand",
         "demand"
        ],
        [
         "18",
         "2017-01-01 09:00:00",
         "-6955.2",
         "Node_1_demand",
         "demand"
        ],
        [
         "19",
         "2017-01-01 09:30:00",
         "-7369.2",
         "Node_1_demand",
         "demand"
        ],
        [
         "20",
         "2017-01-01 10:00:00",
         "-7491.6",
         "Node_1_demand",
         "demand"
        ],
        [
         "21",
         "2017-01-01 10:30:00",
         "-7300.8",
         "Node_1_demand",
         "demand"
        ],
        [
         "22",
         "2017-01-01 11:00:00",
         "-7246.8",
         "Node_1_demand",
         "demand"
        ],
        [
         "23",
         "2017-01-01 11:30:00",
         "-7016.4",
         "Node_1_demand",
         "demand"
        ],
        [
         "24",
         "2017-01-01 12:00:00",
         "-6724.8",
         "Node_1_demand",
         "demand"
        ],
        [
         "25",
         "2017-01-01 12:30:00",
         "-6526.8",
         "Node_1_demand",
         "demand"
        ],
        [
         "26",
         "2017-01-01 13:00:00",
         "-6181.2",
         "Node_1_demand",
         "demand"
        ],
        [
         "27",
         "2017-01-01 13:30:00",
         "-5839.2",
         "Node_1_demand",
         "demand"
        ],
        [
         "28",
         "2017-01-01 14:00:00",
         "-5659.2",
         "Node_1_demand",
         "demand"
        ],
        [
         "29",
         "2017-01-01 14:30:00",
         "-5270.4",
         "Node_1_demand",
         "demand"
        ],
        [
         "30",
         "2017-01-01 15:00:00",
         "-5148.0",
         "Node_1_demand",
         "demand"
        ],
        [
         "31",
         "2017-01-01 15:30:00",
         "-5007.6",
         "Node_1_demand",
         "demand"
        ],
        [
         "32",
         "2017-01-01 16:00:00",
         "-5058.0",
         "Node_1_demand",
         "demand"
        ],
        [
         "33",
         "2017-01-01 16:30:00",
         "-5032.8",
         "Node_1_demand",
         "demand"
        ],
        [
         "34",
         "2017-01-01 17:00:00",
         "-5184.0",
         "Node_1_demand",
         "demand"
        ],
        [
         "35",
         "2017-01-01 17:30:00",
         "-5389.2",
         "Node_1_demand",
         "demand"
        ],
        [
         "36",
         "2017-01-01 18:00:00",
         "-5583.6",
         "Node_1_demand",
         "demand"
        ],
        [
         "37",
         "2017-01-01 18:30:00",
         "-5871.6",
         "Node_1_demand",
         "demand"
        ],
        [
         "38",
         "2017-01-01 19:00:00",
         "-5871.6",
         "Node_1_demand",
         "demand"
        ],
        [
         "39",
         "2017-01-01 19:30:00",
         "-5940.0",
         "Node_1_demand",
         "demand"
        ],
        [
         "40",
         "2017-01-01 20:00:00",
         "-6141.6",
         "Node_1_demand",
         "demand"
        ],
        [
         "41",
         "2017-01-01 20:30:00",
         "-5954.4",
         "Node_1_demand",
         "demand"
        ],
        [
         "42",
         "2017-01-01 21:00:00",
         "-5846.4",
         "Node_1_demand",
         "demand"
        ],
        [
         "43",
         "2017-01-01 21:30:00",
         "-5709.6",
         "Node_1_demand",
         "demand"
        ],
        [
         "44",
         "2017-01-01 22:00:00",
         "-5324.4",
         "Node_1_demand",
         "demand"
        ],
        [
         "45",
         "2017-01-01 22:30:00",
         "-4964.4",
         "Node_1_demand",
         "demand"
        ],
        [
         "46",
         "2017-01-01 23:00:00",
         "-4471.2",
         "Node_1_demand",
         "demand"
        ],
        [
         "47",
         "2017-01-01 23:30:00",
         "-4132.8",
         "Node_1_demand",
         "demand"
        ],
        [
         "48",
         "2017-01-02 00:00:00",
         "-3574.8",
         "Node_1_demand",
         "demand"
        ],
        [
         "49",
         "2017-01-02 00:30:00",
         "-3204.0",
         "Node_1_demand",
         "demand"
        ]
       ],
       "shape": {
        "columns": 4,
        "rows": 560640
       }
      },
      "text/html": [
       "<div>\n",
       "<style scoped>\n",
       "    .dataframe tbody tr th:only-of-type {\n",
       "        vertical-align: middle;\n",
       "    }\n",
       "\n",
       "    .dataframe tbody tr th {\n",
       "        vertical-align: top;\n",
       "    }\n",
       "\n",
       "    .dataframe thead th {\n",
       "        text-align: right;\n",
       "    }\n",
       "</style>\n",
       "<table border=\"1\" class=\"dataframe\">\n",
       "  <thead>\n",
       "    <tr style=\"text-align: right;\">\n",
       "      <th></th>\n",
       "      <th>Timestamp</th>\n",
       "      <th>measurement</th>\n",
       "      <th>sensor_id</th>\n",
       "      <th>sensor_type</th>\n",
       "    </tr>\n",
       "  </thead>\n",
       "  <tbody>\n",
       "    <tr>\n",
       "      <th>0</th>\n",
       "      <td>2017-01-01 00:00:00</td>\n",
       "      <td>-3405.6</td>\n",
       "      <td>Node_1_demand</td>\n",
       "      <td>demand</td>\n",
       "    </tr>\n",
       "    <tr>\n",
       "      <th>1</th>\n",
       "      <td>2017-01-01 00:30:00</td>\n",
       "      <td>-2970.0</td>\n",
       "      <td>Node_1_demand</td>\n",
       "      <td>demand</td>\n",
       "    </tr>\n",
       "    <tr>\n",
       "      <th>2</th>\n",
       "      <td>2017-01-01 01:00:00</td>\n",
       "      <td>-2656.8</td>\n",
       "      <td>Node_1_demand</td>\n",
       "      <td>demand</td>\n",
       "    </tr>\n",
       "    <tr>\n",
       "      <th>3</th>\n",
       "      <td>2017-01-01 01:30:00</td>\n",
       "      <td>-2401.2</td>\n",
       "      <td>Node_1_demand</td>\n",
       "      <td>demand</td>\n",
       "    </tr>\n",
       "    <tr>\n",
       "      <th>4</th>\n",
       "      <td>2017-01-01 02:00:00</td>\n",
       "      <td>-2199.6</td>\n",
       "      <td>Node_1_demand</td>\n",
       "      <td>demand</td>\n",
       "    </tr>\n",
       "    <tr>\n",
       "      <th>...</th>\n",
       "      <td>...</td>\n",
       "      <td>...</td>\n",
       "      <td>...</td>\n",
       "      <td>...</td>\n",
       "    </tr>\n",
       "    <tr>\n",
       "      <th>560635</th>\n",
       "      <td>2017-12-31 21:30:00</td>\n",
       "      <td>140.4</td>\n",
       "      <td>Node_9_demand</td>\n",
       "      <td>demand</td>\n",
       "    </tr>\n",
       "    <tr>\n",
       "      <th>560636</th>\n",
       "      <td>2017-12-31 22:00:00</td>\n",
       "      <td>126.0</td>\n",
       "      <td>Node_9_demand</td>\n",
       "      <td>demand</td>\n",
       "    </tr>\n",
       "    <tr>\n",
       "      <th>560637</th>\n",
       "      <td>2017-12-31 22:30:00</td>\n",
       "      <td>122.4</td>\n",
       "      <td>Node_9_demand</td>\n",
       "      <td>demand</td>\n",
       "    </tr>\n",
       "    <tr>\n",
       "      <th>560638</th>\n",
       "      <td>2017-12-31 23:00:00</td>\n",
       "      <td>118.8</td>\n",
       "      <td>Node_9_demand</td>\n",
       "      <td>demand</td>\n",
       "    </tr>\n",
       "    <tr>\n",
       "      <th>560639</th>\n",
       "      <td>2017-12-31 23:30:00</td>\n",
       "      <td>97.2</td>\n",
       "      <td>Node_9_demand</td>\n",
       "      <td>demand</td>\n",
       "    </tr>\n",
       "  </tbody>\n",
       "</table>\n",
       "<p>560640 rows × 4 columns</p>\n",
       "</div>"
      ],
      "text/plain": [
       "                  Timestamp  measurement      sensor_id sensor_type\n",
       "0       2017-01-01 00:00:00      -3405.6  Node_1_demand      demand\n",
       "1       2017-01-01 00:30:00      -2970.0  Node_1_demand      demand\n",
       "2       2017-01-01 01:00:00      -2656.8  Node_1_demand      demand\n",
       "3       2017-01-01 01:30:00      -2401.2  Node_1_demand      demand\n",
       "4       2017-01-01 02:00:00      -2199.6  Node_1_demand      demand\n",
       "...                     ...          ...            ...         ...\n",
       "560635  2017-12-31 21:30:00        140.4  Node_9_demand      demand\n",
       "560636  2017-12-31 22:00:00        126.0  Node_9_demand      demand\n",
       "560637  2017-12-31 22:30:00        122.4  Node_9_demand      demand\n",
       "560638  2017-12-31 23:00:00        118.8  Node_9_demand      demand\n",
       "560639  2017-12-31 23:30:00         97.2  Node_9_demand      demand\n",
       "\n",
       "[560640 rows x 4 columns]"
      ]
     },
     "execution_count": 90,
     "metadata": {},
     "output_type": "execute_result"
    }
   ],
   "source": [
    "# Create df with unique identifiers for each sensor measurement, regarding demands\n",
    "demands_scenario1 = []\n",
    "demands_scenario1 = nodes_scenario1.drop(columns = \"Pressure\")\n",
    "demands_scenario1[\"sensor_id\"] = (demands_scenario1[\"node_id\"] + \"_demand\")\n",
    "demands_scenario1 = demands_scenario1.drop(columns = \"node_id\").rename(columns = {\"Demand\": \"measurement\"})\n",
    "demands_scenario1[\"sensor_type\"] = \"demand\"\n",
    "demands_scenario1"
   ]
  },
  {
   "cell_type": "code",
   "execution_count": 91,
   "metadata": {},
   "outputs": [
    {
     "data": {
      "application/vnd.microsoft.datawrangler.viewer.v0+json": {
       "columns": [
        {
         "name": "index",
         "rawType": "int64",
         "type": "integer"
        },
        {
         "name": "Timestamp",
         "rawType": "object",
         "type": "string"
        },
        {
         "name": "measurement",
         "rawType": "float64",
         "type": "float"
        },
        {
         "name": "sensor_id",
         "rawType": "object",
         "type": "string"
        },
        {
         "name": "sensor_type",
         "rawType": "object",
         "type": "string"
        }
       ],
       "conversionMethod": "pd.DataFrame",
       "ref": "104f3339-2870-43fd-a3f1-41c2a036e3d5",
       "rows": [
        [
         "0",
         "2017-01-01 00:00:00",
         "0.0",
         "Node_1_pressure",
         "pressure"
        ],
        [
         "1",
         "2017-01-01 00:30:00",
         "0.0",
         "Node_1_pressure",
         "pressure"
        ],
        [
         "2",
         "2017-01-01 01:00:00",
         "0.0",
         "Node_1_pressure",
         "pressure"
        ],
        [
         "3",
         "2017-01-01 01:30:00",
         "0.0",
         "Node_1_pressure",
         "pressure"
        ],
        [
         "4",
         "2017-01-01 02:00:00",
         "0.0",
         "Node_1_pressure",
         "pressure"
        ],
        [
         "5",
         "2017-01-01 02:30:00",
         "0.0",
         "Node_1_pressure",
         "pressure"
        ],
        [
         "6",
         "2017-01-01 03:00:00",
         "0.0",
         "Node_1_pressure",
         "pressure"
        ],
        [
         "7",
         "2017-01-01 03:30:00",
         "0.0",
         "Node_1_pressure",
         "pressure"
        ],
        [
         "8",
         "2017-01-01 04:00:00",
         "0.0",
         "Node_1_pressure",
         "pressure"
        ],
        [
         "9",
         "2017-01-01 04:30:00",
         "0.0",
         "Node_1_pressure",
         "pressure"
        ],
        [
         "10",
         "2017-01-01 05:00:00",
         "0.0",
         "Node_1_pressure",
         "pressure"
        ],
        [
         "11",
         "2017-01-01 05:30:00",
         "0.0",
         "Node_1_pressure",
         "pressure"
        ],
        [
         "12",
         "2017-01-01 06:00:00",
         "0.0",
         "Node_1_pressure",
         "pressure"
        ],
        [
         "13",
         "2017-01-01 06:30:00",
         "0.0",
         "Node_1_pressure",
         "pressure"
        ],
        [
         "14",
         "2017-01-01 07:00:00",
         "0.0",
         "Node_1_pressure",
         "pressure"
        ],
        [
         "15",
         "2017-01-01 07:30:00",
         "0.0",
         "Node_1_pressure",
         "pressure"
        ],
        [
         "16",
         "2017-01-01 08:00:00",
         "0.0",
         "Node_1_pressure",
         "pressure"
        ],
        [
         "17",
         "2017-01-01 08:30:00",
         "0.0",
         "Node_1_pressure",
         "pressure"
        ],
        [
         "18",
         "2017-01-01 09:00:00",
         "0.0",
         "Node_1_pressure",
         "pressure"
        ],
        [
         "19",
         "2017-01-01 09:30:00",
         "0.0",
         "Node_1_pressure",
         "pressure"
        ],
        [
         "20",
         "2017-01-01 10:00:00",
         "0.0",
         "Node_1_pressure",
         "pressure"
        ],
        [
         "21",
         "2017-01-01 10:30:00",
         "0.0",
         "Node_1_pressure",
         "pressure"
        ],
        [
         "22",
         "2017-01-01 11:00:00",
         "0.0",
         "Node_1_pressure",
         "pressure"
        ],
        [
         "23",
         "2017-01-01 11:30:00",
         "0.0",
         "Node_1_pressure",
         "pressure"
        ],
        [
         "24",
         "2017-01-01 12:00:00",
         "0.0",
         "Node_1_pressure",
         "pressure"
        ],
        [
         "25",
         "2017-01-01 12:30:00",
         "0.0",
         "Node_1_pressure",
         "pressure"
        ],
        [
         "26",
         "2017-01-01 13:00:00",
         "0.0",
         "Node_1_pressure",
         "pressure"
        ],
        [
         "27",
         "2017-01-01 13:30:00",
         "0.0",
         "Node_1_pressure",
         "pressure"
        ],
        [
         "28",
         "2017-01-01 14:00:00",
         "0.0",
         "Node_1_pressure",
         "pressure"
        ],
        [
         "29",
         "2017-01-01 14:30:00",
         "0.0",
         "Node_1_pressure",
         "pressure"
        ],
        [
         "30",
         "2017-01-01 15:00:00",
         "0.0",
         "Node_1_pressure",
         "pressure"
        ],
        [
         "31",
         "2017-01-01 15:30:00",
         "0.0",
         "Node_1_pressure",
         "pressure"
        ],
        [
         "32",
         "2017-01-01 16:00:00",
         "0.0",
         "Node_1_pressure",
         "pressure"
        ],
        [
         "33",
         "2017-01-01 16:30:00",
         "0.0",
         "Node_1_pressure",
         "pressure"
        ],
        [
         "34",
         "2017-01-01 17:00:00",
         "0.0",
         "Node_1_pressure",
         "pressure"
        ],
        [
         "35",
         "2017-01-01 17:30:00",
         "0.0",
         "Node_1_pressure",
         "pressure"
        ],
        [
         "36",
         "2017-01-01 18:00:00",
         "0.0",
         "Node_1_pressure",
         "pressure"
        ],
        [
         "37",
         "2017-01-01 18:30:00",
         "0.0",
         "Node_1_pressure",
         "pressure"
        ],
        [
         "38",
         "2017-01-01 19:00:00",
         "0.0",
         "Node_1_pressure",
         "pressure"
        ],
        [
         "39",
         "2017-01-01 19:30:00",
         "0.0",
         "Node_1_pressure",
         "pressure"
        ],
        [
         "40",
         "2017-01-01 20:00:00",
         "0.0",
         "Node_1_pressure",
         "pressure"
        ],
        [
         "41",
         "2017-01-01 20:30:00",
         "0.0",
         "Node_1_pressure",
         "pressure"
        ],
        [
         "42",
         "2017-01-01 21:00:00",
         "0.0",
         "Node_1_pressure",
         "pressure"
        ],
        [
         "43",
         "2017-01-01 21:30:00",
         "0.0",
         "Node_1_pressure",
         "pressure"
        ],
        [
         "44",
         "2017-01-01 22:00:00",
         "0.0",
         "Node_1_pressure",
         "pressure"
        ],
        [
         "45",
         "2017-01-01 22:30:00",
         "0.0",
         "Node_1_pressure",
         "pressure"
        ],
        [
         "46",
         "2017-01-01 23:00:00",
         "0.0",
         "Node_1_pressure",
         "pressure"
        ],
        [
         "47",
         "2017-01-01 23:30:00",
         "0.0",
         "Node_1_pressure",
         "pressure"
        ],
        [
         "48",
         "2017-01-02 00:00:00",
         "0.0",
         "Node_1_pressure",
         "pressure"
        ],
        [
         "49",
         "2017-01-02 00:30:00",
         "0.0",
         "Node_1_pressure",
         "pressure"
        ]
       ],
       "shape": {
        "columns": 4,
        "rows": 560640
       }
      },
      "text/html": [
       "<div>\n",
       "<style scoped>\n",
       "    .dataframe tbody tr th:only-of-type {\n",
       "        vertical-align: middle;\n",
       "    }\n",
       "\n",
       "    .dataframe tbody tr th {\n",
       "        vertical-align: top;\n",
       "    }\n",
       "\n",
       "    .dataframe thead th {\n",
       "        text-align: right;\n",
       "    }\n",
       "</style>\n",
       "<table border=\"1\" class=\"dataframe\">\n",
       "  <thead>\n",
       "    <tr style=\"text-align: right;\">\n",
       "      <th></th>\n",
       "      <th>Timestamp</th>\n",
       "      <th>measurement</th>\n",
       "      <th>sensor_id</th>\n",
       "      <th>sensor_type</th>\n",
       "    </tr>\n",
       "  </thead>\n",
       "  <tbody>\n",
       "    <tr>\n",
       "      <th>0</th>\n",
       "      <td>2017-01-01 00:00:00</td>\n",
       "      <td>0.000</td>\n",
       "      <td>Node_1_pressure</td>\n",
       "      <td>pressure</td>\n",
       "    </tr>\n",
       "    <tr>\n",
       "      <th>1</th>\n",
       "      <td>2017-01-01 00:30:00</td>\n",
       "      <td>0.000</td>\n",
       "      <td>Node_1_pressure</td>\n",
       "      <td>pressure</td>\n",
       "    </tr>\n",
       "    <tr>\n",
       "      <th>2</th>\n",
       "      <td>2017-01-01 01:00:00</td>\n",
       "      <td>0.000</td>\n",
       "      <td>Node_1_pressure</td>\n",
       "      <td>pressure</td>\n",
       "    </tr>\n",
       "    <tr>\n",
       "      <th>3</th>\n",
       "      <td>2017-01-01 01:30:00</td>\n",
       "      <td>0.000</td>\n",
       "      <td>Node_1_pressure</td>\n",
       "      <td>pressure</td>\n",
       "    </tr>\n",
       "    <tr>\n",
       "      <th>4</th>\n",
       "      <td>2017-01-01 02:00:00</td>\n",
       "      <td>0.000</td>\n",
       "      <td>Node_1_pressure</td>\n",
       "      <td>pressure</td>\n",
       "    </tr>\n",
       "    <tr>\n",
       "      <th>...</th>\n",
       "      <td>...</td>\n",
       "      <td>...</td>\n",
       "      <td>...</td>\n",
       "      <td>...</td>\n",
       "    </tr>\n",
       "    <tr>\n",
       "      <th>560635</th>\n",
       "      <td>2017-12-31 21:30:00</td>\n",
       "      <td>62.525</td>\n",
       "      <td>Node_9_pressure</td>\n",
       "      <td>pressure</td>\n",
       "    </tr>\n",
       "    <tr>\n",
       "      <th>560636</th>\n",
       "      <td>2017-12-31 22:00:00</td>\n",
       "      <td>63.275</td>\n",
       "      <td>Node_9_pressure</td>\n",
       "      <td>pressure</td>\n",
       "    </tr>\n",
       "    <tr>\n",
       "      <th>560637</th>\n",
       "      <td>2017-12-31 22:30:00</td>\n",
       "      <td>64.155</td>\n",
       "      <td>Node_9_pressure</td>\n",
       "      <td>pressure</td>\n",
       "    </tr>\n",
       "    <tr>\n",
       "      <th>560638</th>\n",
       "      <td>2017-12-31 23:00:00</td>\n",
       "      <td>64.956</td>\n",
       "      <td>Node_9_pressure</td>\n",
       "      <td>pressure</td>\n",
       "    </tr>\n",
       "    <tr>\n",
       "      <th>560639</th>\n",
       "      <td>2017-12-31 23:30:00</td>\n",
       "      <td>65.915</td>\n",
       "      <td>Node_9_pressure</td>\n",
       "      <td>pressure</td>\n",
       "    </tr>\n",
       "  </tbody>\n",
       "</table>\n",
       "<p>560640 rows × 4 columns</p>\n",
       "</div>"
      ],
      "text/plain": [
       "                  Timestamp  measurement        sensor_id sensor_type\n",
       "0       2017-01-01 00:00:00        0.000  Node_1_pressure    pressure\n",
       "1       2017-01-01 00:30:00        0.000  Node_1_pressure    pressure\n",
       "2       2017-01-01 01:00:00        0.000  Node_1_pressure    pressure\n",
       "3       2017-01-01 01:30:00        0.000  Node_1_pressure    pressure\n",
       "4       2017-01-01 02:00:00        0.000  Node_1_pressure    pressure\n",
       "...                     ...          ...              ...         ...\n",
       "560635  2017-12-31 21:30:00       62.525  Node_9_pressure    pressure\n",
       "560636  2017-12-31 22:00:00       63.275  Node_9_pressure    pressure\n",
       "560637  2017-12-31 22:30:00       64.155  Node_9_pressure    pressure\n",
       "560638  2017-12-31 23:00:00       64.956  Node_9_pressure    pressure\n",
       "560639  2017-12-31 23:30:00       65.915  Node_9_pressure    pressure\n",
       "\n",
       "[560640 rows x 4 columns]"
      ]
     },
     "execution_count": 91,
     "metadata": {},
     "output_type": "execute_result"
    }
   ],
   "source": [
    "# Create df with unique identifiers for each sensor measurement, regarding pressures\n",
    "pressures_scenario1 = []\n",
    "pressures_scenario1 = nodes_scenario1.drop(columns = \"Demand\")\n",
    "pressures_scenario1[\"sensor_id\"] = (pressures_scenario1[\"node_id\"] + \"_pressure\")\n",
    "pressures_scenario1 = pressures_scenario1.drop(columns = \"node_id\").rename(columns = {\"Pressure\": \"measurement\"})\n",
    "pressures_scenario1[\"sensor_type\"] = \"pressure\"\n",
    "pressures_scenario1"
   ]
  },
  {
   "cell_type": "code",
   "execution_count": 92,
   "metadata": {},
   "outputs": [
    {
     "data": {
      "application/vnd.microsoft.datawrangler.viewer.v0+json": {
       "columns": [
        {
         "name": "index",
         "rawType": "int64",
         "type": "integer"
        },
        {
         "name": "Timestamp",
         "rawType": "object",
         "type": "string"
        },
        {
         "name": "measurement",
         "rawType": "float64",
         "type": "float"
        },
        {
         "name": "sensor_id",
         "rawType": "object",
         "type": "string"
        },
        {
         "name": "sensor_type",
         "rawType": "object",
         "type": "string"
        }
       ],
       "conversionMethod": "pd.DataFrame",
       "ref": "b3232fa1-9521-4210-89a5-d0824bfbb26d",
       "rows": [
        [
         "0",
         "2017-01-01 00:00:00",
         "3405.6",
         "Link_1_flow",
         "flow"
        ],
        [
         "1",
         "2017-01-01 00:30:00",
         "2970.0",
         "Link_1_flow",
         "flow"
        ],
        [
         "2",
         "2017-01-01 01:00:00",
         "2656.8",
         "Link_1_flow",
         "flow"
        ],
        [
         "3",
         "2017-01-01 01:30:00",
         "2401.2",
         "Link_1_flow",
         "flow"
        ],
        [
         "4",
         "2017-01-01 02:00:00",
         "2199.6",
         "Link_1_flow",
         "flow"
        ],
        [
         "5",
         "2017-01-01 02:30:00",
         "2142.0",
         "Link_1_flow",
         "flow"
        ],
        [
         "6",
         "2017-01-01 03:00:00",
         "2142.0",
         "Link_1_flow",
         "flow"
        ],
        [
         "7",
         "2017-01-01 03:30:00",
         "2271.6",
         "Link_1_flow",
         "flow"
        ],
        [
         "8",
         "2017-01-01 04:00:00",
         "2534.4",
         "Link_1_flow",
         "flow"
        ],
        [
         "9",
         "2017-01-01 04:30:00",
         "2797.2",
         "Link_1_flow",
         "flow"
        ],
        [
         "10",
         "2017-01-01 05:00:00",
         "3283.2",
         "Link_1_flow",
         "flow"
        ],
        [
         "11",
         "2017-01-01 05:30:00",
         "3654.0",
         "Link_1_flow",
         "flow"
        ],
        [
         "12",
         "2017-01-01 06:00:00",
         "4273.2",
         "Link_1_flow",
         "flow"
        ],
        [
         "13",
         "2017-01-01 06:30:00",
         "4838.4",
         "Link_1_flow",
         "flow"
        ],
        [
         "14",
         "2017-01-01 07:00:00",
         "5374.8",
         "Link_1_flow",
         "flow"
        ],
        [
         "15",
         "2017-01-01 07:30:00",
         "5889.6",
         "Link_1_flow",
         "flow"
        ],
        [
         "16",
         "2017-01-01 08:00:00",
         "6336.0",
         "Link_1_flow",
         "flow"
        ],
        [
         "17",
         "2017-01-01 08:30:00",
         "6843.6",
         "Link_1_flow",
         "flow"
        ],
        [
         "18",
         "2017-01-01 09:00:00",
         "6955.2",
         "Link_1_flow",
         "flow"
        ],
        [
         "19",
         "2017-01-01 09:30:00",
         "7369.2",
         "Link_1_flow",
         "flow"
        ],
        [
         "20",
         "2017-01-01 10:00:00",
         "7491.6",
         "Link_1_flow",
         "flow"
        ],
        [
         "21",
         "2017-01-01 10:30:00",
         "7300.8",
         "Link_1_flow",
         "flow"
        ],
        [
         "22",
         "2017-01-01 11:00:00",
         "7246.8",
         "Link_1_flow",
         "flow"
        ],
        [
         "23",
         "2017-01-01 11:30:00",
         "7016.4",
         "Link_1_flow",
         "flow"
        ],
        [
         "24",
         "2017-01-01 12:00:00",
         "6724.8",
         "Link_1_flow",
         "flow"
        ],
        [
         "25",
         "2017-01-01 12:30:00",
         "6526.8",
         "Link_1_flow",
         "flow"
        ],
        [
         "26",
         "2017-01-01 13:00:00",
         "6181.2",
         "Link_1_flow",
         "flow"
        ],
        [
         "27",
         "2017-01-01 13:30:00",
         "5839.2",
         "Link_1_flow",
         "flow"
        ],
        [
         "28",
         "2017-01-01 14:00:00",
         "5659.2",
         "Link_1_flow",
         "flow"
        ],
        [
         "29",
         "2017-01-01 14:30:00",
         "5270.4",
         "Link_1_flow",
         "flow"
        ],
        [
         "30",
         "2017-01-01 15:00:00",
         "5148.0",
         "Link_1_flow",
         "flow"
        ],
        [
         "31",
         "2017-01-01 15:30:00",
         "5007.6",
         "Link_1_flow",
         "flow"
        ],
        [
         "32",
         "2017-01-01 16:00:00",
         "5058.0",
         "Link_1_flow",
         "flow"
        ],
        [
         "33",
         "2017-01-01 16:30:00",
         "5032.8",
         "Link_1_flow",
         "flow"
        ],
        [
         "34",
         "2017-01-01 17:00:00",
         "5184.0",
         "Link_1_flow",
         "flow"
        ],
        [
         "35",
         "2017-01-01 17:30:00",
         "5389.2",
         "Link_1_flow",
         "flow"
        ],
        [
         "36",
         "2017-01-01 18:00:00",
         "5583.6",
         "Link_1_flow",
         "flow"
        ],
        [
         "37",
         "2017-01-01 18:30:00",
         "5871.6",
         "Link_1_flow",
         "flow"
        ],
        [
         "38",
         "2017-01-01 19:00:00",
         "5871.6",
         "Link_1_flow",
         "flow"
        ],
        [
         "39",
         "2017-01-01 19:30:00",
         "5940.0",
         "Link_1_flow",
         "flow"
        ],
        [
         "40",
         "2017-01-01 20:00:00",
         "6141.6",
         "Link_1_flow",
         "flow"
        ],
        [
         "41",
         "2017-01-01 20:30:00",
         "5954.4",
         "Link_1_flow",
         "flow"
        ],
        [
         "42",
         "2017-01-01 21:00:00",
         "5846.4",
         "Link_1_flow",
         "flow"
        ],
        [
         "43",
         "2017-01-01 21:30:00",
         "5709.6",
         "Link_1_flow",
         "flow"
        ],
        [
         "44",
         "2017-01-01 22:00:00",
         "5324.4",
         "Link_1_flow",
         "flow"
        ],
        [
         "45",
         "2017-01-01 22:30:00",
         "4964.4",
         "Link_1_flow",
         "flow"
        ],
        [
         "46",
         "2017-01-01 23:00:00",
         "4471.2",
         "Link_1_flow",
         "flow"
        ],
        [
         "47",
         "2017-01-01 23:30:00",
         "4132.8",
         "Link_1_flow",
         "flow"
        ],
        [
         "48",
         "2017-01-02 00:00:00",
         "3574.8",
         "Link_1_flow",
         "flow"
        ],
        [
         "49",
         "2017-01-02 00:30:00",
         "3204.0",
         "Link_1_flow",
         "flow"
        ]
       ],
       "shape": {
        "columns": 4,
        "rows": 595680
       }
      },
      "text/html": [
       "<div>\n",
       "<style scoped>\n",
       "    .dataframe tbody tr th:only-of-type {\n",
       "        vertical-align: middle;\n",
       "    }\n",
       "\n",
       "    .dataframe tbody tr th {\n",
       "        vertical-align: top;\n",
       "    }\n",
       "\n",
       "    .dataframe thead th {\n",
       "        text-align: right;\n",
       "    }\n",
       "</style>\n",
       "<table border=\"1\" class=\"dataframe\">\n",
       "  <thead>\n",
       "    <tr style=\"text-align: right;\">\n",
       "      <th></th>\n",
       "      <th>Timestamp</th>\n",
       "      <th>measurement</th>\n",
       "      <th>sensor_id</th>\n",
       "      <th>sensor_type</th>\n",
       "    </tr>\n",
       "  </thead>\n",
       "  <tbody>\n",
       "    <tr>\n",
       "      <th>0</th>\n",
       "      <td>2017-01-01 00:00:00</td>\n",
       "      <td>3405.6</td>\n",
       "      <td>Link_1_flow</td>\n",
       "      <td>flow</td>\n",
       "    </tr>\n",
       "    <tr>\n",
       "      <th>1</th>\n",
       "      <td>2017-01-01 00:30:00</td>\n",
       "      <td>2970.0</td>\n",
       "      <td>Link_1_flow</td>\n",
       "      <td>flow</td>\n",
       "    </tr>\n",
       "    <tr>\n",
       "      <th>2</th>\n",
       "      <td>2017-01-01 01:00:00</td>\n",
       "      <td>2656.8</td>\n",
       "      <td>Link_1_flow</td>\n",
       "      <td>flow</td>\n",
       "    </tr>\n",
       "    <tr>\n",
       "      <th>3</th>\n",
       "      <td>2017-01-01 01:30:00</td>\n",
       "      <td>2401.2</td>\n",
       "      <td>Link_1_flow</td>\n",
       "      <td>flow</td>\n",
       "    </tr>\n",
       "    <tr>\n",
       "      <th>4</th>\n",
       "      <td>2017-01-01 02:00:00</td>\n",
       "      <td>2199.6</td>\n",
       "      <td>Link_1_flow</td>\n",
       "      <td>flow</td>\n",
       "    </tr>\n",
       "    <tr>\n",
       "      <th>...</th>\n",
       "      <td>...</td>\n",
       "      <td>...</td>\n",
       "      <td>...</td>\n",
       "      <td>...</td>\n",
       "    </tr>\n",
       "    <tr>\n",
       "      <th>595675</th>\n",
       "      <td>2017-12-31 21:30:00</td>\n",
       "      <td>1047.6</td>\n",
       "      <td>Link_9_flow</td>\n",
       "      <td>flow</td>\n",
       "    </tr>\n",
       "    <tr>\n",
       "      <th>595676</th>\n",
       "      <td>2017-12-31 22:00:00</td>\n",
       "      <td>990.0</td>\n",
       "      <td>Link_9_flow</td>\n",
       "      <td>flow</td>\n",
       "    </tr>\n",
       "    <tr>\n",
       "      <th>595677</th>\n",
       "      <td>2017-12-31 22:30:00</td>\n",
       "      <td>932.4</td>\n",
       "      <td>Link_9_flow</td>\n",
       "      <td>flow</td>\n",
       "    </tr>\n",
       "    <tr>\n",
       "      <th>595678</th>\n",
       "      <td>2017-12-31 23:00:00</td>\n",
       "      <td>838.8</td>\n",
       "      <td>Link_9_flow</td>\n",
       "      <td>flow</td>\n",
       "    </tr>\n",
       "    <tr>\n",
       "      <th>595679</th>\n",
       "      <td>2017-12-31 23:30:00</td>\n",
       "      <td>756.0</td>\n",
       "      <td>Link_9_flow</td>\n",
       "      <td>flow</td>\n",
       "    </tr>\n",
       "  </tbody>\n",
       "</table>\n",
       "<p>595680 rows × 4 columns</p>\n",
       "</div>"
      ],
      "text/plain": [
       "                  Timestamp  measurement    sensor_id sensor_type\n",
       "0       2017-01-01 00:00:00       3405.6  Link_1_flow        flow\n",
       "1       2017-01-01 00:30:00       2970.0  Link_1_flow        flow\n",
       "2       2017-01-01 01:00:00       2656.8  Link_1_flow        flow\n",
       "3       2017-01-01 01:30:00       2401.2  Link_1_flow        flow\n",
       "4       2017-01-01 02:00:00       2199.6  Link_1_flow        flow\n",
       "...                     ...          ...          ...         ...\n",
       "595675  2017-12-31 21:30:00       1047.6  Link_9_flow        flow\n",
       "595676  2017-12-31 22:00:00        990.0  Link_9_flow        flow\n",
       "595677  2017-12-31 22:30:00        932.4  Link_9_flow        flow\n",
       "595678  2017-12-31 23:00:00        838.8  Link_9_flow        flow\n",
       "595679  2017-12-31 23:30:00        756.0  Link_9_flow        flow\n",
       "\n",
       "[595680 rows x 4 columns]"
      ]
     },
     "execution_count": 92,
     "metadata": {},
     "output_type": "execute_result"
    }
   ],
   "source": [
    "# Create df with unique identifiers for each sensor measurement, regarding flows\n",
    "flows_scenario1 = links_scenario1.copy()\n",
    "flows_scenario1[\"sensor_id\"] = (links_scenario1[\"link_id\"] + \"_flow\")\n",
    "flows_scenario1 = flows_scenario1.drop(columns = \"link_id\").rename(columns = {\"Value\": \"measurement\"})\n",
    "flows_scenario1[\"sensor_type\"] = \"flow\"\n",
    "flows_scenario1"
   ]
  },
  {
   "cell_type": "code",
   "execution_count": 93,
   "metadata": {},
   "outputs": [
    {
     "data": {
      "application/vnd.microsoft.datawrangler.viewer.v0+json": {
       "columns": [
        {
         "name": "index",
         "rawType": "int64",
         "type": "integer"
        },
        {
         "name": "Timestamp",
         "rawType": "object",
         "type": "string"
        },
        {
         "name": "measurement",
         "rawType": "float64",
         "type": "float"
        },
        {
         "name": "sensor_id",
         "rawType": "object",
         "type": "string"
        },
        {
         "name": "sensor_type",
         "rawType": "object",
         "type": "string"
        }
       ],
       "conversionMethod": "pd.DataFrame",
       "ref": "f6b583a0-5d5d-42df-9f2d-c9e239bb60e3",
       "rows": [
        [
         "0",
         "2017-01-01 00:00:00",
         "3405.6",
         "Link_1_flow",
         "flow"
        ],
        [
         "1",
         "2017-01-01 00:30:00",
         "2970.0",
         "Link_1_flow",
         "flow"
        ],
        [
         "2",
         "2017-01-01 01:00:00",
         "2656.8",
         "Link_1_flow",
         "flow"
        ],
        [
         "3",
         "2017-01-01 01:30:00",
         "2401.2",
         "Link_1_flow",
         "flow"
        ],
        [
         "4",
         "2017-01-01 02:00:00",
         "2199.6",
         "Link_1_flow",
         "flow"
        ],
        [
         "5",
         "2017-01-01 02:30:00",
         "2142.0",
         "Link_1_flow",
         "flow"
        ],
        [
         "6",
         "2017-01-01 03:00:00",
         "2142.0",
         "Link_1_flow",
         "flow"
        ],
        [
         "7",
         "2017-01-01 03:30:00",
         "2271.6",
         "Link_1_flow",
         "flow"
        ],
        [
         "8",
         "2017-01-01 04:00:00",
         "2534.4",
         "Link_1_flow",
         "flow"
        ],
        [
         "9",
         "2017-01-01 04:30:00",
         "2797.2",
         "Link_1_flow",
         "flow"
        ],
        [
         "10",
         "2017-01-01 05:00:00",
         "3283.2",
         "Link_1_flow",
         "flow"
        ],
        [
         "11",
         "2017-01-01 05:30:00",
         "3654.0",
         "Link_1_flow",
         "flow"
        ],
        [
         "12",
         "2017-01-01 06:00:00",
         "4273.2",
         "Link_1_flow",
         "flow"
        ],
        [
         "13",
         "2017-01-01 06:30:00",
         "4838.4",
         "Link_1_flow",
         "flow"
        ],
        [
         "14",
         "2017-01-01 07:00:00",
         "5374.8",
         "Link_1_flow",
         "flow"
        ],
        [
         "15",
         "2017-01-01 07:30:00",
         "5889.6",
         "Link_1_flow",
         "flow"
        ],
        [
         "16",
         "2017-01-01 08:00:00",
         "6336.0",
         "Link_1_flow",
         "flow"
        ],
        [
         "17",
         "2017-01-01 08:30:00",
         "6843.6",
         "Link_1_flow",
         "flow"
        ],
        [
         "18",
         "2017-01-01 09:00:00",
         "6955.2",
         "Link_1_flow",
         "flow"
        ],
        [
         "19",
         "2017-01-01 09:30:00",
         "7369.2",
         "Link_1_flow",
         "flow"
        ],
        [
         "20",
         "2017-01-01 10:00:00",
         "7491.6",
         "Link_1_flow",
         "flow"
        ],
        [
         "21",
         "2017-01-01 10:30:00",
         "7300.8",
         "Link_1_flow",
         "flow"
        ],
        [
         "22",
         "2017-01-01 11:00:00",
         "7246.8",
         "Link_1_flow",
         "flow"
        ],
        [
         "23",
         "2017-01-01 11:30:00",
         "7016.4",
         "Link_1_flow",
         "flow"
        ],
        [
         "24",
         "2017-01-01 12:00:00",
         "6724.8",
         "Link_1_flow",
         "flow"
        ],
        [
         "25",
         "2017-01-01 12:30:00",
         "6526.8",
         "Link_1_flow",
         "flow"
        ],
        [
         "26",
         "2017-01-01 13:00:00",
         "6181.2",
         "Link_1_flow",
         "flow"
        ],
        [
         "27",
         "2017-01-01 13:30:00",
         "5839.2",
         "Link_1_flow",
         "flow"
        ],
        [
         "28",
         "2017-01-01 14:00:00",
         "5659.2",
         "Link_1_flow",
         "flow"
        ],
        [
         "29",
         "2017-01-01 14:30:00",
         "5270.4",
         "Link_1_flow",
         "flow"
        ],
        [
         "30",
         "2017-01-01 15:00:00",
         "5148.0",
         "Link_1_flow",
         "flow"
        ],
        [
         "31",
         "2017-01-01 15:30:00",
         "5007.6",
         "Link_1_flow",
         "flow"
        ],
        [
         "32",
         "2017-01-01 16:00:00",
         "5058.0",
         "Link_1_flow",
         "flow"
        ],
        [
         "33",
         "2017-01-01 16:30:00",
         "5032.8",
         "Link_1_flow",
         "flow"
        ],
        [
         "34",
         "2017-01-01 17:00:00",
         "5184.0",
         "Link_1_flow",
         "flow"
        ],
        [
         "35",
         "2017-01-01 17:30:00",
         "5389.2",
         "Link_1_flow",
         "flow"
        ],
        [
         "36",
         "2017-01-01 18:00:00",
         "5583.6",
         "Link_1_flow",
         "flow"
        ],
        [
         "37",
         "2017-01-01 18:30:00",
         "5871.6",
         "Link_1_flow",
         "flow"
        ],
        [
         "38",
         "2017-01-01 19:00:00",
         "5871.6",
         "Link_1_flow",
         "flow"
        ],
        [
         "39",
         "2017-01-01 19:30:00",
         "5940.0",
         "Link_1_flow",
         "flow"
        ],
        [
         "40",
         "2017-01-01 20:00:00",
         "6141.6",
         "Link_1_flow",
         "flow"
        ],
        [
         "41",
         "2017-01-01 20:30:00",
         "5954.4",
         "Link_1_flow",
         "flow"
        ],
        [
         "42",
         "2017-01-01 21:00:00",
         "5846.4",
         "Link_1_flow",
         "flow"
        ],
        [
         "43",
         "2017-01-01 21:30:00",
         "5709.6",
         "Link_1_flow",
         "flow"
        ],
        [
         "44",
         "2017-01-01 22:00:00",
         "5324.4",
         "Link_1_flow",
         "flow"
        ],
        [
         "45",
         "2017-01-01 22:30:00",
         "4964.4",
         "Link_1_flow",
         "flow"
        ],
        [
         "46",
         "2017-01-01 23:00:00",
         "4471.2",
         "Link_1_flow",
         "flow"
        ],
        [
         "47",
         "2017-01-01 23:30:00",
         "4132.8",
         "Link_1_flow",
         "flow"
        ],
        [
         "48",
         "2017-01-02 00:00:00",
         "3574.8",
         "Link_1_flow",
         "flow"
        ],
        [
         "49",
         "2017-01-02 00:30:00",
         "3204.0",
         "Link_1_flow",
         "flow"
        ]
       ],
       "shape": {
        "columns": 4,
        "rows": 595680
       }
      },
      "text/html": [
       "<div>\n",
       "<style scoped>\n",
       "    .dataframe tbody tr th:only-of-type {\n",
       "        vertical-align: middle;\n",
       "    }\n",
       "\n",
       "    .dataframe tbody tr th {\n",
       "        vertical-align: top;\n",
       "    }\n",
       "\n",
       "    .dataframe thead th {\n",
       "        text-align: right;\n",
       "    }\n",
       "</style>\n",
       "<table border=\"1\" class=\"dataframe\">\n",
       "  <thead>\n",
       "    <tr style=\"text-align: right;\">\n",
       "      <th></th>\n",
       "      <th>Timestamp</th>\n",
       "      <th>measurement</th>\n",
       "      <th>sensor_id</th>\n",
       "      <th>sensor_type</th>\n",
       "    </tr>\n",
       "  </thead>\n",
       "  <tbody>\n",
       "    <tr>\n",
       "      <th>0</th>\n",
       "      <td>2017-01-01 00:00:00</td>\n",
       "      <td>3405.6</td>\n",
       "      <td>Link_1_flow</td>\n",
       "      <td>flow</td>\n",
       "    </tr>\n",
       "    <tr>\n",
       "      <th>1</th>\n",
       "      <td>2017-01-01 00:30:00</td>\n",
       "      <td>2970.0</td>\n",
       "      <td>Link_1_flow</td>\n",
       "      <td>flow</td>\n",
       "    </tr>\n",
       "    <tr>\n",
       "      <th>2</th>\n",
       "      <td>2017-01-01 01:00:00</td>\n",
       "      <td>2656.8</td>\n",
       "      <td>Link_1_flow</td>\n",
       "      <td>flow</td>\n",
       "    </tr>\n",
       "    <tr>\n",
       "      <th>3</th>\n",
       "      <td>2017-01-01 01:30:00</td>\n",
       "      <td>2401.2</td>\n",
       "      <td>Link_1_flow</td>\n",
       "      <td>flow</td>\n",
       "    </tr>\n",
       "    <tr>\n",
       "      <th>4</th>\n",
       "      <td>2017-01-01 02:00:00</td>\n",
       "      <td>2199.6</td>\n",
       "      <td>Link_1_flow</td>\n",
       "      <td>flow</td>\n",
       "    </tr>\n",
       "    <tr>\n",
       "      <th>...</th>\n",
       "      <td>...</td>\n",
       "      <td>...</td>\n",
       "      <td>...</td>\n",
       "      <td>...</td>\n",
       "    </tr>\n",
       "    <tr>\n",
       "      <th>595675</th>\n",
       "      <td>2017-12-31 21:30:00</td>\n",
       "      <td>1047.6</td>\n",
       "      <td>Link_9_flow</td>\n",
       "      <td>flow</td>\n",
       "    </tr>\n",
       "    <tr>\n",
       "      <th>595676</th>\n",
       "      <td>2017-12-31 22:00:00</td>\n",
       "      <td>990.0</td>\n",
       "      <td>Link_9_flow</td>\n",
       "      <td>flow</td>\n",
       "    </tr>\n",
       "    <tr>\n",
       "      <th>595677</th>\n",
       "      <td>2017-12-31 22:30:00</td>\n",
       "      <td>932.4</td>\n",
       "      <td>Link_9_flow</td>\n",
       "      <td>flow</td>\n",
       "    </tr>\n",
       "    <tr>\n",
       "      <th>595678</th>\n",
       "      <td>2017-12-31 23:00:00</td>\n",
       "      <td>838.8</td>\n",
       "      <td>Link_9_flow</td>\n",
       "      <td>flow</td>\n",
       "    </tr>\n",
       "    <tr>\n",
       "      <th>595679</th>\n",
       "      <td>2017-12-31 23:30:00</td>\n",
       "      <td>756.0</td>\n",
       "      <td>Link_9_flow</td>\n",
       "      <td>flow</td>\n",
       "    </tr>\n",
       "  </tbody>\n",
       "</table>\n",
       "<p>595680 rows × 4 columns</p>\n",
       "</div>"
      ],
      "text/plain": [
       "                  Timestamp  measurement    sensor_id sensor_type\n",
       "0       2017-01-01 00:00:00       3405.6  Link_1_flow        flow\n",
       "1       2017-01-01 00:30:00       2970.0  Link_1_flow        flow\n",
       "2       2017-01-01 01:00:00       2656.8  Link_1_flow        flow\n",
       "3       2017-01-01 01:30:00       2401.2  Link_1_flow        flow\n",
       "4       2017-01-01 02:00:00       2199.6  Link_1_flow        flow\n",
       "...                     ...          ...          ...         ...\n",
       "595675  2017-12-31 21:30:00       1047.6  Link_9_flow        flow\n",
       "595676  2017-12-31 22:00:00        990.0  Link_9_flow        flow\n",
       "595677  2017-12-31 22:30:00        932.4  Link_9_flow        flow\n",
       "595678  2017-12-31 23:00:00        838.8  Link_9_flow        flow\n",
       "595679  2017-12-31 23:30:00        756.0  Link_9_flow        flow\n",
       "\n",
       "[595680 rows x 4 columns]"
      ]
     },
     "execution_count": 93,
     "metadata": {},
     "output_type": "execute_result"
    }
   ],
   "source": [
    "# Create df with unique identifiers for each sensor measurement, regarding flows\n",
    "flows_scenario1 = links_scenario1.copy()\n",
    "flows_scenario1[\"sensor_id\"] = (links_scenario1[\"link_id\"] + \"_flow\")\n",
    "flows_scenario1 = flows_scenario1.drop(columns = \"link_id\").rename(columns = {\"Value\": \"measurement\"})\n",
    "flows_scenario1[\"sensor_type\"] = \"flow\"\n",
    "flows_scenario1"
   ]
  },
  {
   "cell_type": "code",
   "execution_count": 94,
   "metadata": {},
   "outputs": [
    {
     "data": {
      "application/vnd.microsoft.datawrangler.viewer.v0+json": {
       "columns": [
        {
         "name": "index",
         "rawType": "int64",
         "type": "integer"
        },
        {
         "name": "Timestamp",
         "rawType": "object",
         "type": "string"
        },
        {
         "name": "measurement",
         "rawType": "float64",
         "type": "float"
        },
        {
         "name": "sensor_id",
         "rawType": "object",
         "type": "string"
        },
        {
         "name": "sensor_type",
         "rawType": "object",
         "type": "string"
        },
        {
         "name": "unique_id",
         "rawType": "object",
         "type": "string"
        }
       ],
       "conversionMethod": "pd.DataFrame",
       "ref": "ebb5df3b-d156-400f-9b7a-334cd6db28be",
       "rows": [
        [
         "0",
         "2017-01-01 00:00:00",
         "-3405.6",
         "Node_1_demand",
         "demand",
         "Node_1_demand_2017-01-01 00:00:00"
        ],
        [
         "1",
         "2017-01-01 00:30:00",
         "-2970.0",
         "Node_1_demand",
         "demand",
         "Node_1_demand_2017-01-01 00:30:00"
        ],
        [
         "2",
         "2017-01-01 01:00:00",
         "-2656.8",
         "Node_1_demand",
         "demand",
         "Node_1_demand_2017-01-01 01:00:00"
        ],
        [
         "3",
         "2017-01-01 01:30:00",
         "-2401.2",
         "Node_1_demand",
         "demand",
         "Node_1_demand_2017-01-01 01:30:00"
        ],
        [
         "4",
         "2017-01-01 02:00:00",
         "-2199.6",
         "Node_1_demand",
         "demand",
         "Node_1_demand_2017-01-01 02:00:00"
        ],
        [
         "5",
         "2017-01-01 02:30:00",
         "-2142.0",
         "Node_1_demand",
         "demand",
         "Node_1_demand_2017-01-01 02:30:00"
        ],
        [
         "6",
         "2017-01-01 03:00:00",
         "-2142.0",
         "Node_1_demand",
         "demand",
         "Node_1_demand_2017-01-01 03:00:00"
        ],
        [
         "7",
         "2017-01-01 03:30:00",
         "-2271.6",
         "Node_1_demand",
         "demand",
         "Node_1_demand_2017-01-01 03:30:00"
        ],
        [
         "8",
         "2017-01-01 04:00:00",
         "-2534.4",
         "Node_1_demand",
         "demand",
         "Node_1_demand_2017-01-01 04:00:00"
        ],
        [
         "9",
         "2017-01-01 04:30:00",
         "-2797.2",
         "Node_1_demand",
         "demand",
         "Node_1_demand_2017-01-01 04:30:00"
        ],
        [
         "10",
         "2017-01-01 05:00:00",
         "-3283.2",
         "Node_1_demand",
         "demand",
         "Node_1_demand_2017-01-01 05:00:00"
        ],
        [
         "11",
         "2017-01-01 05:30:00",
         "-3654.0",
         "Node_1_demand",
         "demand",
         "Node_1_demand_2017-01-01 05:30:00"
        ],
        [
         "12",
         "2017-01-01 06:00:00",
         "-4273.2",
         "Node_1_demand",
         "demand",
         "Node_1_demand_2017-01-01 06:00:00"
        ],
        [
         "13",
         "2017-01-01 06:30:00",
         "-4838.4",
         "Node_1_demand",
         "demand",
         "Node_1_demand_2017-01-01 06:30:00"
        ],
        [
         "14",
         "2017-01-01 07:00:00",
         "-5374.8",
         "Node_1_demand",
         "demand",
         "Node_1_demand_2017-01-01 07:00:00"
        ],
        [
         "15",
         "2017-01-01 07:30:00",
         "-5889.6",
         "Node_1_demand",
         "demand",
         "Node_1_demand_2017-01-01 07:30:00"
        ],
        [
         "16",
         "2017-01-01 08:00:00",
         "-6336.0",
         "Node_1_demand",
         "demand",
         "Node_1_demand_2017-01-01 08:00:00"
        ],
        [
         "17",
         "2017-01-01 08:30:00",
         "-6843.6",
         "Node_1_demand",
         "demand",
         "Node_1_demand_2017-01-01 08:30:00"
        ],
        [
         "18",
         "2017-01-01 09:00:00",
         "-6955.2",
         "Node_1_demand",
         "demand",
         "Node_1_demand_2017-01-01 09:00:00"
        ],
        [
         "19",
         "2017-01-01 09:30:00",
         "-7369.2",
         "Node_1_demand",
         "demand",
         "Node_1_demand_2017-01-01 09:30:00"
        ],
        [
         "20",
         "2017-01-01 10:00:00",
         "-7491.6",
         "Node_1_demand",
         "demand",
         "Node_1_demand_2017-01-01 10:00:00"
        ],
        [
         "21",
         "2017-01-01 10:30:00",
         "-7300.8",
         "Node_1_demand",
         "demand",
         "Node_1_demand_2017-01-01 10:30:00"
        ],
        [
         "22",
         "2017-01-01 11:00:00",
         "-7246.8",
         "Node_1_demand",
         "demand",
         "Node_1_demand_2017-01-01 11:00:00"
        ],
        [
         "23",
         "2017-01-01 11:30:00",
         "-7016.4",
         "Node_1_demand",
         "demand",
         "Node_1_demand_2017-01-01 11:30:00"
        ],
        [
         "24",
         "2017-01-01 12:00:00",
         "-6724.8",
         "Node_1_demand",
         "demand",
         "Node_1_demand_2017-01-01 12:00:00"
        ],
        [
         "25",
         "2017-01-01 12:30:00",
         "-6526.8",
         "Node_1_demand",
         "demand",
         "Node_1_demand_2017-01-01 12:30:00"
        ],
        [
         "26",
         "2017-01-01 13:00:00",
         "-6181.2",
         "Node_1_demand",
         "demand",
         "Node_1_demand_2017-01-01 13:00:00"
        ],
        [
         "27",
         "2017-01-01 13:30:00",
         "-5839.2",
         "Node_1_demand",
         "demand",
         "Node_1_demand_2017-01-01 13:30:00"
        ],
        [
         "28",
         "2017-01-01 14:00:00",
         "-5659.2",
         "Node_1_demand",
         "demand",
         "Node_1_demand_2017-01-01 14:00:00"
        ],
        [
         "29",
         "2017-01-01 14:30:00",
         "-5270.4",
         "Node_1_demand",
         "demand",
         "Node_1_demand_2017-01-01 14:30:00"
        ],
        [
         "30",
         "2017-01-01 15:00:00",
         "-5148.0",
         "Node_1_demand",
         "demand",
         "Node_1_demand_2017-01-01 15:00:00"
        ],
        [
         "31",
         "2017-01-01 15:30:00",
         "-5007.6",
         "Node_1_demand",
         "demand",
         "Node_1_demand_2017-01-01 15:30:00"
        ],
        [
         "32",
         "2017-01-01 16:00:00",
         "-5058.0",
         "Node_1_demand",
         "demand",
         "Node_1_demand_2017-01-01 16:00:00"
        ],
        [
         "33",
         "2017-01-01 16:30:00",
         "-5032.8",
         "Node_1_demand",
         "demand",
         "Node_1_demand_2017-01-01 16:30:00"
        ],
        [
         "34",
         "2017-01-01 17:00:00",
         "-5184.0",
         "Node_1_demand",
         "demand",
         "Node_1_demand_2017-01-01 17:00:00"
        ],
        [
         "35",
         "2017-01-01 17:30:00",
         "-5389.2",
         "Node_1_demand",
         "demand",
         "Node_1_demand_2017-01-01 17:30:00"
        ],
        [
         "36",
         "2017-01-01 18:00:00",
         "-5583.6",
         "Node_1_demand",
         "demand",
         "Node_1_demand_2017-01-01 18:00:00"
        ],
        [
         "37",
         "2017-01-01 18:30:00",
         "-5871.6",
         "Node_1_demand",
         "demand",
         "Node_1_demand_2017-01-01 18:30:00"
        ],
        [
         "38",
         "2017-01-01 19:00:00",
         "-5871.6",
         "Node_1_demand",
         "demand",
         "Node_1_demand_2017-01-01 19:00:00"
        ],
        [
         "39",
         "2017-01-01 19:30:00",
         "-5940.0",
         "Node_1_demand",
         "demand",
         "Node_1_demand_2017-01-01 19:30:00"
        ],
        [
         "40",
         "2017-01-01 20:00:00",
         "-6141.6",
         "Node_1_demand",
         "demand",
         "Node_1_demand_2017-01-01 20:00:00"
        ],
        [
         "41",
         "2017-01-01 20:30:00",
         "-5954.4",
         "Node_1_demand",
         "demand",
         "Node_1_demand_2017-01-01 20:30:00"
        ],
        [
         "42",
         "2017-01-01 21:00:00",
         "-5846.4",
         "Node_1_demand",
         "demand",
         "Node_1_demand_2017-01-01 21:00:00"
        ],
        [
         "43",
         "2017-01-01 21:30:00",
         "-5709.6",
         "Node_1_demand",
         "demand",
         "Node_1_demand_2017-01-01 21:30:00"
        ],
        [
         "44",
         "2017-01-01 22:00:00",
         "-5324.4",
         "Node_1_demand",
         "demand",
         "Node_1_demand_2017-01-01 22:00:00"
        ],
        [
         "45",
         "2017-01-01 22:30:00",
         "-4964.4",
         "Node_1_demand",
         "demand",
         "Node_1_demand_2017-01-01 22:30:00"
        ],
        [
         "46",
         "2017-01-01 23:00:00",
         "-4471.2",
         "Node_1_demand",
         "demand",
         "Node_1_demand_2017-01-01 23:00:00"
        ],
        [
         "47",
         "2017-01-01 23:30:00",
         "-4132.8",
         "Node_1_demand",
         "demand",
         "Node_1_demand_2017-01-01 23:30:00"
        ],
        [
         "48",
         "2017-01-02 00:00:00",
         "-3574.8",
         "Node_1_demand",
         "demand",
         "Node_1_demand_2017-01-02 00:00:00"
        ],
        [
         "49",
         "2017-01-02 00:30:00",
         "-3204.0",
         "Node_1_demand",
         "demand",
         "Node_1_demand_2017-01-02 00:30:00"
        ]
       ],
       "shape": {
        "columns": 5,
        "rows": 1716960
       }
      },
      "text/html": [
       "<div>\n",
       "<style scoped>\n",
       "    .dataframe tbody tr th:only-of-type {\n",
       "        vertical-align: middle;\n",
       "    }\n",
       "\n",
       "    .dataframe tbody tr th {\n",
       "        vertical-align: top;\n",
       "    }\n",
       "\n",
       "    .dataframe thead th {\n",
       "        text-align: right;\n",
       "    }\n",
       "</style>\n",
       "<table border=\"1\" class=\"dataframe\">\n",
       "  <thead>\n",
       "    <tr style=\"text-align: right;\">\n",
       "      <th></th>\n",
       "      <th>Timestamp</th>\n",
       "      <th>measurement</th>\n",
       "      <th>sensor_id</th>\n",
       "      <th>sensor_type</th>\n",
       "      <th>unique_id</th>\n",
       "    </tr>\n",
       "  </thead>\n",
       "  <tbody>\n",
       "    <tr>\n",
       "      <th>0</th>\n",
       "      <td>2017-01-01 00:00:00</td>\n",
       "      <td>-3405.6</td>\n",
       "      <td>Node_1_demand</td>\n",
       "      <td>demand</td>\n",
       "      <td>Node_1_demand_2017-01-01 00:00:00</td>\n",
       "    </tr>\n",
       "    <tr>\n",
       "      <th>1</th>\n",
       "      <td>2017-01-01 00:30:00</td>\n",
       "      <td>-2970.0</td>\n",
       "      <td>Node_1_demand</td>\n",
       "      <td>demand</td>\n",
       "      <td>Node_1_demand_2017-01-01 00:30:00</td>\n",
       "    </tr>\n",
       "    <tr>\n",
       "      <th>2</th>\n",
       "      <td>2017-01-01 01:00:00</td>\n",
       "      <td>-2656.8</td>\n",
       "      <td>Node_1_demand</td>\n",
       "      <td>demand</td>\n",
       "      <td>Node_1_demand_2017-01-01 01:00:00</td>\n",
       "    </tr>\n",
       "    <tr>\n",
       "      <th>3</th>\n",
       "      <td>2017-01-01 01:30:00</td>\n",
       "      <td>-2401.2</td>\n",
       "      <td>Node_1_demand</td>\n",
       "      <td>demand</td>\n",
       "      <td>Node_1_demand_2017-01-01 01:30:00</td>\n",
       "    </tr>\n",
       "    <tr>\n",
       "      <th>4</th>\n",
       "      <td>2017-01-01 02:00:00</td>\n",
       "      <td>-2199.6</td>\n",
       "      <td>Node_1_demand</td>\n",
       "      <td>demand</td>\n",
       "      <td>Node_1_demand_2017-01-01 02:00:00</td>\n",
       "    </tr>\n",
       "    <tr>\n",
       "      <th>...</th>\n",
       "      <td>...</td>\n",
       "      <td>...</td>\n",
       "      <td>...</td>\n",
       "      <td>...</td>\n",
       "      <td>...</td>\n",
       "    </tr>\n",
       "    <tr>\n",
       "      <th>1716955</th>\n",
       "      <td>2017-12-31 21:30:00</td>\n",
       "      <td>1047.6</td>\n",
       "      <td>Link_9_flow</td>\n",
       "      <td>flow</td>\n",
       "      <td>Link_9_flow_2017-12-31 21:30:00</td>\n",
       "    </tr>\n",
       "    <tr>\n",
       "      <th>1716956</th>\n",
       "      <td>2017-12-31 22:00:00</td>\n",
       "      <td>990.0</td>\n",
       "      <td>Link_9_flow</td>\n",
       "      <td>flow</td>\n",
       "      <td>Link_9_flow_2017-12-31 22:00:00</td>\n",
       "    </tr>\n",
       "    <tr>\n",
       "      <th>1716957</th>\n",
       "      <td>2017-12-31 22:30:00</td>\n",
       "      <td>932.4</td>\n",
       "      <td>Link_9_flow</td>\n",
       "      <td>flow</td>\n",
       "      <td>Link_9_flow_2017-12-31 22:30:00</td>\n",
       "    </tr>\n",
       "    <tr>\n",
       "      <th>1716958</th>\n",
       "      <td>2017-12-31 23:00:00</td>\n",
       "      <td>838.8</td>\n",
       "      <td>Link_9_flow</td>\n",
       "      <td>flow</td>\n",
       "      <td>Link_9_flow_2017-12-31 23:00:00</td>\n",
       "    </tr>\n",
       "    <tr>\n",
       "      <th>1716959</th>\n",
       "      <td>2017-12-31 23:30:00</td>\n",
       "      <td>756.0</td>\n",
       "      <td>Link_9_flow</td>\n",
       "      <td>flow</td>\n",
       "      <td>Link_9_flow_2017-12-31 23:30:00</td>\n",
       "    </tr>\n",
       "  </tbody>\n",
       "</table>\n",
       "<p>1716960 rows × 5 columns</p>\n",
       "</div>"
      ],
      "text/plain": [
       "                   Timestamp  measurement      sensor_id sensor_type  \\\n",
       "0        2017-01-01 00:00:00      -3405.6  Node_1_demand      demand   \n",
       "1        2017-01-01 00:30:00      -2970.0  Node_1_demand      demand   \n",
       "2        2017-01-01 01:00:00      -2656.8  Node_1_demand      demand   \n",
       "3        2017-01-01 01:30:00      -2401.2  Node_1_demand      demand   \n",
       "4        2017-01-01 02:00:00      -2199.6  Node_1_demand      demand   \n",
       "...                      ...          ...            ...         ...   \n",
       "1716955  2017-12-31 21:30:00       1047.6    Link_9_flow        flow   \n",
       "1716956  2017-12-31 22:00:00        990.0    Link_9_flow        flow   \n",
       "1716957  2017-12-31 22:30:00        932.4    Link_9_flow        flow   \n",
       "1716958  2017-12-31 23:00:00        838.8    Link_9_flow        flow   \n",
       "1716959  2017-12-31 23:30:00        756.0    Link_9_flow        flow   \n",
       "\n",
       "                                 unique_id  \n",
       "0        Node_1_demand_2017-01-01 00:00:00  \n",
       "1        Node_1_demand_2017-01-01 00:30:00  \n",
       "2        Node_1_demand_2017-01-01 01:00:00  \n",
       "3        Node_1_demand_2017-01-01 01:30:00  \n",
       "4        Node_1_demand_2017-01-01 02:00:00  \n",
       "...                                    ...  \n",
       "1716955    Link_9_flow_2017-12-31 21:30:00  \n",
       "1716956    Link_9_flow_2017-12-31 22:00:00  \n",
       "1716957    Link_9_flow_2017-12-31 22:30:00  \n",
       "1716958    Link_9_flow_2017-12-31 23:00:00  \n",
       "1716959    Link_9_flow_2017-12-31 23:30:00  \n",
       "\n",
       "[1716960 rows x 5 columns]"
      ]
     },
     "execution_count": 94,
     "metadata": {},
     "output_type": "execute_result"
    }
   ],
   "source": [
    "# Now that we have a unique ID for each demand, pressure and flow, we put them all together in our final measurements dataframe\n",
    "all_scenario1 = pd.concat([demands_scenario1, pressures_scenario1, flows_scenario1], ignore_index=True)\n",
    "all_scenario1['unique_id'] = all_scenario1['sensor_id'] + '_' + all_scenario1[\"Timestamp\"].astype(str)\n",
    "all_scenario1"
   ]
  },
  {
   "cell_type": "code",
   "execution_count": 95,
   "metadata": {},
   "outputs": [
    {
     "data": {
      "application/vnd.microsoft.datawrangler.viewer.v0+json": {
       "columns": [
        {
         "name": "index",
         "rawType": "int64",
         "type": "integer"
        },
        {
         "name": "Timestamp",
         "rawType": "object",
         "type": "string"
        },
        {
         "name": "measurement",
         "rawType": "float64",
         "type": "float"
        },
        {
         "name": "sensor_id",
         "rawType": "object",
         "type": "string"
        },
        {
         "name": "sensor_type",
         "rawType": "object",
         "type": "string"
        },
        {
         "name": "unique_id",
         "rawType": "object",
         "type": "string"
        }
       ],
       "conversionMethod": "pd.DataFrame",
       "ref": "6a70f1de-1216-4497-9540-48f55d0a0cdf",
       "rows": [
        [
         "0",
         "2017-01-01 00:00:00",
         "-3405.6",
         "Node_1_demand",
         "demand",
         "Node_1_demand_2017-01-01 00:00:00"
        ],
        [
         "1",
         "2017-01-01 00:30:00",
         "-2970.0",
         "Node_1_demand",
         "demand",
         "Node_1_demand_2017-01-01 00:30:00"
        ],
        [
         "2",
         "2017-01-01 01:00:00",
         "-2656.8",
         "Node_1_demand",
         "demand",
         "Node_1_demand_2017-01-01 01:00:00"
        ],
        [
         "3",
         "2017-01-01 01:30:00",
         "-2401.2",
         "Node_1_demand",
         "demand",
         "Node_1_demand_2017-01-01 01:30:00"
        ],
        [
         "4",
         "2017-01-01 02:00:00",
         "-2199.6",
         "Node_1_demand",
         "demand",
         "Node_1_demand_2017-01-01 02:00:00"
        ],
        [
         "5",
         "2017-01-01 02:30:00",
         "-2142.0",
         "Node_1_demand",
         "demand",
         "Node_1_demand_2017-01-01 02:30:00"
        ],
        [
         "6",
         "2017-01-01 03:00:00",
         "-2142.0",
         "Node_1_demand",
         "demand",
         "Node_1_demand_2017-01-01 03:00:00"
        ],
        [
         "7",
         "2017-01-01 03:30:00",
         "-2271.6",
         "Node_1_demand",
         "demand",
         "Node_1_demand_2017-01-01 03:30:00"
        ],
        [
         "8",
         "2017-01-01 04:00:00",
         "-2534.4",
         "Node_1_demand",
         "demand",
         "Node_1_demand_2017-01-01 04:00:00"
        ],
        [
         "9",
         "2017-01-01 04:30:00",
         "-2797.2",
         "Node_1_demand",
         "demand",
         "Node_1_demand_2017-01-01 04:30:00"
        ],
        [
         "10",
         "2017-01-01 05:00:00",
         "-3283.2",
         "Node_1_demand",
         "demand",
         "Node_1_demand_2017-01-01 05:00:00"
        ],
        [
         "11",
         "2017-01-01 05:30:00",
         "-3654.0",
         "Node_1_demand",
         "demand",
         "Node_1_demand_2017-01-01 05:30:00"
        ],
        [
         "12",
         "2017-01-01 06:00:00",
         "-4273.2",
         "Node_1_demand",
         "demand",
         "Node_1_demand_2017-01-01 06:00:00"
        ],
        [
         "13",
         "2017-01-01 06:30:00",
         "-4838.4",
         "Node_1_demand",
         "demand",
         "Node_1_demand_2017-01-01 06:30:00"
        ],
        [
         "14",
         "2017-01-01 07:00:00",
         "-5374.8",
         "Node_1_demand",
         "demand",
         "Node_1_demand_2017-01-01 07:00:00"
        ],
        [
         "15",
         "2017-01-01 07:30:00",
         "-5889.6",
         "Node_1_demand",
         "demand",
         "Node_1_demand_2017-01-01 07:30:00"
        ],
        [
         "16",
         "2017-01-01 08:00:00",
         "-6336.0",
         "Node_1_demand",
         "demand",
         "Node_1_demand_2017-01-01 08:00:00"
        ],
        [
         "17",
         "2017-01-01 08:30:00",
         "-6843.6",
         "Node_1_demand",
         "demand",
         "Node_1_demand_2017-01-01 08:30:00"
        ],
        [
         "18",
         "2017-01-01 09:00:00",
         "-6955.2",
         "Node_1_demand",
         "demand",
         "Node_1_demand_2017-01-01 09:00:00"
        ],
        [
         "19",
         "2017-01-01 09:30:00",
         "-7369.2",
         "Node_1_demand",
         "demand",
         "Node_1_demand_2017-01-01 09:30:00"
        ],
        [
         "20",
         "2017-01-01 10:00:00",
         "-7491.6",
         "Node_1_demand",
         "demand",
         "Node_1_demand_2017-01-01 10:00:00"
        ],
        [
         "21",
         "2017-01-01 10:30:00",
         "-7300.8",
         "Node_1_demand",
         "demand",
         "Node_1_demand_2017-01-01 10:30:00"
        ],
        [
         "22",
         "2017-01-01 11:00:00",
         "-7246.8",
         "Node_1_demand",
         "demand",
         "Node_1_demand_2017-01-01 11:00:00"
        ],
        [
         "23",
         "2017-01-01 11:30:00",
         "-7016.4",
         "Node_1_demand",
         "demand",
         "Node_1_demand_2017-01-01 11:30:00"
        ],
        [
         "24",
         "2017-01-01 12:00:00",
         "-6724.8",
         "Node_1_demand",
         "demand",
         "Node_1_demand_2017-01-01 12:00:00"
        ],
        [
         "25",
         "2017-01-01 12:30:00",
         "-6526.8",
         "Node_1_demand",
         "demand",
         "Node_1_demand_2017-01-01 12:30:00"
        ],
        [
         "26",
         "2017-01-01 13:00:00",
         "-6181.2",
         "Node_1_demand",
         "demand",
         "Node_1_demand_2017-01-01 13:00:00"
        ],
        [
         "27",
         "2017-01-01 13:30:00",
         "-5839.2",
         "Node_1_demand",
         "demand",
         "Node_1_demand_2017-01-01 13:30:00"
        ],
        [
         "28",
         "2017-01-01 14:00:00",
         "-5659.2",
         "Node_1_demand",
         "demand",
         "Node_1_demand_2017-01-01 14:00:00"
        ],
        [
         "29",
         "2017-01-01 14:30:00",
         "-5270.4",
         "Node_1_demand",
         "demand",
         "Node_1_demand_2017-01-01 14:30:00"
        ],
        [
         "30",
         "2017-01-01 15:00:00",
         "-5148.0",
         "Node_1_demand",
         "demand",
         "Node_1_demand_2017-01-01 15:00:00"
        ],
        [
         "31",
         "2017-01-01 15:30:00",
         "-5007.6",
         "Node_1_demand",
         "demand",
         "Node_1_demand_2017-01-01 15:30:00"
        ],
        [
         "32",
         "2017-01-01 16:00:00",
         "-5058.0",
         "Node_1_demand",
         "demand",
         "Node_1_demand_2017-01-01 16:00:00"
        ],
        [
         "33",
         "2017-01-01 16:30:00",
         "-5032.8",
         "Node_1_demand",
         "demand",
         "Node_1_demand_2017-01-01 16:30:00"
        ],
        [
         "34",
         "2017-01-01 17:00:00",
         "-5184.0",
         "Node_1_demand",
         "demand",
         "Node_1_demand_2017-01-01 17:00:00"
        ],
        [
         "35",
         "2017-01-01 17:30:00",
         "-5389.2",
         "Node_1_demand",
         "demand",
         "Node_1_demand_2017-01-01 17:30:00"
        ],
        [
         "36",
         "2017-01-01 18:00:00",
         "-5583.6",
         "Node_1_demand",
         "demand",
         "Node_1_demand_2017-01-01 18:00:00"
        ],
        [
         "37",
         "2017-01-01 18:30:00",
         "-5871.6",
         "Node_1_demand",
         "demand",
         "Node_1_demand_2017-01-01 18:30:00"
        ],
        [
         "38",
         "2017-01-01 19:00:00",
         "-5871.6",
         "Node_1_demand",
         "demand",
         "Node_1_demand_2017-01-01 19:00:00"
        ],
        [
         "39",
         "2017-01-01 19:30:00",
         "-5940.0",
         "Node_1_demand",
         "demand",
         "Node_1_demand_2017-01-01 19:30:00"
        ],
        [
         "40",
         "2017-01-01 20:00:00",
         "-6141.6",
         "Node_1_demand",
         "demand",
         "Node_1_demand_2017-01-01 20:00:00"
        ],
        [
         "41",
         "2017-01-01 20:30:00",
         "-5954.4",
         "Node_1_demand",
         "demand",
         "Node_1_demand_2017-01-01 20:30:00"
        ],
        [
         "42",
         "2017-01-01 21:00:00",
         "-5846.4",
         "Node_1_demand",
         "demand",
         "Node_1_demand_2017-01-01 21:00:00"
        ],
        [
         "43",
         "2017-01-01 21:30:00",
         "-5709.6",
         "Node_1_demand",
         "demand",
         "Node_1_demand_2017-01-01 21:30:00"
        ],
        [
         "44",
         "2017-01-01 22:00:00",
         "-5324.4",
         "Node_1_demand",
         "demand",
         "Node_1_demand_2017-01-01 22:00:00"
        ],
        [
         "45",
         "2017-01-01 22:30:00",
         "-4964.4",
         "Node_1_demand",
         "demand",
         "Node_1_demand_2017-01-01 22:30:00"
        ],
        [
         "46",
         "2017-01-01 23:00:00",
         "-4471.2",
         "Node_1_demand",
         "demand",
         "Node_1_demand_2017-01-01 23:00:00"
        ],
        [
         "47",
         "2017-01-01 23:30:00",
         "-4132.8",
         "Node_1_demand",
         "demand",
         "Node_1_demand_2017-01-01 23:30:00"
        ],
        [
         "48",
         "2017-01-02 00:00:00",
         "-3574.8",
         "Node_1_demand",
         "demand",
         "Node_1_demand_2017-01-02 00:00:00"
        ],
        [
         "49",
         "2017-01-02 00:30:00",
         "-3204.0",
         "Node_1_demand",
         "demand",
         "Node_1_demand_2017-01-02 00:30:00"
        ]
       ],
       "shape": {
        "columns": 5,
        "rows": 1716960
       }
      },
      "text/html": [
       "<div>\n",
       "<style scoped>\n",
       "    .dataframe tbody tr th:only-of-type {\n",
       "        vertical-align: middle;\n",
       "    }\n",
       "\n",
       "    .dataframe tbody tr th {\n",
       "        vertical-align: top;\n",
       "    }\n",
       "\n",
       "    .dataframe thead th {\n",
       "        text-align: right;\n",
       "    }\n",
       "</style>\n",
       "<table border=\"1\" class=\"dataframe\">\n",
       "  <thead>\n",
       "    <tr style=\"text-align: right;\">\n",
       "      <th></th>\n",
       "      <th>Timestamp</th>\n",
       "      <th>measurement</th>\n",
       "      <th>sensor_id</th>\n",
       "      <th>sensor_type</th>\n",
       "      <th>unique_id</th>\n",
       "    </tr>\n",
       "  </thead>\n",
       "  <tbody>\n",
       "    <tr>\n",
       "      <th>0</th>\n",
       "      <td>2017-01-01 00:00:00</td>\n",
       "      <td>-3405.6</td>\n",
       "      <td>Node_1_demand</td>\n",
       "      <td>demand</td>\n",
       "      <td>Node_1_demand_2017-01-01 00:00:00</td>\n",
       "    </tr>\n",
       "    <tr>\n",
       "      <th>1</th>\n",
       "      <td>2017-01-01 00:30:00</td>\n",
       "      <td>-2970.0</td>\n",
       "      <td>Node_1_demand</td>\n",
       "      <td>demand</td>\n",
       "      <td>Node_1_demand_2017-01-01 00:30:00</td>\n",
       "    </tr>\n",
       "    <tr>\n",
       "      <th>2</th>\n",
       "      <td>2017-01-01 01:00:00</td>\n",
       "      <td>-2656.8</td>\n",
       "      <td>Node_1_demand</td>\n",
       "      <td>demand</td>\n",
       "      <td>Node_1_demand_2017-01-01 01:00:00</td>\n",
       "    </tr>\n",
       "    <tr>\n",
       "      <th>3</th>\n",
       "      <td>2017-01-01 01:30:00</td>\n",
       "      <td>-2401.2</td>\n",
       "      <td>Node_1_demand</td>\n",
       "      <td>demand</td>\n",
       "      <td>Node_1_demand_2017-01-01 01:30:00</td>\n",
       "    </tr>\n",
       "    <tr>\n",
       "      <th>4</th>\n",
       "      <td>2017-01-01 02:00:00</td>\n",
       "      <td>-2199.6</td>\n",
       "      <td>Node_1_demand</td>\n",
       "      <td>demand</td>\n",
       "      <td>Node_1_demand_2017-01-01 02:00:00</td>\n",
       "    </tr>\n",
       "    <tr>\n",
       "      <th>...</th>\n",
       "      <td>...</td>\n",
       "      <td>...</td>\n",
       "      <td>...</td>\n",
       "      <td>...</td>\n",
       "      <td>...</td>\n",
       "    </tr>\n",
       "    <tr>\n",
       "      <th>1716955</th>\n",
       "      <td>2017-12-31 21:30:00</td>\n",
       "      <td>1047.6</td>\n",
       "      <td>Link_9_flow</td>\n",
       "      <td>flow</td>\n",
       "      <td>Link_9_flow_2017-12-31 21:30:00</td>\n",
       "    </tr>\n",
       "    <tr>\n",
       "      <th>1716956</th>\n",
       "      <td>2017-12-31 22:00:00</td>\n",
       "      <td>990.0</td>\n",
       "      <td>Link_9_flow</td>\n",
       "      <td>flow</td>\n",
       "      <td>Link_9_flow_2017-12-31 22:00:00</td>\n",
       "    </tr>\n",
       "    <tr>\n",
       "      <th>1716957</th>\n",
       "      <td>2017-12-31 22:30:00</td>\n",
       "      <td>932.4</td>\n",
       "      <td>Link_9_flow</td>\n",
       "      <td>flow</td>\n",
       "      <td>Link_9_flow_2017-12-31 22:30:00</td>\n",
       "    </tr>\n",
       "    <tr>\n",
       "      <th>1716958</th>\n",
       "      <td>2017-12-31 23:00:00</td>\n",
       "      <td>838.8</td>\n",
       "      <td>Link_9_flow</td>\n",
       "      <td>flow</td>\n",
       "      <td>Link_9_flow_2017-12-31 23:00:00</td>\n",
       "    </tr>\n",
       "    <tr>\n",
       "      <th>1716959</th>\n",
       "      <td>2017-12-31 23:30:00</td>\n",
       "      <td>756.0</td>\n",
       "      <td>Link_9_flow</td>\n",
       "      <td>flow</td>\n",
       "      <td>Link_9_flow_2017-12-31 23:30:00</td>\n",
       "    </tr>\n",
       "  </tbody>\n",
       "</table>\n",
       "<p>1716960 rows × 5 columns</p>\n",
       "</div>"
      ],
      "text/plain": [
       "                   Timestamp  measurement      sensor_id sensor_type  \\\n",
       "0        2017-01-01 00:00:00      -3405.6  Node_1_demand      demand   \n",
       "1        2017-01-01 00:30:00      -2970.0  Node_1_demand      demand   \n",
       "2        2017-01-01 01:00:00      -2656.8  Node_1_demand      demand   \n",
       "3        2017-01-01 01:30:00      -2401.2  Node_1_demand      demand   \n",
       "4        2017-01-01 02:00:00      -2199.6  Node_1_demand      demand   \n",
       "...                      ...          ...            ...         ...   \n",
       "1716955  2017-12-31 21:30:00       1047.6    Link_9_flow        flow   \n",
       "1716956  2017-12-31 22:00:00        990.0    Link_9_flow        flow   \n",
       "1716957  2017-12-31 22:30:00        932.4    Link_9_flow        flow   \n",
       "1716958  2017-12-31 23:00:00        838.8    Link_9_flow        flow   \n",
       "1716959  2017-12-31 23:30:00        756.0    Link_9_flow        flow   \n",
       "\n",
       "                                 unique_id  \n",
       "0        Node_1_demand_2017-01-01 00:00:00  \n",
       "1        Node_1_demand_2017-01-01 00:30:00  \n",
       "2        Node_1_demand_2017-01-01 01:00:00  \n",
       "3        Node_1_demand_2017-01-01 01:30:00  \n",
       "4        Node_1_demand_2017-01-01 02:00:00  \n",
       "...                                    ...  \n",
       "1716955    Link_9_flow_2017-12-31 21:30:00  \n",
       "1716956    Link_9_flow_2017-12-31 22:00:00  \n",
       "1716957    Link_9_flow_2017-12-31 22:30:00  \n",
       "1716958    Link_9_flow_2017-12-31 23:00:00  \n",
       "1716959    Link_9_flow_2017-12-31 23:30:00  \n",
       "\n",
       "[1716960 rows x 5 columns]"
      ]
     },
     "execution_count": 95,
     "metadata": {},
     "output_type": "execute_result"
    }
   ],
   "source": [
    "all_scenario1"
   ]
  },
  {
   "cell_type": "code",
   "execution_count": 111,
   "metadata": {},
   "outputs": [],
   "source": [
    "all_scenario1.to_csv(\"measurements_1_leakDB.csv\")"
   ]
  },
  {
   "cell_type": "code",
   "execution_count": 96,
   "metadata": {},
   "outputs": [
    {
     "data": {
      "application/vnd.microsoft.datawrangler.viewer.v0+json": {
       "columns": [
        {
         "name": "index",
         "rawType": "int64",
         "type": "integer"
        },
        {
         "name": "Timestamp",
         "rawType": "object",
         "type": "string"
        },
        {
         "name": "measurement",
         "rawType": "float64",
         "type": "float"
        },
        {
         "name": "sensor_id",
         "rawType": "object",
         "type": "string"
        },
        {
         "name": "sensor_type",
         "rawType": "object",
         "type": "string"
        },
        {
         "name": "unique_id",
         "rawType": "object",
         "type": "string"
        }
       ],
       "conversionMethod": "pd.DataFrame",
       "ref": "34bedcda-a5fd-4ca3-9ba9-258dfded252e",
       "rows": [
        [
         "0",
         "2017-01-01 00:00:00",
         "-3405.6",
         "Node_1_demand",
         "demand",
         "Node_1_demand_2017-01-01 00:00:00"
        ],
        [
         "1",
         "2017-01-01 00:30:00",
         "-2970.0",
         "Node_1_demand",
         "demand",
         "Node_1_demand_2017-01-01 00:30:00"
        ],
        [
         "2",
         "2017-01-01 01:00:00",
         "-2656.8",
         "Node_1_demand",
         "demand",
         "Node_1_demand_2017-01-01 01:00:00"
        ],
        [
         "3",
         "2017-01-01 01:30:00",
         "-2401.2",
         "Node_1_demand",
         "demand",
         "Node_1_demand_2017-01-01 01:30:00"
        ],
        [
         "4",
         "2017-01-01 02:00:00",
         "-2199.6",
         "Node_1_demand",
         "demand",
         "Node_1_demand_2017-01-01 02:00:00"
        ],
        [
         "5",
         "2017-01-01 02:30:00",
         "-2142.0",
         "Node_1_demand",
         "demand",
         "Node_1_demand_2017-01-01 02:30:00"
        ],
        [
         "6",
         "2017-01-01 03:00:00",
         "-2142.0",
         "Node_1_demand",
         "demand",
         "Node_1_demand_2017-01-01 03:00:00"
        ],
        [
         "7",
         "2017-01-01 03:30:00",
         "-2271.6",
         "Node_1_demand",
         "demand",
         "Node_1_demand_2017-01-01 03:30:00"
        ],
        [
         "8",
         "2017-01-01 04:00:00",
         "-2534.4",
         "Node_1_demand",
         "demand",
         "Node_1_demand_2017-01-01 04:00:00"
        ],
        [
         "9",
         "2017-01-01 04:30:00",
         "-2797.2",
         "Node_1_demand",
         "demand",
         "Node_1_demand_2017-01-01 04:30:00"
        ],
        [
         "10",
         "2017-01-01 05:00:00",
         "-3283.2",
         "Node_1_demand",
         "demand",
         "Node_1_demand_2017-01-01 05:00:00"
        ],
        [
         "11",
         "2017-01-01 05:30:00",
         "-3654.0",
         "Node_1_demand",
         "demand",
         "Node_1_demand_2017-01-01 05:30:00"
        ],
        [
         "12",
         "2017-01-01 06:00:00",
         "-4273.2",
         "Node_1_demand",
         "demand",
         "Node_1_demand_2017-01-01 06:00:00"
        ],
        [
         "13",
         "2017-01-01 06:30:00",
         "-4838.4",
         "Node_1_demand",
         "demand",
         "Node_1_demand_2017-01-01 06:30:00"
        ],
        [
         "14",
         "2017-01-01 07:00:00",
         "-5374.8",
         "Node_1_demand",
         "demand",
         "Node_1_demand_2017-01-01 07:00:00"
        ],
        [
         "15",
         "2017-01-01 07:30:00",
         "-5889.6",
         "Node_1_demand",
         "demand",
         "Node_1_demand_2017-01-01 07:30:00"
        ],
        [
         "16",
         "2017-01-01 08:00:00",
         "-6336.0",
         "Node_1_demand",
         "demand",
         "Node_1_demand_2017-01-01 08:00:00"
        ],
        [
         "17",
         "2017-01-01 08:30:00",
         "-6843.6",
         "Node_1_demand",
         "demand",
         "Node_1_demand_2017-01-01 08:30:00"
        ],
        [
         "18",
         "2017-01-01 09:00:00",
         "-6955.2",
         "Node_1_demand",
         "demand",
         "Node_1_demand_2017-01-01 09:00:00"
        ],
        [
         "19",
         "2017-01-01 09:30:00",
         "-7369.2",
         "Node_1_demand",
         "demand",
         "Node_1_demand_2017-01-01 09:30:00"
        ],
        [
         "20",
         "2017-01-01 10:00:00",
         "-7491.6",
         "Node_1_demand",
         "demand",
         "Node_1_demand_2017-01-01 10:00:00"
        ],
        [
         "21",
         "2017-01-01 10:30:00",
         "-7300.8",
         "Node_1_demand",
         "demand",
         "Node_1_demand_2017-01-01 10:30:00"
        ],
        [
         "22",
         "2017-01-01 11:00:00",
         "-7246.8",
         "Node_1_demand",
         "demand",
         "Node_1_demand_2017-01-01 11:00:00"
        ],
        [
         "23",
         "2017-01-01 11:30:00",
         "-7016.4",
         "Node_1_demand",
         "demand",
         "Node_1_demand_2017-01-01 11:30:00"
        ],
        [
         "24",
         "2017-01-01 12:00:00",
         "-6724.8",
         "Node_1_demand",
         "demand",
         "Node_1_demand_2017-01-01 12:00:00"
        ],
        [
         "25",
         "2017-01-01 12:30:00",
         "-6526.8",
         "Node_1_demand",
         "demand",
         "Node_1_demand_2017-01-01 12:30:00"
        ],
        [
         "26",
         "2017-01-01 13:00:00",
         "-6181.2",
         "Node_1_demand",
         "demand",
         "Node_1_demand_2017-01-01 13:00:00"
        ],
        [
         "27",
         "2017-01-01 13:30:00",
         "-5839.2",
         "Node_1_demand",
         "demand",
         "Node_1_demand_2017-01-01 13:30:00"
        ],
        [
         "28",
         "2017-01-01 14:00:00",
         "-5659.2",
         "Node_1_demand",
         "demand",
         "Node_1_demand_2017-01-01 14:00:00"
        ],
        [
         "29",
         "2017-01-01 14:30:00",
         "-5270.4",
         "Node_1_demand",
         "demand",
         "Node_1_demand_2017-01-01 14:30:00"
        ],
        [
         "30",
         "2017-01-01 15:00:00",
         "-5148.0",
         "Node_1_demand",
         "demand",
         "Node_1_demand_2017-01-01 15:00:00"
        ],
        [
         "31",
         "2017-01-01 15:30:00",
         "-5007.6",
         "Node_1_demand",
         "demand",
         "Node_1_demand_2017-01-01 15:30:00"
        ],
        [
         "32",
         "2017-01-01 16:00:00",
         "-5058.0",
         "Node_1_demand",
         "demand",
         "Node_1_demand_2017-01-01 16:00:00"
        ],
        [
         "33",
         "2017-01-01 16:30:00",
         "-5032.8",
         "Node_1_demand",
         "demand",
         "Node_1_demand_2017-01-01 16:30:00"
        ],
        [
         "34",
         "2017-01-01 17:00:00",
         "-5184.0",
         "Node_1_demand",
         "demand",
         "Node_1_demand_2017-01-01 17:00:00"
        ],
        [
         "35",
         "2017-01-01 17:30:00",
         "-5389.2",
         "Node_1_demand",
         "demand",
         "Node_1_demand_2017-01-01 17:30:00"
        ],
        [
         "36",
         "2017-01-01 18:00:00",
         "-5583.6",
         "Node_1_demand",
         "demand",
         "Node_1_demand_2017-01-01 18:00:00"
        ],
        [
         "37",
         "2017-01-01 18:30:00",
         "-5871.6",
         "Node_1_demand",
         "demand",
         "Node_1_demand_2017-01-01 18:30:00"
        ],
        [
         "38",
         "2017-01-01 19:00:00",
         "-5871.6",
         "Node_1_demand",
         "demand",
         "Node_1_demand_2017-01-01 19:00:00"
        ],
        [
         "39",
         "2017-01-01 19:30:00",
         "-5940.0",
         "Node_1_demand",
         "demand",
         "Node_1_demand_2017-01-01 19:30:00"
        ],
        [
         "40",
         "2017-01-01 20:00:00",
         "-6141.6",
         "Node_1_demand",
         "demand",
         "Node_1_demand_2017-01-01 20:00:00"
        ],
        [
         "41",
         "2017-01-01 20:30:00",
         "-5954.4",
         "Node_1_demand",
         "demand",
         "Node_1_demand_2017-01-01 20:30:00"
        ],
        [
         "42",
         "2017-01-01 21:00:00",
         "-5846.4",
         "Node_1_demand",
         "demand",
         "Node_1_demand_2017-01-01 21:00:00"
        ],
        [
         "43",
         "2017-01-01 21:30:00",
         "-5709.6",
         "Node_1_demand",
         "demand",
         "Node_1_demand_2017-01-01 21:30:00"
        ],
        [
         "44",
         "2017-01-01 22:00:00",
         "-5324.4",
         "Node_1_demand",
         "demand",
         "Node_1_demand_2017-01-01 22:00:00"
        ],
        [
         "45",
         "2017-01-01 22:30:00",
         "-4964.4",
         "Node_1_demand",
         "demand",
         "Node_1_demand_2017-01-01 22:30:00"
        ],
        [
         "46",
         "2017-01-01 23:00:00",
         "-4471.2",
         "Node_1_demand",
         "demand",
         "Node_1_demand_2017-01-01 23:00:00"
        ],
        [
         "47",
         "2017-01-01 23:30:00",
         "-4132.8",
         "Node_1_demand",
         "demand",
         "Node_1_demand_2017-01-01 23:30:00"
        ],
        [
         "48",
         "2017-01-02 00:00:00",
         "-3574.8",
         "Node_1_demand",
         "demand",
         "Node_1_demand_2017-01-02 00:00:00"
        ],
        [
         "49",
         "2017-01-02 00:30:00",
         "-3204.0",
         "Node_1_demand",
         "demand",
         "Node_1_demand_2017-01-02 00:30:00"
        ]
       ],
       "shape": {
        "columns": 5,
        "rows": 560640
       }
      },
      "text/html": [
       "<div>\n",
       "<style scoped>\n",
       "    .dataframe tbody tr th:only-of-type {\n",
       "        vertical-align: middle;\n",
       "    }\n",
       "\n",
       "    .dataframe tbody tr th {\n",
       "        vertical-align: top;\n",
       "    }\n",
       "\n",
       "    .dataframe thead th {\n",
       "        text-align: right;\n",
       "    }\n",
       "</style>\n",
       "<table border=\"1\" class=\"dataframe\">\n",
       "  <thead>\n",
       "    <tr style=\"text-align: right;\">\n",
       "      <th></th>\n",
       "      <th>Timestamp</th>\n",
       "      <th>measurement</th>\n",
       "      <th>sensor_id</th>\n",
       "      <th>sensor_type</th>\n",
       "      <th>unique_id</th>\n",
       "    </tr>\n",
       "  </thead>\n",
       "  <tbody>\n",
       "    <tr>\n",
       "      <th>0</th>\n",
       "      <td>2017-01-01 00:00:00</td>\n",
       "      <td>-3405.6</td>\n",
       "      <td>Node_1_demand</td>\n",
       "      <td>demand</td>\n",
       "      <td>Node_1_demand_2017-01-01 00:00:00</td>\n",
       "    </tr>\n",
       "    <tr>\n",
       "      <th>1</th>\n",
       "      <td>2017-01-01 00:30:00</td>\n",
       "      <td>-2970.0</td>\n",
       "      <td>Node_1_demand</td>\n",
       "      <td>demand</td>\n",
       "      <td>Node_1_demand_2017-01-01 00:30:00</td>\n",
       "    </tr>\n",
       "    <tr>\n",
       "      <th>2</th>\n",
       "      <td>2017-01-01 01:00:00</td>\n",
       "      <td>-2656.8</td>\n",
       "      <td>Node_1_demand</td>\n",
       "      <td>demand</td>\n",
       "      <td>Node_1_demand_2017-01-01 01:00:00</td>\n",
       "    </tr>\n",
       "    <tr>\n",
       "      <th>3</th>\n",
       "      <td>2017-01-01 01:30:00</td>\n",
       "      <td>-2401.2</td>\n",
       "      <td>Node_1_demand</td>\n",
       "      <td>demand</td>\n",
       "      <td>Node_1_demand_2017-01-01 01:30:00</td>\n",
       "    </tr>\n",
       "    <tr>\n",
       "      <th>4</th>\n",
       "      <td>2017-01-01 02:00:00</td>\n",
       "      <td>-2199.6</td>\n",
       "      <td>Node_1_demand</td>\n",
       "      <td>demand</td>\n",
       "      <td>Node_1_demand_2017-01-01 02:00:00</td>\n",
       "    </tr>\n",
       "    <tr>\n",
       "      <th>...</th>\n",
       "      <td>...</td>\n",
       "      <td>...</td>\n",
       "      <td>...</td>\n",
       "      <td>...</td>\n",
       "      <td>...</td>\n",
       "    </tr>\n",
       "    <tr>\n",
       "      <th>560635</th>\n",
       "      <td>2017-12-31 21:30:00</td>\n",
       "      <td>140.4</td>\n",
       "      <td>Node_9_demand</td>\n",
       "      <td>demand</td>\n",
       "      <td>Node_9_demand_2017-12-31 21:30:00</td>\n",
       "    </tr>\n",
       "    <tr>\n",
       "      <th>560636</th>\n",
       "      <td>2017-12-31 22:00:00</td>\n",
       "      <td>126.0</td>\n",
       "      <td>Node_9_demand</td>\n",
       "      <td>demand</td>\n",
       "      <td>Node_9_demand_2017-12-31 22:00:00</td>\n",
       "    </tr>\n",
       "    <tr>\n",
       "      <th>560637</th>\n",
       "      <td>2017-12-31 22:30:00</td>\n",
       "      <td>122.4</td>\n",
       "      <td>Node_9_demand</td>\n",
       "      <td>demand</td>\n",
       "      <td>Node_9_demand_2017-12-31 22:30:00</td>\n",
       "    </tr>\n",
       "    <tr>\n",
       "      <th>560638</th>\n",
       "      <td>2017-12-31 23:00:00</td>\n",
       "      <td>118.8</td>\n",
       "      <td>Node_9_demand</td>\n",
       "      <td>demand</td>\n",
       "      <td>Node_9_demand_2017-12-31 23:00:00</td>\n",
       "    </tr>\n",
       "    <tr>\n",
       "      <th>560639</th>\n",
       "      <td>2017-12-31 23:30:00</td>\n",
       "      <td>97.2</td>\n",
       "      <td>Node_9_demand</td>\n",
       "      <td>demand</td>\n",
       "      <td>Node_9_demand_2017-12-31 23:30:00</td>\n",
       "    </tr>\n",
       "  </tbody>\n",
       "</table>\n",
       "<p>560640 rows × 5 columns</p>\n",
       "</div>"
      ],
      "text/plain": [
       "                  Timestamp  measurement      sensor_id sensor_type  \\\n",
       "0       2017-01-01 00:00:00      -3405.6  Node_1_demand      demand   \n",
       "1       2017-01-01 00:30:00      -2970.0  Node_1_demand      demand   \n",
       "2       2017-01-01 01:00:00      -2656.8  Node_1_demand      demand   \n",
       "3       2017-01-01 01:30:00      -2401.2  Node_1_demand      demand   \n",
       "4       2017-01-01 02:00:00      -2199.6  Node_1_demand      demand   \n",
       "...                     ...          ...            ...         ...   \n",
       "560635  2017-12-31 21:30:00        140.4  Node_9_demand      demand   \n",
       "560636  2017-12-31 22:00:00        126.0  Node_9_demand      demand   \n",
       "560637  2017-12-31 22:30:00        122.4  Node_9_demand      demand   \n",
       "560638  2017-12-31 23:00:00        118.8  Node_9_demand      demand   \n",
       "560639  2017-12-31 23:30:00         97.2  Node_9_demand      demand   \n",
       "\n",
       "                                unique_id  \n",
       "0       Node_1_demand_2017-01-01 00:00:00  \n",
       "1       Node_1_demand_2017-01-01 00:30:00  \n",
       "2       Node_1_demand_2017-01-01 01:00:00  \n",
       "3       Node_1_demand_2017-01-01 01:30:00  \n",
       "4       Node_1_demand_2017-01-01 02:00:00  \n",
       "...                                   ...  \n",
       "560635  Node_9_demand_2017-12-31 21:30:00  \n",
       "560636  Node_9_demand_2017-12-31 22:00:00  \n",
       "560637  Node_9_demand_2017-12-31 22:30:00  \n",
       "560638  Node_9_demand_2017-12-31 23:00:00  \n",
       "560639  Node_9_demand_2017-12-31 23:30:00  \n",
       "\n",
       "[560640 rows x 5 columns]"
      ]
     },
     "execution_count": 96,
     "metadata": {},
     "output_type": "execute_result"
    }
   ],
   "source": [
    "# We can select specific types of measurements\n",
    "all_scenario1[all_scenario1['sensor_type'] == 'demand']"
   ]
  },
  {
   "cell_type": "markdown",
   "metadata": {},
   "source": [
    "## Basic demand, pressure and flow visualizations"
   ]
  },
  {
   "cell_type": "code",
   "execution_count": 103,
   "metadata": {},
   "outputs": [
    {
     "name": "stderr",
     "output_type": "stream",
     "text": [
      "C:\\Users\\Pepe\\AppData\\Local\\Temp\\ipykernel_37884\\1767002983.py:5: SettingWithCopyWarning: \n",
      "A value is trying to be set on a copy of a slice from a DataFrame.\n",
      "Try using .loc[row_indexer,col_indexer] = value instead\n",
      "\n",
      "See the caveats in the documentation: https://pandas.pydata.org/pandas-docs/stable/user_guide/indexing.html#returning-a-view-versus-a-copy\n",
      "  demands_scenario1['Timestamp'] = pd.to_datetime(demands_scenario1['Timestamp'])\n",
      "C:\\Users\\Pepe\\AppData\\Local\\Temp\\ipykernel_37884\\1767002983.py:6: SettingWithCopyWarning: \n",
      "A value is trying to be set on a copy of a slice from a DataFrame.\n",
      "Try using .loc[row_indexer,col_indexer] = value instead\n",
      "\n",
      "See the caveats in the documentation: https://pandas.pydata.org/pandas-docs/stable/user_guide/indexing.html#returning-a-view-versus-a-copy\n",
      "  demands_scenario1['hour'] = demands_scenario1['Timestamp'].dt.hour\n"
     ]
    },
    {
     "data": {
      "image/png": "[encoded data removed]",
      "text/plain": [
       "<Figure size 1000x600 with 1 Axes>"
      ]
     },
     "metadata": {},
     "output_type": "display_data"
    }
   ],
   "source": [
    "import matplotlib.pyplot as plt\n",
    "import seaborn as sns\n",
    "\n",
    "demands_scenario1 = all_scenario1[all_scenario1['sensor_type'] == 'demand']\n",
    "demands_scenario1['Timestamp'] = pd.to_datetime(demands_scenario1['Timestamp'])\n",
    "demands_scenario1['hour'] = demands_scenario1['Timestamp'].dt.hour\n",
    "avg_demand_by_hour = demands_scenario1.groupby('hour')['measurement'].mean()\n",
    "\n",
    "# Plot the results\n",
    "plt.figure(figsize=(10, 6))\n",
    "avg_demand_by_hour.plot(kind='bar', color='royalblue')\n",
    "plt.title('Average Demand per Hour of the Day')\n",
    "plt.xlabel('Hour of the Day')\n",
    "plt.ylabel('Average Demand')\n",
    "plt.xticks(rotation=0)\n",
    "plt.grid(axis='y', linestyle='--', alpha=0.7)\n",
    "plt.show()"
   ]
  },
  {
   "cell_type": "code",
   "execution_count": 104,
   "metadata": {},
   "outputs": [
    {
     "name": "stderr",
     "output_type": "stream",
     "text": [
      "C:\\Users\\Pepe\\AppData\\Local\\Temp\\ipykernel_37884\\2699835283.py:2: SettingWithCopyWarning: \n",
      "A value is trying to be set on a copy of a slice from a DataFrame.\n",
      "Try using .loc[row_indexer,col_indexer] = value instead\n",
      "\n",
      "See the caveats in the documentation: https://pandas.pydata.org/pandas-docs/stable/user_guide/indexing.html#returning-a-view-versus-a-copy\n",
      "  pressures_scenario1['Timestamp'] = pd.to_datetime(pressures_scenario1['Timestamp'])\n",
      "C:\\Users\\Pepe\\AppData\\Local\\Temp\\ipykernel_37884\\2699835283.py:3: SettingWithCopyWarning: \n",
      "A value is trying to be set on a copy of a slice from a DataFrame.\n",
      "Try using .loc[row_indexer,col_indexer] = value instead\n",
      "\n",
      "See the caveats in the documentation: https://pandas.pydata.org/pandas-docs/stable/user_guide/indexing.html#returning-a-view-versus-a-copy\n",
      "  pressures_scenario1['hour'] = pressures_scenario1['Timestamp'].dt.hour\n"
     ]
    },
    {
     "data": {
      "image/png": "[encoded data removed]",
      "text/plain": [
       "<Figure size 1000x600 with 1 Axes>"
      ]
     },
     "metadata": {},
     "output_type": "display_data"
    }
   ],
   "source": [
    "pressures_scenario1 = all_scenario1[all_scenario1['sensor_type'] == 'pressure']\n",
    "pressures_scenario1['Timestamp'] = pd.to_datetime(pressures_scenario1['Timestamp'])\n",
    "pressures_scenario1['hour'] = pressures_scenario1['Timestamp'].dt.hour\n",
    "avg_pressure_by_hour = pressures_scenario1.groupby('hour')['measurement'].mean()\n",
    "\n",
    "# Plot the results\n",
    "plt.figure(figsize=(10, 6))\n",
    "avg_pressure_by_hour.plot(kind='bar', color='royalblue')\n",
    "plt.title('Average Pressure per Hour of the Day')\n",
    "plt.xlabel('Hour of the Day')\n",
    "plt.ylabel('Average Pressure')\n",
    "plt.xticks(rotation=0)\n",
    "plt.grid(axis='y', linestyle='--', alpha=0.7)\n",
    "plt.show()"
   ]
  },
  {
   "cell_type": "code",
   "execution_count": 105,
   "metadata": {},
   "outputs": [
    {
     "name": "stderr",
     "output_type": "stream",
     "text": [
      "C:\\Users\\Pepe\\AppData\\Local\\Temp\\ipykernel_37884\\3748454748.py:2: SettingWithCopyWarning: \n",
      "A value is trying to be set on a copy of a slice from a DataFrame.\n",
      "Try using .loc[row_indexer,col_indexer] = value instead\n",
      "\n",
      "See the caveats in the documentation: https://pandas.pydata.org/pandas-docs/stable/user_guide/indexing.html#returning-a-view-versus-a-copy\n",
      "  flows_scenario1['Timestamp'] = pd.to_datetime(flows_scenario1['Timestamp'])\n",
      "C:\\Users\\Pepe\\AppData\\Local\\Temp\\ipykernel_37884\\3748454748.py:3: SettingWithCopyWarning: \n",
      "A value is trying to be set on a copy of a slice from a DataFrame.\n",
      "Try using .loc[row_indexer,col_indexer] = value instead\n",
      "\n",
      "See the caveats in the documentation: https://pandas.pydata.org/pandas-docs/stable/user_guide/indexing.html#returning-a-view-versus-a-copy\n",
      "  flows_scenario1['hour'] = flows_scenario1['Timestamp'].dt.hour\n"
     ]
    },
    {
     "data": {
      "image/png": "[encoded data removed]",
      "text/plain": [
       "<Figure size 1000x600 with 1 Axes>"
      ]
     },
     "metadata": {},
     "output_type": "display_data"
    }
   ],
   "source": [
    "flows_scenario1 = all_scenario1[all_scenario1['sensor_type'] == 'flow']\n",
    "flows_scenario1['Timestamp'] = pd.to_datetime(flows_scenario1['Timestamp'])\n",
    "flows_scenario1['hour'] = flows_scenario1['Timestamp'].dt.hour\n",
    "avg_flow_by_hour = flows_scenario1.groupby('hour')['measurement'].mean()\n",
    "\n",
    "# Plot the results\n",
    "plt.figure(figsize=(10, 6))\n",
    "avg_flow_by_hour.plot(kind='bar', color='royalblue')\n",
    "plt.title('Average Flow per Hour of the Day')\n",
    "plt.xlabel('Hour of the Day')\n",
    "plt.ylabel('Average Flow')\n",
    "plt.xticks(rotation=0)\n",
    "plt.grid(axis='y', linestyle='--', alpha=0.7)\n",
    "plt.show()"
   ]
  },
  {
   "cell_type": "markdown",
   "metadata": {},
   "source": [
    "#### Basic Scenario Description"
   ]
  },
  {
   "cell_type": "code",
   "execution_count": 106,
   "metadata": {},
   "outputs": [
    {
     "data": {
      "text/plain": [
       "32"
      ]
     },
     "execution_count": 106,
     "metadata": {},
     "output_type": "execute_result"
    }
   ],
   "source": [
    "# Number of nodes (can be found on sensor and pressure measurements)\n",
    "all_scenario1[all_scenario1['sensor_type'] == 'demand'][\"sensor_id\"].nunique()"
   ]
  },
  {
   "cell_type": "code",
   "execution_count": 107,
   "metadata": {},
   "outputs": [
    {
     "data": {
      "text/plain": [
       "34"
      ]
     },
     "execution_count": 107,
     "metadata": {},
     "output_type": "execute_result"
    }
   ],
   "source": [
    "# Number of pipes (found in flows dataset)\n",
    "all_scenario1[all_scenario1['sensor_type'] == 'flow'][\"sensor_id\"].nunique()"
   ]
  }
 ],
 "metadata": {
  "kernelspec": {
   "display_name": "base",
   "language": "python",
   "name": "python3"
  },
  "language_info": {
   "codemirror_mode": {
    "name": "ipython",
    "version": 3
   },
   "file_extension": ".py",
   "mimetype": "text/x-python",
   "name": "python",
   "nbconvert_exporter": "python",
   "pygments_lexer": "ipython3",
   "version": "3.10.14"
  }
 },
 "nbformat": 4,
 "nbformat_minor": 2
}
