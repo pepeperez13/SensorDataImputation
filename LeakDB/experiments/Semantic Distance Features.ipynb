{
 "cells": [
  {
   "cell_type": "markdown",
   "id": "ba163ef9",
   "metadata": {},
   "source": [
    "## Get similarity between pipes"
   ]
  },
  {
   "cell_type": "markdown",
   "id": "8bc6ccf7",
   "metadata": {},
   "source": [
    "### Extract semantic features for each pipe"
   ]
  },
  {
   "cell_type": "code",
   "execution_count": 1,
   "id": "3a1de9b5",
   "metadata": {},
   "outputs": [],
   "source": [
    "from graph_utils import networkx, extract_features_from_nx_graph\n",
    "\n",
    "g_nx_leakdb = networkx(\"KGS/knowledge_graph1-LeakDB.ttl\")"
   ]
  },
  {
   "cell_type": "code",
   "execution_count": 2,
   "id": "8f771b54",
   "metadata": {},
   "outputs": [],
   "source": [
    "pipe_features = extract_features_from_nx_graph(\n",
    "    g_nx_leakdb,\n",
    "   \"https://raw.githubusercontent.com/DiTEC-project/wdn-knowledge-graph/refs/heads/main/wdn_ontology.ttl\",\n",
    "    node_type_filter=\"Pipe\",  # Or full URI if you want\n",
    "    attribute_keys=[\"diameter\", \"length\", \"roughness\", \"status\"],\n",
    "    edge_predicates=None\n",
    ")"
   ]
  },
  {
   "cell_type": "code",
   "execution_count": 3,
   "id": "ef41e113",
   "metadata": {},
   "outputs": [
    {
     "data": {
      "text/plain": [
       "{'Pipe_30': {'diameter': 0.4122381,\n",
       "  'length': 1997.237,\n",
       "  'roughness': 126.4847,\n",
       "  'status': 'Open'},\n",
       " 'Pipe_31': {'diameter': 0.2942326,\n",
       "  'length': 1553.082,\n",
       "  'roughness': 121.5079,\n",
       "  'status': 'Open'},\n",
       " 'Pipe_7': {'diameter': 1.056082,\n",
       "  'length': 837.9012,\n",
       "  'roughness': 127.8199,\n",
       "  'status': 'Open'},\n",
       " 'Pipe_17': {'diameter': 0.5142606,\n",
       "  'length': 1773.933,\n",
       "  'roughness': 137.0129,\n",
       "  'status': 'Open'},\n",
       " 'Pipe_5': {'diameter': 1.090574,\n",
       "  'length': 1451.77,\n",
       "  'roughness': 140.6532,\n",
       "  'status': 'Open'},\n",
       " 'Pipe_26': {'diameter': 0.4774439,\n",
       "  'length': 825.7778,\n",
       "  'roughness': 132.1164,\n",
       "  'status': 'Open'},\n",
       " 'Pipe_25': {'diameter': 0.7376673,\n",
       "  'length': 1256.235,\n",
       "  'roughness': 127.0521,\n",
       "  'status': 'Open'},\n",
       " 'Pipe_33': {'diameter': 0.4413251,\n",
       "  'length': 892.1622,\n",
       "  'roughness': 126.9478,\n",
       "  'status': 'Open'},\n",
       " 'Pipe_4': {'diameter': 1.046316,\n",
       "  'length': 1177.574,\n",
       "  'roughness': 139.6072,\n",
       "  'status': 'Open'},\n",
       " 'Pipe_12': {'diameter': 0.6100255,\n",
       "  'length': 3352.516,\n",
       "  'roughness': 129.3119,\n",
       "  'status': 'Open'},\n",
       " 'Pipe_34': {'diameter': 0.4921122,\n",
       "  'length': 970.7698,\n",
       "  'roughness': 119.2366,\n",
       "  'status': 'Open'},\n",
       " 'Pipe_2': {'diameter': 0.9509962,\n",
       "  'length': 1337.507,\n",
       "  'roughness': 120.4167,\n",
       "  'status': 'Open'},\n",
       " 'Pipe_27': {'diameter': 0.2743641,\n",
       "  'length': 285.6935,\n",
       "  'roughness': 131.8654,\n",
       "  'status': 'Open'},\n",
       " 'Pipe_14': {'diameter': 0.4102378,\n",
       "  'length': 522.6046,\n",
       "  'roughness': 137.8775,\n",
       "  'status': 'Open'},\n",
       " 'Pipe_13': {'diameter': 0.4325173,\n",
       "  'length': 801.1631,\n",
       "  'roughness': 142.5197,\n",
       "  'status': 'Open'},\n",
       " 'Pipe_29': {'diameter': 0.4185538,\n",
       "  'length': 1556.4,\n",
       "  'roughness': 134.4003,\n",
       "  'status': 'Open'},\n",
       " 'Pipe_24': {'diameter': 0.7565249,\n",
       "  'length': 1193.236,\n",
       "  'roughness': 141.5037,\n",
       "  'status': 'Open'},\n",
       " 'Pipe_3': {'diameter': 0.9429965,\n",
       "  'length': 942.114,\n",
       "  'roughness': 142.5124,\n",
       "  'status': 'Open'},\n",
       " 'Pipe_32': {'diameter': 0.3185912,\n",
       "  'length': 153.1708,\n",
       "  'roughness': 130.3373,\n",
       "  'status': 'Open'},\n",
       " 'Pipe_8': {'diameter': 1.038202,\n",
       "  'length': 857.5721,\n",
       "  'roughness': 125.6884,\n",
       "  'status': 'Open'},\n",
       " 'Pipe_23': {'diameter': 1.046681,\n",
       "  'length': 2714.027,\n",
       "  'roughness': 118.6827,\n",
       "  'status': 'Open'},\n",
       " 'Pipe_10': {'diameter': 0.7810109,\n",
       "  'length': 987.5174,\n",
       "  'roughness': 117.0064,\n",
       "  'status': 'Open'},\n",
       " 'Pipe_28': {'diameter': 0.3131806,\n",
       "  'length': 773.1004,\n",
       "  'roughness': 131.7228,\n",
       "  'status': 'Open'},\n",
       " 'Pipe_6': {'diameter': 1.039976,\n",
       "  'length': 437.3368,\n",
       "  'roughness': 129.394,\n",
       "  'status': 'Open'},\n",
       " 'Pipe_19': {'diameter': 0.5864745,\n",
       "  'length': 403.2065,\n",
       "  'roughness': 132.9782,\n",
       "  'status': 'Open'},\n",
       " 'Pipe_18': {'diameter': 0.6055914,\n",
       "  'length': 782.5734,\n",
       "  'roughness': 120.8565,\n",
       "  'status': 'Open'},\n",
       " 'Pipe_11': {'diameter': 0.8017894,\n",
       "  'length': 1238.727,\n",
       "  'roughness': 134.9172,\n",
       "  'status': 'Open'},\n",
       " 'Pipe_21': {'diameter': 0.5523491,\n",
       "  'length': 1443.366,\n",
       "  'roughness': 124.3549,\n",
       "  'status': 'Open'},\n",
       " 'Pipe_22': {'diameter': 0.3135412,\n",
       "  'length': 506.56,\n",
       "  'roughness': 120.6469,\n",
       "  'status': 'Open'},\n",
       " 'Pipe_9': {'diameter': 0.9925071,\n",
       "  'length': 815.7009,\n",
       "  'roughness': 132.6997,\n",
       "  'status': 'Open'},\n",
       " 'Pipe_20': {'diameter': 0.9507895,\n",
       "  'length': 2252.831,\n",
       "  'roughness': 121.7172,\n",
       "  'status': 'Open'},\n",
       " 'Pipe_15': {'diameter': 0.2939906,\n",
       "  'length': 550.52,\n",
       "  'roughness': 135.7511,\n",
       "  'status': 'Open'},\n",
       " 'Pipe_1': {'diameter': 1.032579,\n",
       "  'length': 101.8227,\n",
       "  'roughness': 132.0315,\n",
       "  'status': 'Open'},\n",
       " 'Pipe_16': {'diameter': 0.3693999,\n",
       "  'length': 2858.393,\n",
       "  'roughness': 131.5999,\n",
       "  'status': 'Open'}}"
      ]
     },
     "execution_count": 3,
     "metadata": {},
     "output_type": "execute_result"
    }
   ],
   "source": [
    "pipe_features"
   ]
  },
  {
   "cell_type": "markdown",
   "id": "63c7967c",
   "metadata": {},
   "source": [
    "### Normalize and standardize features"
   ]
  },
  {
   "cell_type": "code",
   "execution_count": 4,
   "id": "68cb7d89",
   "metadata": {},
   "outputs": [],
   "source": [
    "from sklearn.preprocessing import StandardScaler\n",
    "from sklearn.metrics.pairwise import euclidean_distances\n",
    "from sklearn.preprocessing import LabelBinarizer\n",
    "from itertools import combinations\n",
    "import numpy as np\n",
    "\n",
    "# Collect features\n",
    "pipe_ids = list(pipe_features.keys())\n",
    "\n",
    "# Prepare numeric features\n",
    "lengths, diameters, roughnesses, statuses = [], [], [], []\n",
    "connected_sets, node_sets = [], []\n",
    "\n",
    "for pid in pipe_ids:\n",
    "    f = pipe_features[pid]\n",
    "\n",
    "    lengths.append(f[\"length\"])\n",
    "    diameters.append(f[\"diameter\"])\n",
    "    roughnesses.append(f[\"roughness\"])\n",
    "    statuses.append(f[\"status\"])\n",
    " \n",
    "\n",
    "# Scale numeric and binary features\n",
    "scaler = StandardScaler()\n",
    "numeric_features = scaler.fit_transform(np.array([lengths, diameters, roughnesses]).T)\n",
    "\n",
    "lb = LabelBinarizer()\n",
    "status_encoded = lb.fit_transform(statuses)\n",
    "\n",
    "combined_features = np.hstack((numeric_features, status_encoded))\n",
    "eucl_dist_matrix = euclidean_distances(combined_features)\n",
    "\n",
    "# Step 2: Convert distance to similarity and scale\n",
    "norm_eucl_dist = eucl_dist_matrix / eucl_dist_matrix.max()\n",
    "eucl_sim_matrix = 1 - norm_eucl_dist  # now higher = more similar\n",
    "\n",
    "final_similarity = eucl_dist_matrix\n",
    "\n",
    "# Optional: Convert to distance matrix if using clustering\n",
    "final_distance = 1 - final_similarity\n"
   ]
  },
  {
   "cell_type": "code",
   "execution_count": 5,
   "id": "847df1b4",
   "metadata": {},
   "outputs": [
    {
     "data": {
      "text/plain": [
       "array([[ 1.10967251, -0.87101256, -0.48325967,  0.        ],\n",
       "       [ 0.51757691, -1.28808553, -1.17186702,  0.        ],\n",
       "       [-0.43581866,  1.40455842, -0.29851676,  0.        ],\n",
       "       [ 0.81198968, -0.51042913,  0.97345868,  0.        ],\n",
       "       [ 0.38251957,  1.52646529,  1.47714324,  0.        ],\n",
       "       [-0.45198016, -0.64055231,  0.29596192,  0.        ],\n",
       "       [ 0.12185513,  0.27916879, -0.40475224,  0.        ],\n",
       "       [-0.36348423, -0.76820886, -0.41918355,  0.        ],\n",
       "       [ 0.01699347,  1.37004194,  1.33241505,  0.        ],\n",
       "       [ 2.91637228, -0.17196226, -0.09207845,  0.        ],\n",
       "       [-0.25869375, -0.58870937, -1.48613199,  0.        ],\n",
       "       [ 0.23019748,  1.03314821, -1.32284925,  0.        ],\n",
       "       [-1.17195751, -1.35830781,  0.26123269,  0.        ],\n",
       "       [-0.85613528, -0.87808232,  1.09308774,  0.        ],\n",
       "       [-0.4847936 , -0.79933873,  1.73539867,  0.        ],\n",
       "       [ 0.52200008, -0.84869065,  0.61197026,  0.        ],\n",
       "       [ 0.03787222,  0.34581818,  1.59482138,  0.        ],\n",
       "       [-0.29689432,  1.00487446,  1.73438862,  0.        ],\n",
       "       [-1.3486213 , -1.20199367,  0.04979946,  0.        ],\n",
       "       [-0.40959571,  1.34136421, -0.59343851,  0.        ],\n",
       "       [ 2.06521327,  1.37133198, -1.56277152,  0.        ],\n",
       "       [-0.2363678 ,  0.43236033, -1.79471021,  0.        ],\n",
       "       [-0.52220352, -1.22111663,  0.24150205,  0.        ],\n",
       "       [-0.96980436,  1.34763415, -0.08071881,  0.        ],\n",
       "       [-1.01530289, -0.25519979,  0.41520356,  0.        ],\n",
       "       [-0.50957522, -0.18763394, -1.26199699,  0.        ],\n",
       "       [ 0.09851551,  0.50579886,  0.68349034,  0.        ],\n",
       "       [ 0.37131634, -0.37581096, -0.77794621,  0.        ],\n",
       "       [-0.87752407, -1.21984215, -1.29099798,  0.        ],\n",
       "       [-0.46541351,  1.17986235,  0.37666933,  0.        ],\n",
       "       [ 1.45040059,  1.03241766, -1.14290755,  0.        ],\n",
       "       [-0.81892173, -1.28894085,  0.79887165,  0.        ],\n",
       "       [-1.4170726 ,  1.32149055,  0.28421486,  0.        ],\n",
       "       [ 2.25766517, -1.02241784,  0.22449718,  0.        ]])"
      ]
     },
     "execution_count": 5,
     "metadata": {},
     "output_type": "execute_result"
    }
   ],
   "source": [
    "combined_features"
   ]
  },
  {
   "cell_type": "code",
   "execution_count": 6,
   "id": "e2fb0287",
   "metadata": {},
   "outputs": [],
   "source": [
    "import matplotlib.pyplot as plt\n",
    "from sklearn.cluster import KMeans\n",
    "\n",
    "# assuming combined_features is your normalized feature matrix (NumPy array or DataFrame)\n",
    "inertias = []\n",
    "K_range = range(1, 11)\n",
    "\n",
    "for k in K_range:\n",
    "    kmeans = KMeans(n_clusters=k, random_state=42, n_init=10)\n",
    "    kmeans.fit(combined_features)\n",
    "    inertias.append(kmeans.inertia_)\n"
   ]
  },
  {
   "cell_type": "code",
   "execution_count": 7,
   "id": "26913f09",
   "metadata": {},
   "outputs": [
    {
     "data": {
      "image/png": "[encoded data removed]",
      "text/plain": [
       "<Figure size 800x400 with 1 Axes>"
      ]
     },
     "metadata": {},
     "output_type": "display_data"
    }
   ],
   "source": [
    "# Plotting the elbow\n",
    "plt.figure(figsize=(8, 4))\n",
    "plt.plot(K_range, inertias, 'bo-')\n",
    "plt.xlabel('Number of clusters (k)')\n",
    "plt.ylabel('Inertia')\n",
    "plt.title('Elbow Method for Optimal k')\n",
    "plt.xticks(K_range)\n",
    "plt.grid(True)\n",
    "plt.show()"
   ]
  },
  {
   "cell_type": "code",
   "execution_count": 11,
   "id": "0e915466",
   "metadata": {},
   "outputs": [
    {
     "name": "stdout",
     "output_type": "stream",
     "text": [
      "10\n",
      "Cluster 3: Pipe_10, Pipe_18, Pipe_2, Pipe_21, Pipe_22, Pipe_25, Pipe_30, Pipe_31, Pipe_33, Pipe_34\n",
      "10\n",
      "Cluster 0: Pipe_1, Pipe_11, Pipe_24, Pipe_3, Pipe_4, Pipe_5, Pipe_6, Pipe_7, Pipe_8, Pipe_9\n",
      "10\n",
      "Cluster 1: Pipe_13, Pipe_14, Pipe_15, Pipe_17, Pipe_19, Pipe_26, Pipe_27, Pipe_28, Pipe_29, Pipe_32\n",
      "4\n",
      "Cluster 2: Pipe_12, Pipe_16, Pipe_20, Pipe_23\n"
     ]
    }
   ],
   "source": [
    "# Cluster\n",
    "from collections import defaultdict\n",
    "\n",
    "\n",
    "kmeans = KMeans(n_clusters=4, random_state=0, n_init=10)\n",
    "kmeans.fit(combined_features)\n",
    "\n",
    "pipe_clusters = dict(zip(pipe_ids, kmeans.labels_))\n",
    "# \n",
    "clusters = defaultdict(list)\n",
    "# Example: print each pipe with its assigned cluster\n",
    "for pipe, cluster in pipe_clusters.items():\n",
    "    clusters[cluster].append(pipe)\n",
    "\n",
    "for cluster_id, pipes in clusters.items():\n",
    "    print(len(pipes))\n",
    "    print(f\"Cluster {cluster_id}: {', '.join(sorted(pipes))}\")\n"
   ]
  }
 ],
 "metadata": {
  "kernelspec": {
   "display_name": "base",
   "language": "python",
   "name": "python3"
  },
  "language_info": {
   "codemirror_mode": {
    "name": "ipython",
    "version": 3
   },
   "file_extension": ".py",
   "mimetype": "text/x-python",
   "name": "python",
   "nbconvert_exporter": "python",
   "pygments_lexer": "ipython3",
   "version": "3.10.14"
  }
 },
 "nbformat": 4,
 "nbformat_minor": 5
}
