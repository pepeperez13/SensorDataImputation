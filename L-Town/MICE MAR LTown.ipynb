{
 "cells": [
  {
   "cell_type": "code",
   "execution_count": 1,
   "id": "656fe834",
   "metadata": {},
   "outputs": [],
   "source": [
    "import pandas as pd"
   ]
  },
  {
   "cell_type": "markdown",
   "id": "73d2f08b",
   "metadata": {},
   "source": [
    "## Get measurements from CSV"
   ]
  },
  {
   "cell_type": "code",
   "execution_count": 2,
   "id": "bee2f5d6",
   "metadata": {},
   "outputs": [],
   "source": [
    "sensor_readings = pd.read_csv(\"D:\\Master\\Thesis\\Code\\L-Town\\measurements_LTown.csv\", index_col = 0)\n",
    "\n",
    "sensor_readings['Timestamp'] = pd.to_datetime(sensor_readings['Timestamp'])\n",
    "\n",
    "# Extract entity ID and type\n",
    "sensor_readings['entity_id'] = sensor_readings['sensor_id'].apply(lambda x: \"_\".join(x.split(\"_\")[:2]))  # e.g., Node_1 or Pipe_12\n",
    "sensor_readings['measurement_type'] = sensor_readings['sensor_type']  # demand, pressure, flow\n",
    "sensor_readings['entity_type'] = sensor_readings['entity_id'].apply(lambda x: x.split(\"_\")[0])  # Node or Pipe\n"
   ]
  },
  {
   "cell_type": "code",
   "execution_count": 3,
   "id": "1b8f010c",
   "metadata": {},
   "outputs": [
    {
     "data": {
      "text/plain": [
       "array(['demand', 'flow', 'level', 'pressure'], dtype=object)"
      ]
     },
     "execution_count": 3,
     "metadata": {},
     "output_type": "execute_result"
    }
   ],
   "source": [
    "sensor_readings[\"measurement_type\"].unique()"
   ]
  },
  {
   "cell_type": "code",
   "execution_count": 4,
   "id": "59c52a47",
   "metadata": {},
   "outputs": [
    {
     "data": {
      "text/html": [
       "<div>\n",
       "<style scoped>\n",
       "    .dataframe tbody tr th:only-of-type {\n",
       "        vertical-align: middle;\n",
       "    }\n",
       "\n",
       "    .dataframe tbody tr th {\n",
       "        vertical-align: top;\n",
       "    }\n",
       "\n",
       "    .dataframe thead th {\n",
       "        text-align: right;\n",
       "    }\n",
       "</style>\n",
       "<table border=\"1\" class=\"dataframe\">\n",
       "  <thead>\n",
       "    <tr style=\"text-align: right;\">\n",
       "      <th></th>\n",
       "      <th>Timestamp</th>\n",
       "      <th>sensor_id</th>\n",
       "      <th>measurement</th>\n",
       "      <th>sensor_type</th>\n",
       "      <th>unique_id</th>\n",
       "      <th>entity_id</th>\n",
       "      <th>measurement_type</th>\n",
       "      <th>entity_type</th>\n",
       "    </tr>\n",
       "  </thead>\n",
       "  <tbody>\n",
       "    <tr>\n",
       "      <th>0</th>\n",
       "      <td>2018-01-01 00:00:00</td>\n",
       "      <td>n1_demand</td>\n",
       "      <td>41.801667</td>\n",
       "      <td>demand</td>\n",
       "      <td>n1_demand_2018-01-01 00:00:00</td>\n",
       "      <td>n1_demand</td>\n",
       "      <td>demand</td>\n",
       "      <td>n1</td>\n",
       "    </tr>\n",
       "    <tr>\n",
       "      <th>1</th>\n",
       "      <td>2018-01-01 00:30:00</td>\n",
       "      <td>n1_demand</td>\n",
       "      <td>37.711667</td>\n",
       "      <td>demand</td>\n",
       "      <td>n1_demand_2018-01-01 00:30:00</td>\n",
       "      <td>n1_demand</td>\n",
       "      <td>demand</td>\n",
       "      <td>n1</td>\n",
       "    </tr>\n",
       "    <tr>\n",
       "      <th>2</th>\n",
       "      <td>2018-01-01 01:00:00</td>\n",
       "      <td>n1_demand</td>\n",
       "      <td>37.425000</td>\n",
       "      <td>demand</td>\n",
       "      <td>n1_demand_2018-01-01 01:00:00</td>\n",
       "      <td>n1_demand</td>\n",
       "      <td>demand</td>\n",
       "      <td>n1</td>\n",
       "    </tr>\n",
       "    <tr>\n",
       "      <th>3</th>\n",
       "      <td>2018-01-01 01:30:00</td>\n",
       "      <td>n1_demand</td>\n",
       "      <td>41.076667</td>\n",
       "      <td>demand</td>\n",
       "      <td>n1_demand_2018-01-01 01:30:00</td>\n",
       "      <td>n1_demand</td>\n",
       "      <td>demand</td>\n",
       "      <td>n1</td>\n",
       "    </tr>\n",
       "    <tr>\n",
       "      <th>4</th>\n",
       "      <td>2018-01-01 02:00:00</td>\n",
       "      <td>n1_demand</td>\n",
       "      <td>39.751667</td>\n",
       "      <td>demand</td>\n",
       "      <td>n1_demand_2018-01-01 02:00:00</td>\n",
       "      <td>n1_demand</td>\n",
       "      <td>demand</td>\n",
       "      <td>n1</td>\n",
       "    </tr>\n",
       "    <tr>\n",
       "      <th>...</th>\n",
       "      <td>...</td>\n",
       "      <td>...</td>\n",
       "      <td>...</td>\n",
       "      <td>...</td>\n",
       "      <td>...</td>\n",
       "      <td>...</td>\n",
       "      <td>...</td>\n",
       "      <td>...</td>\n",
       "    </tr>\n",
       "    <tr>\n",
       "      <th>5326075</th>\n",
       "      <td>2018-12-31 23:35:00</td>\n",
       "      <td>n769_pressure</td>\n",
       "      <td>48.330000</td>\n",
       "      <td>pressure</td>\n",
       "      <td>n769_pressure_2018-12-31 23:35:00</td>\n",
       "      <td>n769_pressure</td>\n",
       "      <td>pressure</td>\n",
       "      <td>n769</td>\n",
       "    </tr>\n",
       "    <tr>\n",
       "      <th>5326076</th>\n",
       "      <td>2018-12-31 23:40:00</td>\n",
       "      <td>n769_pressure</td>\n",
       "      <td>48.330000</td>\n",
       "      <td>pressure</td>\n",
       "      <td>n769_pressure_2018-12-31 23:40:00</td>\n",
       "      <td>n769_pressure</td>\n",
       "      <td>pressure</td>\n",
       "      <td>n769</td>\n",
       "    </tr>\n",
       "    <tr>\n",
       "      <th>5326077</th>\n",
       "      <td>2018-12-31 23:45:00</td>\n",
       "      <td>n769_pressure</td>\n",
       "      <td>48.360000</td>\n",
       "      <td>pressure</td>\n",
       "      <td>n769_pressure_2018-12-31 23:45:00</td>\n",
       "      <td>n769_pressure</td>\n",
       "      <td>pressure</td>\n",
       "      <td>n769</td>\n",
       "    </tr>\n",
       "    <tr>\n",
       "      <th>5326078</th>\n",
       "      <td>2018-12-31 23:50:00</td>\n",
       "      <td>n769_pressure</td>\n",
       "      <td>48.320000</td>\n",
       "      <td>pressure</td>\n",
       "      <td>n769_pressure_2018-12-31 23:50:00</td>\n",
       "      <td>n769_pressure</td>\n",
       "      <td>pressure</td>\n",
       "      <td>n769</td>\n",
       "    </tr>\n",
       "    <tr>\n",
       "      <th>5326079</th>\n",
       "      <td>2018-12-31 23:55:00</td>\n",
       "      <td>n769_pressure</td>\n",
       "      <td>48.420000</td>\n",
       "      <td>pressure</td>\n",
       "      <td>n769_pressure_2018-12-31 23:55:00</td>\n",
       "      <td>n769_pressure</td>\n",
       "      <td>pressure</td>\n",
       "      <td>n769</td>\n",
       "    </tr>\n",
       "  </tbody>\n",
       "</table>\n",
       "<p>5326080 rows × 8 columns</p>\n",
       "</div>"
      ],
      "text/plain": [
       "                  Timestamp      sensor_id  measurement sensor_type  \\\n",
       "0       2018-01-01 00:00:00      n1_demand    41.801667      demand   \n",
       "1       2018-01-01 00:30:00      n1_demand    37.711667      demand   \n",
       "2       2018-01-01 01:00:00      n1_demand    37.425000      demand   \n",
       "3       2018-01-01 01:30:00      n1_demand    41.076667      demand   \n",
       "4       2018-01-01 02:00:00      n1_demand    39.751667      demand   \n",
       "...                     ...            ...          ...         ...   \n",
       "5326075 2018-12-31 23:35:00  n769_pressure    48.330000    pressure   \n",
       "5326076 2018-12-31 23:40:00  n769_pressure    48.330000    pressure   \n",
       "5326077 2018-12-31 23:45:00  n769_pressure    48.360000    pressure   \n",
       "5326078 2018-12-31 23:50:00  n769_pressure    48.320000    pressure   \n",
       "5326079 2018-12-31 23:55:00  n769_pressure    48.420000    pressure   \n",
       "\n",
       "                                 unique_id      entity_id measurement_type  \\\n",
       "0            n1_demand_2018-01-01 00:00:00      n1_demand           demand   \n",
       "1            n1_demand_2018-01-01 00:30:00      n1_demand           demand   \n",
       "2            n1_demand_2018-01-01 01:00:00      n1_demand           demand   \n",
       "3            n1_demand_2018-01-01 01:30:00      n1_demand           demand   \n",
       "4            n1_demand_2018-01-01 02:00:00      n1_demand           demand   \n",
       "...                                    ...            ...              ...   \n",
       "5326075  n769_pressure_2018-12-31 23:35:00  n769_pressure         pressure   \n",
       "5326076  n769_pressure_2018-12-31 23:40:00  n769_pressure         pressure   \n",
       "5326077  n769_pressure_2018-12-31 23:45:00  n769_pressure         pressure   \n",
       "5326078  n769_pressure_2018-12-31 23:50:00  n769_pressure         pressure   \n",
       "5326079  n769_pressure_2018-12-31 23:55:00  n769_pressure         pressure   \n",
       "\n",
       "        entity_type  \n",
       "0                n1  \n",
       "1                n1  \n",
       "2                n1  \n",
       "3                n1  \n",
       "4                n1  \n",
       "...             ...  \n",
       "5326075        n769  \n",
       "5326076        n769  \n",
       "5326077        n769  \n",
       "5326078        n769  \n",
       "5326079        n769  \n",
       "\n",
       "[5326080 rows x 8 columns]"
      ]
     },
     "execution_count": 4,
     "metadata": {},
     "output_type": "execute_result"
    }
   ],
   "source": [
    "sensor_readings"
   ]
  },
  {
   "cell_type": "code",
   "execution_count": 5,
   "id": "62e8958f",
   "metadata": {},
   "outputs": [],
   "source": [
    "# Nodes → demand\n",
    "demands_df = sensor_readings[sensor_readings['measurement_type'] == 'demand']\n",
    "demands_all = demands_df.pivot_table(index='Timestamp', columns=['entity_type'], values='measurement')"
   ]
  },
  {
   "cell_type": "code",
   "execution_count": 6,
   "id": "5fd0af73",
   "metadata": {},
   "outputs": [
    {
     "data": {
      "text/html": [
       "<div>\n",
       "<style scoped>\n",
       "    .dataframe tbody tr th:only-of-type {\n",
       "        vertical-align: middle;\n",
       "    }\n",
       "\n",
       "    .dataframe tbody tr th {\n",
       "        vertical-align: top;\n",
       "    }\n",
       "\n",
       "    .dataframe thead th {\n",
       "        text-align: right;\n",
       "    }\n",
       "</style>\n",
       "<table border=\"1\" class=\"dataframe\">\n",
       "  <thead>\n",
       "    <tr style=\"text-align: right;\">\n",
       "      <th>entity_type</th>\n",
       "      <th>n1</th>\n",
       "      <th>n10</th>\n",
       "      <th>n11</th>\n",
       "      <th>n13</th>\n",
       "      <th>n16</th>\n",
       "      <th>n17</th>\n",
       "      <th>n18</th>\n",
       "      <th>n19</th>\n",
       "      <th>n2</th>\n",
       "      <th>n20</th>\n",
       "      <th>...</th>\n",
       "      <th>n40</th>\n",
       "      <th>n41</th>\n",
       "      <th>n42</th>\n",
       "      <th>n43</th>\n",
       "      <th>n44</th>\n",
       "      <th>n45</th>\n",
       "      <th>n6</th>\n",
       "      <th>n7</th>\n",
       "      <th>n8</th>\n",
       "      <th>n9</th>\n",
       "    </tr>\n",
       "    <tr>\n",
       "      <th>Timestamp</th>\n",
       "      <th></th>\n",
       "      <th></th>\n",
       "      <th></th>\n",
       "      <th></th>\n",
       "      <th></th>\n",
       "      <th></th>\n",
       "      <th></th>\n",
       "      <th></th>\n",
       "      <th></th>\n",
       "      <th></th>\n",
       "      <th></th>\n",
       "      <th></th>\n",
       "      <th></th>\n",
       "      <th></th>\n",
       "      <th></th>\n",
       "      <th></th>\n",
       "      <th></th>\n",
       "      <th></th>\n",
       "      <th></th>\n",
       "      <th></th>\n",
       "      <th></th>\n",
       "    </tr>\n",
       "  </thead>\n",
       "  <tbody>\n",
       "    <tr>\n",
       "      <th>2018-01-01 00:00:00</th>\n",
       "      <td>41.801667</td>\n",
       "      <td>42.246667</td>\n",
       "      <td>252.763333</td>\n",
       "      <td>169.983333</td>\n",
       "      <td>61.173333</td>\n",
       "      <td>268.900000</td>\n",
       "      <td>46.381667</td>\n",
       "      <td>95.145000</td>\n",
       "      <td>112.651667</td>\n",
       "      <td>106.310000</td>\n",
       "      <td>...</td>\n",
       "      <td>210.528333</td>\n",
       "      <td>89.528333</td>\n",
       "      <td>133.441667</td>\n",
       "      <td>74.175000</td>\n",
       "      <td>25.051667</td>\n",
       "      <td>217.703333</td>\n",
       "      <td>177.465000</td>\n",
       "      <td>255.903333</td>\n",
       "      <td>231.466667</td>\n",
       "      <td>262.408333</td>\n",
       "    </tr>\n",
       "    <tr>\n",
       "      <th>2018-01-01 00:30:00</th>\n",
       "      <td>37.711667</td>\n",
       "      <td>42.080000</td>\n",
       "      <td>272.173333</td>\n",
       "      <td>101.300000</td>\n",
       "      <td>40.010000</td>\n",
       "      <td>204.651667</td>\n",
       "      <td>42.625000</td>\n",
       "      <td>75.115000</td>\n",
       "      <td>83.136667</td>\n",
       "      <td>66.536667</td>\n",
       "      <td>...</td>\n",
       "      <td>151.203333</td>\n",
       "      <td>83.045000</td>\n",
       "      <td>123.778333</td>\n",
       "      <td>51.951667</td>\n",
       "      <td>18.488333</td>\n",
       "      <td>136.255000</td>\n",
       "      <td>135.065000</td>\n",
       "      <td>210.073333</td>\n",
       "      <td>126.196667</td>\n",
       "      <td>212.028333</td>\n",
       "    </tr>\n",
       "    <tr>\n",
       "      <th>2018-01-01 01:00:00</th>\n",
       "      <td>37.425000</td>\n",
       "      <td>23.261667</td>\n",
       "      <td>189.163333</td>\n",
       "      <td>91.825000</td>\n",
       "      <td>36.916667</td>\n",
       "      <td>196.053333</td>\n",
       "      <td>23.851667</td>\n",
       "      <td>51.430000</td>\n",
       "      <td>46.375000</td>\n",
       "      <td>56.936667</td>\n",
       "      <td>...</td>\n",
       "      <td>126.426667</td>\n",
       "      <td>54.695000</td>\n",
       "      <td>81.520000</td>\n",
       "      <td>48.276667</td>\n",
       "      <td>10.311667</td>\n",
       "      <td>116.596667</td>\n",
       "      <td>129.391667</td>\n",
       "      <td>165.678333</td>\n",
       "      <td>116.610000</td>\n",
       "      <td>133.613333</td>\n",
       "    </tr>\n",
       "    <tr>\n",
       "      <th>2018-01-01 01:30:00</th>\n",
       "      <td>41.076667</td>\n",
       "      <td>22.885000</td>\n",
       "      <td>189.800000</td>\n",
       "      <td>43.513333</td>\n",
       "      <td>34.856667</td>\n",
       "      <td>145.695000</td>\n",
       "      <td>28.040000</td>\n",
       "      <td>32.316667</td>\n",
       "      <td>51.645000</td>\n",
       "      <td>44.796667</td>\n",
       "      <td>...</td>\n",
       "      <td>57.490000</td>\n",
       "      <td>42.215000</td>\n",
       "      <td>62.923333</td>\n",
       "      <td>33.740000</td>\n",
       "      <td>11.483333</td>\n",
       "      <td>91.736667</td>\n",
       "      <td>96.156667</td>\n",
       "      <td>120.151667</td>\n",
       "      <td>115.490000</td>\n",
       "      <td>92.256667</td>\n",
       "    </tr>\n",
       "    <tr>\n",
       "      <th>2018-01-01 02:00:00</th>\n",
       "      <td>39.751667</td>\n",
       "      <td>14.896667</td>\n",
       "      <td>126.500000</td>\n",
       "      <td>53.878333</td>\n",
       "      <td>34.081667</td>\n",
       "      <td>90.496667</td>\n",
       "      <td>13.090000</td>\n",
       "      <td>17.340000</td>\n",
       "      <td>40.926667</td>\n",
       "      <td>41.073333</td>\n",
       "      <td>...</td>\n",
       "      <td>91.510000</td>\n",
       "      <td>48.531667</td>\n",
       "      <td>72.335000</td>\n",
       "      <td>23.166667</td>\n",
       "      <td>9.100000</td>\n",
       "      <td>84.108333</td>\n",
       "      <td>59.726667</td>\n",
       "      <td>54.741667</td>\n",
       "      <td>76.676667</td>\n",
       "      <td>99.265000</td>\n",
       "    </tr>\n",
       "    <tr>\n",
       "      <th>...</th>\n",
       "      <td>...</td>\n",
       "      <td>...</td>\n",
       "      <td>...</td>\n",
       "      <td>...</td>\n",
       "      <td>...</td>\n",
       "      <td>...</td>\n",
       "      <td>...</td>\n",
       "      <td>...</td>\n",
       "      <td>...</td>\n",
       "      <td>...</td>\n",
       "      <td>...</td>\n",
       "      <td>...</td>\n",
       "      <td>...</td>\n",
       "      <td>...</td>\n",
       "      <td>...</td>\n",
       "      <td>...</td>\n",
       "      <td>...</td>\n",
       "      <td>...</td>\n",
       "      <td>...</td>\n",
       "      <td>...</td>\n",
       "      <td>...</td>\n",
       "    </tr>\n",
       "    <tr>\n",
       "      <th>2018-12-31 21:30:00</th>\n",
       "      <td>214.273333</td>\n",
       "      <td>110.821667</td>\n",
       "      <td>514.861667</td>\n",
       "      <td>238.323333</td>\n",
       "      <td>87.590000</td>\n",
       "      <td>413.788333</td>\n",
       "      <td>62.458333</td>\n",
       "      <td>115.005000</td>\n",
       "      <td>130.740000</td>\n",
       "      <td>155.675000</td>\n",
       "      <td>...</td>\n",
       "      <td>294.626667</td>\n",
       "      <td>144.903333</td>\n",
       "      <td>215.978333</td>\n",
       "      <td>161.385000</td>\n",
       "      <td>29.076667</td>\n",
       "      <td>318.801667</td>\n",
       "      <td>273.091667</td>\n",
       "      <td>534.883333</td>\n",
       "      <td>394.745000</td>\n",
       "      <td>442.275000</td>\n",
       "    </tr>\n",
       "    <tr>\n",
       "      <th>2018-12-31 22:00:00</th>\n",
       "      <td>115.246667</td>\n",
       "      <td>105.376667</td>\n",
       "      <td>393.791667</td>\n",
       "      <td>217.011667</td>\n",
       "      <td>58.318333</td>\n",
       "      <td>468.473333</td>\n",
       "      <td>52.306667</td>\n",
       "      <td>97.768333</td>\n",
       "      <td>170.505000</td>\n",
       "      <td>108.668333</td>\n",
       "      <td>...</td>\n",
       "      <td>336.743333</td>\n",
       "      <td>111.061667</td>\n",
       "      <td>165.533333</td>\n",
       "      <td>93.121667</td>\n",
       "      <td>37.916667</td>\n",
       "      <td>222.533333</td>\n",
       "      <td>309.181667</td>\n",
       "      <td>431.168333</td>\n",
       "      <td>322.828333</td>\n",
       "      <td>519.708333</td>\n",
       "    </tr>\n",
       "    <tr>\n",
       "      <th>2018-12-31 22:30:00</th>\n",
       "      <td>100.130000</td>\n",
       "      <td>93.946667</td>\n",
       "      <td>463.678333</td>\n",
       "      <td>176.165000</td>\n",
       "      <td>115.300000</td>\n",
       "      <td>317.785000</td>\n",
       "      <td>57.188333</td>\n",
       "      <td>92.020000</td>\n",
       "      <td>215.485000</td>\n",
       "      <td>142.785000</td>\n",
       "      <td>...</td>\n",
       "      <td>350.755000</td>\n",
       "      <td>149.801667</td>\n",
       "      <td>223.280000</td>\n",
       "      <td>145.436667</td>\n",
       "      <td>47.916667</td>\n",
       "      <td>292.401667</td>\n",
       "      <td>209.728333</td>\n",
       "      <td>262.151667</td>\n",
       "      <td>309.735000</td>\n",
       "      <td>506.728333</td>\n",
       "    </tr>\n",
       "    <tr>\n",
       "      <th>2018-12-31 23:00:00</th>\n",
       "      <td>86.341667</td>\n",
       "      <td>79.351667</td>\n",
       "      <td>280.090000</td>\n",
       "      <td>129.500000</td>\n",
       "      <td>49.543333</td>\n",
       "      <td>483.565000</td>\n",
       "      <td>59.020000</td>\n",
       "      <td>123.618333</td>\n",
       "      <td>163.938333</td>\n",
       "      <td>88.136667</td>\n",
       "      <td>...</td>\n",
       "      <td>244.966667</td>\n",
       "      <td>153.910000</td>\n",
       "      <td>229.401667</td>\n",
       "      <td>78.268333</td>\n",
       "      <td>36.455000</td>\n",
       "      <td>180.486667</td>\n",
       "      <td>319.141667</td>\n",
       "      <td>279.896667</td>\n",
       "      <td>242.455000</td>\n",
       "      <td>365.876667</td>\n",
       "    </tr>\n",
       "    <tr>\n",
       "      <th>2018-12-31 23:30:00</th>\n",
       "      <td>162.308333</td>\n",
       "      <td>47.708333</td>\n",
       "      <td>305.051667</td>\n",
       "      <td>116.960000</td>\n",
       "      <td>48.160000</td>\n",
       "      <td>328.928333</td>\n",
       "      <td>50.813333</td>\n",
       "      <td>74.220000</td>\n",
       "      <td>118.056667</td>\n",
       "      <td>101.488333</td>\n",
       "      <td>...</td>\n",
       "      <td>223.375000</td>\n",
       "      <td>119.988333</td>\n",
       "      <td>178.845000</td>\n",
       "      <td>106.420000</td>\n",
       "      <td>26.253333</td>\n",
       "      <td>207.828333</td>\n",
       "      <td>217.085000</td>\n",
       "      <td>269.300000</td>\n",
       "      <td>182.751667</td>\n",
       "      <td>339.525000</td>\n",
       "    </tr>\n",
       "  </tbody>\n",
       "</table>\n",
       "<p>17520 rows × 82 columns</p>\n",
       "</div>"
      ],
      "text/plain": [
       "entity_type                  n1         n10         n11         n13  \\\n",
       "Timestamp                                                             \n",
       "2018-01-01 00:00:00   41.801667   42.246667  252.763333  169.983333   \n",
       "2018-01-01 00:30:00   37.711667   42.080000  272.173333  101.300000   \n",
       "2018-01-01 01:00:00   37.425000   23.261667  189.163333   91.825000   \n",
       "2018-01-01 01:30:00   41.076667   22.885000  189.800000   43.513333   \n",
       "2018-01-01 02:00:00   39.751667   14.896667  126.500000   53.878333   \n",
       "...                         ...         ...         ...         ...   \n",
       "2018-12-31 21:30:00  214.273333  110.821667  514.861667  238.323333   \n",
       "2018-12-31 22:00:00  115.246667  105.376667  393.791667  217.011667   \n",
       "2018-12-31 22:30:00  100.130000   93.946667  463.678333  176.165000   \n",
       "2018-12-31 23:00:00   86.341667   79.351667  280.090000  129.500000   \n",
       "2018-12-31 23:30:00  162.308333   47.708333  305.051667  116.960000   \n",
       "\n",
       "entity_type                 n16         n17        n18         n19  \\\n",
       "Timestamp                                                            \n",
       "2018-01-01 00:00:00   61.173333  268.900000  46.381667   95.145000   \n",
       "2018-01-01 00:30:00   40.010000  204.651667  42.625000   75.115000   \n",
       "2018-01-01 01:00:00   36.916667  196.053333  23.851667   51.430000   \n",
       "2018-01-01 01:30:00   34.856667  145.695000  28.040000   32.316667   \n",
       "2018-01-01 02:00:00   34.081667   90.496667  13.090000   17.340000   \n",
       "...                         ...         ...        ...         ...   \n",
       "2018-12-31 21:30:00   87.590000  413.788333  62.458333  115.005000   \n",
       "2018-12-31 22:00:00   58.318333  468.473333  52.306667   97.768333   \n",
       "2018-12-31 22:30:00  115.300000  317.785000  57.188333   92.020000   \n",
       "2018-12-31 23:00:00   49.543333  483.565000  59.020000  123.618333   \n",
       "2018-12-31 23:30:00   48.160000  328.928333  50.813333   74.220000   \n",
       "\n",
       "entity_type                  n2         n20  ...         n40         n41  \\\n",
       "Timestamp                                    ...                           \n",
       "2018-01-01 00:00:00  112.651667  106.310000  ...  210.528333   89.528333   \n",
       "2018-01-01 00:30:00   83.136667   66.536667  ...  151.203333   83.045000   \n",
       "2018-01-01 01:00:00   46.375000   56.936667  ...  126.426667   54.695000   \n",
       "2018-01-01 01:30:00   51.645000   44.796667  ...   57.490000   42.215000   \n",
       "2018-01-01 02:00:00   40.926667   41.073333  ...   91.510000   48.531667   \n",
       "...                         ...         ...  ...         ...         ...   \n",
       "2018-12-31 21:30:00  130.740000  155.675000  ...  294.626667  144.903333   \n",
       "2018-12-31 22:00:00  170.505000  108.668333  ...  336.743333  111.061667   \n",
       "2018-12-31 22:30:00  215.485000  142.785000  ...  350.755000  149.801667   \n",
       "2018-12-31 23:00:00  163.938333   88.136667  ...  244.966667  153.910000   \n",
       "2018-12-31 23:30:00  118.056667  101.488333  ...  223.375000  119.988333   \n",
       "\n",
       "entity_type                 n42         n43        n44         n45  \\\n",
       "Timestamp                                                            \n",
       "2018-01-01 00:00:00  133.441667   74.175000  25.051667  217.703333   \n",
       "2018-01-01 00:30:00  123.778333   51.951667  18.488333  136.255000   \n",
       "2018-01-01 01:00:00   81.520000   48.276667  10.311667  116.596667   \n",
       "2018-01-01 01:30:00   62.923333   33.740000  11.483333   91.736667   \n",
       "2018-01-01 02:00:00   72.335000   23.166667   9.100000   84.108333   \n",
       "...                         ...         ...        ...         ...   \n",
       "2018-12-31 21:30:00  215.978333  161.385000  29.076667  318.801667   \n",
       "2018-12-31 22:00:00  165.533333   93.121667  37.916667  222.533333   \n",
       "2018-12-31 22:30:00  223.280000  145.436667  47.916667  292.401667   \n",
       "2018-12-31 23:00:00  229.401667   78.268333  36.455000  180.486667   \n",
       "2018-12-31 23:30:00  178.845000  106.420000  26.253333  207.828333   \n",
       "\n",
       "entity_type                  n6          n7          n8          n9  \n",
       "Timestamp                                                            \n",
       "2018-01-01 00:00:00  177.465000  255.903333  231.466667  262.408333  \n",
       "2018-01-01 00:30:00  135.065000  210.073333  126.196667  212.028333  \n",
       "2018-01-01 01:00:00  129.391667  165.678333  116.610000  133.613333  \n",
       "2018-01-01 01:30:00   96.156667  120.151667  115.490000   92.256667  \n",
       "2018-01-01 02:00:00   59.726667   54.741667   76.676667   99.265000  \n",
       "...                         ...         ...         ...         ...  \n",
       "2018-12-31 21:30:00  273.091667  534.883333  394.745000  442.275000  \n",
       "2018-12-31 22:00:00  309.181667  431.168333  322.828333  519.708333  \n",
       "2018-12-31 22:30:00  209.728333  262.151667  309.735000  506.728333  \n",
       "2018-12-31 23:00:00  319.141667  279.896667  242.455000  365.876667  \n",
       "2018-12-31 23:30:00  217.085000  269.300000  182.751667  339.525000  \n",
       "\n",
       "[17520 rows x 82 columns]"
      ]
     },
     "execution_count": 6,
     "metadata": {},
     "output_type": "execute_result"
    }
   ],
   "source": [
    "demands_all"
   ]
  },
  {
   "cell_type": "markdown",
   "id": "68a77780",
   "metadata": {},
   "source": [
    "### Separate data by feature"
   ]
  },
  {
   "cell_type": "markdown",
   "id": "356297cd",
   "metadata": {},
   "source": [
    "## Imputation"
   ]
  },
  {
   "cell_type": "markdown",
   "id": "47181d04",
   "metadata": {},
   "source": [
    "### Split train/val, and scale"
   ]
  },
  {
   "cell_type": "code",
   "execution_count": 7,
   "id": "38390468",
   "metadata": {},
   "outputs": [],
   "source": [
    "import numpy as np\n",
    "from sklearn.model_selection import train_test_split\n",
    "from sklearn.discriminant_analysis import StandardScaler\n",
    "import joblib\n",
    "\n",
    "def split_scale(measurements, feature, cluster):\n",
    "\n",
    "    # Step 1: Split the full data (X_seq or X_ori) into train and validation sets\n",
    "    X_train_full, X_val_full = train_test_split(measurements, test_size=0.2, shuffle = False, random_state=36)\n",
    "\n",
    "    scaler = StandardScaler()\n",
    "\n",
    "    # Fit and transform training data\n",
    "    X_train_full_scaled = X_train_full.copy()\n",
    "    X_train_full_scaled = scaler.fit_transform(X_train_full)\n",
    "    X_train_full_scaled = pd.DataFrame(X_train_full_scaled, columns=X_train_full.columns, index=X_train_full.index)\n",
    "\n",
    "    # Save scaler with specific name for later rescaling\n",
    "    joblib.dump(scaler, f\"{feature}_scaler_{cluster}.pkl\")\n",
    "\n",
    "    # Now, apply ONLY transformation (not fitting) on val data\n",
    "    X_val_full_scaled = X_val_full.copy()\n",
    "    X_val_full_scaled = scaler.transform(X_val_full)\n",
    "    X_val_full_scaled = pd.DataFrame(X_val_full_scaled, columns=X_val_full.columns, index=X_val_full.index)\n",
    "\n",
    "    return X_train_full_scaled, X_val_full_scaled, X_train_full, X_val_full"
   ]
  },
  {
   "cell_type": "markdown",
   "id": "08e8fbe8",
   "metadata": {},
   "source": [
    "### Select semantically relevant pipes"
   ]
  },
  {
   "cell_type": "markdown",
   "id": "9a912b1c",
   "metadata": {},
   "source": [
    "Cluster 3: n18, n20, n21, n23, n24, n25, n26, n27, n28, n31, n33, n34, n343, n35, n356, n361, n364, n365, n366, n367, n369, n370, n372, n373, n377, n385, n387, n389, n39, n4, n43, n44  \n",
    "\n",
    "Cluster 2: n30, n344, n351, n353, n358, n36, n381, n6, n7, n9  \n",
    "\n",
    "Cluster 0: n1, n10, n16, n19, n2, n22, n29, n3, n32, n345, n346, n347, n349, n350, n352, n354, n357, n362, n368, n371, n374, n375, n376, n378, n379, n382, n383, n384, n41  \n",
    "\n",
    "Cluster 1: n11, n13, n17, n355, n360, n386, n388, n40, n42, n45, n8"
   ]
  },
  {
   "cell_type": "code",
   "execution_count": 8,
   "id": "1e81474e",
   "metadata": {},
   "outputs": [],
   "source": [
    "raw_nodes = \"n30, n344, n351, n353, n358, n36, n381, n6, n7, n9\"\n",
    "quoted_nodes = [f\"{node.strip()}\" for node in raw_nodes.split(',')]"
   ]
  },
  {
   "cell_type": "code",
   "execution_count": 9,
   "id": "5e0372fe",
   "metadata": {},
   "outputs": [
    {
     "data": {
      "text/plain": [
       "['n30', 'n344', 'n351', 'n353', 'n358', 'n36', 'n381', 'n6', 'n7', 'n9']"
      ]
     },
     "execution_count": 9,
     "metadata": {},
     "output_type": "execute_result"
    }
   ],
   "source": [
    "quoted_nodes"
   ]
  },
  {
   "cell_type": "code",
   "execution_count": 10,
   "id": "f7293606",
   "metadata": {},
   "outputs": [
    {
     "data": {
      "text/plain": [
       "82"
      ]
     },
     "execution_count": 10,
     "metadata": {},
     "output_type": "execute_result"
    }
   ],
   "source": [
    "len(demands_all.columns)"
   ]
  },
  {
   "cell_type": "code",
   "execution_count": 11,
   "id": "49d8b06d",
   "metadata": {},
   "outputs": [],
   "source": [
    "demands_c0 = demands_all[['n1', 'n10', 'n16', 'n19', 'n2', 'n22', 'n29', 'n3', 'n32', 'n345', 'n346', 'n347', 'n349', 'n350', 'n352', 'n354', 'n357', 'n362', 'n368', 'n371', 'n374', 'n375', 'n376', 'n378', 'n379', 'n382', 'n383', 'n384', 'n41']]\n",
    "demands_c1 = demands_all[[\"n11\", \"n13\", \"n17\", \"n355\", \"n360\", \"n386\", \"n388\", \"n40\", \"n42\", \"n45\", \"n8\"]]\n",
    "demands_c2 = demands_all[['n30', 'n344', 'n351', 'n353', 'n358', 'n36', 'n381', 'n6', 'n7', 'n9']]\n",
    "demands_c3 = demands_all[[\"n18\", \"n20\", \"n21\", \"n23\", \"n24\", \"n25\", \"n26\", \"n27\", \"n28\", \"n31\", \"n33\", \"n34\", \"n343\", \"n35\", \"n356\", \"n361\", \"n364\", \"n365\", \"n366\", \"n367\", \"n369\", \"n370\", \"n372\", \"n373\", \"n377\", \"n385\", \"n387\", \"n389\", \"n39\", \"n4\", \"n43\", \"n44\"]]\n",
    "full_cluster = demands_all[:65]\n",
    "\n",
    "# Initialize the containers\n",
    "X_train_full_scaled = {}\n",
    "X_val_full_scaled = {}\n",
    "X_train_full_unscaled = {}\n",
    "X_val_full_unscaled = {}\n",
    "clusters = [demands_c0, demands_c1, demands_c2, demands_c3, full_cluster]\n",
    "\n",
    "# Iterate over the clusters\n",
    "for i, flow_cluster in enumerate(clusters):\n",
    "    X_train_full_scaled[i], X_val_full_scaled[i], X_train_full_unscaled[i], X_val_full_unscaled[i] = split_scale(flow_cluster, \"demand\", i)\n"
   ]
  },
  {
   "cell_type": "code",
   "execution_count": 12,
   "id": "6ea410c1",
   "metadata": {},
   "outputs": [
    {
     "data": {
      "text/html": [
       "<div>\n",
       "<style scoped>\n",
       "    .dataframe tbody tr th:only-of-type {\n",
       "        vertical-align: middle;\n",
       "    }\n",
       "\n",
       "    .dataframe tbody tr th {\n",
       "        vertical-align: top;\n",
       "    }\n",
       "\n",
       "    .dataframe thead th {\n",
       "        text-align: right;\n",
       "    }\n",
       "</style>\n",
       "<table border=\"1\" class=\"dataframe\">\n",
       "  <thead>\n",
       "    <tr style=\"text-align: right;\">\n",
       "      <th>entity_type</th>\n",
       "      <th>n11</th>\n",
       "      <th>n13</th>\n",
       "      <th>n17</th>\n",
       "      <th>n355</th>\n",
       "      <th>n360</th>\n",
       "      <th>n386</th>\n",
       "      <th>n388</th>\n",
       "      <th>n40</th>\n",
       "      <th>n42</th>\n",
       "      <th>n45</th>\n",
       "      <th>n8</th>\n",
       "    </tr>\n",
       "    <tr>\n",
       "      <th>Timestamp</th>\n",
       "      <th></th>\n",
       "      <th></th>\n",
       "      <th></th>\n",
       "      <th></th>\n",
       "      <th></th>\n",
       "      <th></th>\n",
       "      <th></th>\n",
       "      <th></th>\n",
       "      <th></th>\n",
       "      <th></th>\n",
       "      <th></th>\n",
       "    </tr>\n",
       "  </thead>\n",
       "  <tbody>\n",
       "    <tr>\n",
       "      <th>2018-01-01 00:00:00</th>\n",
       "      <td>252.763333</td>\n",
       "      <td>169.983333</td>\n",
       "      <td>268.900000</td>\n",
       "      <td>144.061667</td>\n",
       "      <td>163.010000</td>\n",
       "      <td>178.736667</td>\n",
       "      <td>307.150000</td>\n",
       "      <td>210.528333</td>\n",
       "      <td>133.441667</td>\n",
       "      <td>217.703333</td>\n",
       "      <td>231.466667</td>\n",
       "    </tr>\n",
       "    <tr>\n",
       "      <th>2018-01-01 00:30:00</th>\n",
       "      <td>272.173333</td>\n",
       "      <td>101.300000</td>\n",
       "      <td>204.651667</td>\n",
       "      <td>233.173333</td>\n",
       "      <td>117.076667</td>\n",
       "      <td>115.551667</td>\n",
       "      <td>252.593333</td>\n",
       "      <td>151.203333</td>\n",
       "      <td>123.778333</td>\n",
       "      <td>136.255000</td>\n",
       "      <td>126.196667</td>\n",
       "    </tr>\n",
       "    <tr>\n",
       "      <th>2018-01-01 01:00:00</th>\n",
       "      <td>189.163333</td>\n",
       "      <td>91.825000</td>\n",
       "      <td>196.053333</td>\n",
       "      <td>182.311667</td>\n",
       "      <td>97.891667</td>\n",
       "      <td>79.065000</td>\n",
       "      <td>205.691667</td>\n",
       "      <td>126.426667</td>\n",
       "      <td>81.520000</td>\n",
       "      <td>116.596667</td>\n",
       "      <td>116.610000</td>\n",
       "    </tr>\n",
       "    <tr>\n",
       "      <th>2018-01-01 01:30:00</th>\n",
       "      <td>189.800000</td>\n",
       "      <td>43.513333</td>\n",
       "      <td>145.695000</td>\n",
       "      <td>106.415000</td>\n",
       "      <td>44.513333</td>\n",
       "      <td>107.911667</td>\n",
       "      <td>157.490000</td>\n",
       "      <td>57.490000</td>\n",
       "      <td>62.923333</td>\n",
       "      <td>91.736667</td>\n",
       "      <td>115.490000</td>\n",
       "    </tr>\n",
       "    <tr>\n",
       "      <th>2018-01-01 02:00:00</th>\n",
       "      <td>126.500000</td>\n",
       "      <td>53.878333</td>\n",
       "      <td>90.496667</td>\n",
       "      <td>76.330000</td>\n",
       "      <td>70.858333</td>\n",
       "      <td>92.508333</td>\n",
       "      <td>108.628333</td>\n",
       "      <td>91.510000</td>\n",
       "      <td>72.335000</td>\n",
       "      <td>84.108333</td>\n",
       "      <td>76.676667</td>\n",
       "    </tr>\n",
       "    <tr>\n",
       "      <th>...</th>\n",
       "      <td>...</td>\n",
       "      <td>...</td>\n",
       "      <td>...</td>\n",
       "      <td>...</td>\n",
       "      <td>...</td>\n",
       "      <td>...</td>\n",
       "      <td>...</td>\n",
       "      <td>...</td>\n",
       "      <td>...</td>\n",
       "      <td>...</td>\n",
       "      <td>...</td>\n",
       "    </tr>\n",
       "    <tr>\n",
       "      <th>2018-10-19 21:30:00</th>\n",
       "      <td>567.195000</td>\n",
       "      <td>266.296667</td>\n",
       "      <td>430.823333</td>\n",
       "      <td>515.263333</td>\n",
       "      <td>244.650000</td>\n",
       "      <td>288.431667</td>\n",
       "      <td>443.606667</td>\n",
       "      <td>315.965000</td>\n",
       "      <td>347.305000</td>\n",
       "      <td>186.545000</td>\n",
       "      <td>138.800000</td>\n",
       "    </tr>\n",
       "    <tr>\n",
       "      <th>2018-10-19 22:00:00</th>\n",
       "      <td>475.620000</td>\n",
       "      <td>211.653333</td>\n",
       "      <td>432.701667</td>\n",
       "      <td>401.605000</td>\n",
       "      <td>242.830000</td>\n",
       "      <td>307.023333</td>\n",
       "      <td>471.475000</td>\n",
       "      <td>313.611667</td>\n",
       "      <td>260.241667</td>\n",
       "      <td>177.061667</td>\n",
       "      <td>223.646667</td>\n",
       "    </tr>\n",
       "    <tr>\n",
       "      <th>2018-10-19 22:30:00</th>\n",
       "      <td>391.000000</td>\n",
       "      <td>170.551667</td>\n",
       "      <td>308.111667</td>\n",
       "      <td>219.138333</td>\n",
       "      <td>248.690000</td>\n",
       "      <td>263.465000</td>\n",
       "      <td>394.298333</td>\n",
       "      <td>321.186667</td>\n",
       "      <td>179.930000</td>\n",
       "      <td>183.028333</td>\n",
       "      <td>252.631667</td>\n",
       "    </tr>\n",
       "    <tr>\n",
       "      <th>2018-10-19 23:00:00</th>\n",
       "      <td>325.661667</td>\n",
       "      <td>179.190000</td>\n",
       "      <td>359.870000</td>\n",
       "      <td>462.121667</td>\n",
       "      <td>193.123333</td>\n",
       "      <td>248.146667</td>\n",
       "      <td>446.995000</td>\n",
       "      <td>249.420000</td>\n",
       "      <td>227.778333</td>\n",
       "      <td>136.183333</td>\n",
       "      <td>283.435000</td>\n",
       "    </tr>\n",
       "    <tr>\n",
       "      <th>2018-10-19 23:30:00</th>\n",
       "      <td>292.276667</td>\n",
       "      <td>143.980000</td>\n",
       "      <td>281.753333</td>\n",
       "      <td>410.721667</td>\n",
       "      <td>234.463333</td>\n",
       "      <td>184.536667</td>\n",
       "      <td>328.713333</td>\n",
       "      <td>302.810000</td>\n",
       "      <td>136.246667</td>\n",
       "      <td>206.191667</td>\n",
       "      <td>234.481667</td>\n",
       "    </tr>\n",
       "  </tbody>\n",
       "</table>\n",
       "<p>14016 rows × 11 columns</p>\n",
       "</div>"
      ],
      "text/plain": [
       "entity_type                 n11         n13         n17        n355  \\\n",
       "Timestamp                                                             \n",
       "2018-01-01 00:00:00  252.763333  169.983333  268.900000  144.061667   \n",
       "2018-01-01 00:30:00  272.173333  101.300000  204.651667  233.173333   \n",
       "2018-01-01 01:00:00  189.163333   91.825000  196.053333  182.311667   \n",
       "2018-01-01 01:30:00  189.800000   43.513333  145.695000  106.415000   \n",
       "2018-01-01 02:00:00  126.500000   53.878333   90.496667   76.330000   \n",
       "...                         ...         ...         ...         ...   \n",
       "2018-10-19 21:30:00  567.195000  266.296667  430.823333  515.263333   \n",
       "2018-10-19 22:00:00  475.620000  211.653333  432.701667  401.605000   \n",
       "2018-10-19 22:30:00  391.000000  170.551667  308.111667  219.138333   \n",
       "2018-10-19 23:00:00  325.661667  179.190000  359.870000  462.121667   \n",
       "2018-10-19 23:30:00  292.276667  143.980000  281.753333  410.721667   \n",
       "\n",
       "entity_type                n360        n386        n388         n40  \\\n",
       "Timestamp                                                             \n",
       "2018-01-01 00:00:00  163.010000  178.736667  307.150000  210.528333   \n",
       "2018-01-01 00:30:00  117.076667  115.551667  252.593333  151.203333   \n",
       "2018-01-01 01:00:00   97.891667   79.065000  205.691667  126.426667   \n",
       "2018-01-01 01:30:00   44.513333  107.911667  157.490000   57.490000   \n",
       "2018-01-01 02:00:00   70.858333   92.508333  108.628333   91.510000   \n",
       "...                         ...         ...         ...         ...   \n",
       "2018-10-19 21:30:00  244.650000  288.431667  443.606667  315.965000   \n",
       "2018-10-19 22:00:00  242.830000  307.023333  471.475000  313.611667   \n",
       "2018-10-19 22:30:00  248.690000  263.465000  394.298333  321.186667   \n",
       "2018-10-19 23:00:00  193.123333  248.146667  446.995000  249.420000   \n",
       "2018-10-19 23:30:00  234.463333  184.536667  328.713333  302.810000   \n",
       "\n",
       "entity_type                 n42         n45          n8  \n",
       "Timestamp                                                \n",
       "2018-01-01 00:00:00  133.441667  217.703333  231.466667  \n",
       "2018-01-01 00:30:00  123.778333  136.255000  126.196667  \n",
       "2018-01-01 01:00:00   81.520000  116.596667  116.610000  \n",
       "2018-01-01 01:30:00   62.923333   91.736667  115.490000  \n",
       "2018-01-01 02:00:00   72.335000   84.108333   76.676667  \n",
       "...                         ...         ...         ...  \n",
       "2018-10-19 21:30:00  347.305000  186.545000  138.800000  \n",
       "2018-10-19 22:00:00  260.241667  177.061667  223.646667  \n",
       "2018-10-19 22:30:00  179.930000  183.028333  252.631667  \n",
       "2018-10-19 23:00:00  227.778333  136.183333  283.435000  \n",
       "2018-10-19 23:30:00  136.246667  206.191667  234.481667  \n",
       "\n",
       "[14016 rows x 11 columns]"
      ]
     },
     "execution_count": 12,
     "metadata": {},
     "output_type": "execute_result"
    }
   ],
   "source": [
    "X_train_full_unscaled[1]"
   ]
  },
  {
   "cell_type": "markdown",
   "id": "2f9d4ff8",
   "metadata": {},
   "source": [
    "### Introduce MCAR Missingness"
   ]
  },
  {
   "cell_type": "code",
   "execution_count": 13,
   "id": "7304b0b3",
   "metadata": {},
   "outputs": [
    {
     "name": "stdout",
     "output_type": "stream",
     "text": [
      "Introducing 5.0% missingness for cluster 0 with key 5\n",
      "Introducing 20.0% missingness for cluster 0 with key 20\n",
      "Introducing 60.0% missingness for cluster 0 with key 60\n",
      "Introducing 90.0% missingness for cluster 0 with key 90\n",
      "Introducing 5.0% missingness for cluster 1 with key 5\n",
      "Introducing 20.0% missingness for cluster 1 with key 20\n",
      "Introducing 60.0% missingness for cluster 1 with key 60\n",
      "Introducing 90.0% missingness for cluster 1 with key 90\n",
      "Introducing 5.0% missingness for cluster 2 with key 5\n",
      "Introducing 20.0% missingness for cluster 2 with key 20\n",
      "Introducing 60.0% missingness for cluster 2 with key 60\n",
      "Introducing 90.0% missingness for cluster 2 with key 90\n",
      "Introducing 5.0% missingness for cluster 3 with key 5\n",
      "Introducing 20.0% missingness for cluster 3 with key 20\n",
      "Introducing 60.0% missingness for cluster 3 with key 60\n",
      "Introducing 90.0% missingness for cluster 3 with key 90\n",
      "Introducing 5.0% missingness for cluster 4 with key 5\n",
      "Introducing 20.0% missingness for cluster 4 with key 20\n",
      "Introducing 60.0% missingness for cluster 4 with key 60\n",
      "Introducing 90.0% missingness for cluster 4 with key 90\n"
     ]
    }
   ],
   "source": [
    "from pygrinder import mar_logistic\n",
    "\n",
    "missing_rates = [0.05, 0.2, 0.6, 0.90]\n",
    "\n",
    "# Training and validation sets for each cluster\n",
    "X_train_incomplete = {}\n",
    "X_val_incomplete = {}\n",
    "train_masks = {}\n",
    "val_masks = {}\n",
    "X_train_seq = {}\n",
    "X_val_seq = {}\n",
    "train_masks_seq = {}\n",
    "val_masks_seq = {}\n",
    "\n",
    "\n",
    "for cluster_id, flow_cluster in enumerate(clusters):\n",
    "    X_train_incomplete[cluster_id] = {}\n",
    "    X_val_incomplete[cluster_id] = {}\n",
    "    train_masks[cluster_id] = {}\n",
    "    val_masks[cluster_id] = {}\n",
    "    X_train_seq[cluster_id] = {}\n",
    "    X_val_seq[cluster_id] = {}\n",
    "    train_masks_seq[cluster_id] = {}\n",
    "    val_masks_seq[cluster_id] = {}\n",
    "\n",
    "    for rate in missing_rates:\n",
    "        key = int(rate * 100)\n",
    "\n",
    "        # Introduce missingness per cluster & rate\n",
    "        print(f\"Introducing {rate*100}% missingness for cluster {cluster_id} with key {key}\")\n",
    "        X_train_incomplete[cluster_id][key] = mar_logistic(X_train_full_scaled[cluster_id].values, obs_rate = 0.4, missing_rate=rate)\n",
    "        X_val_incomplete[cluster_id][key] = mar_logistic(X_val_full_scaled[cluster_id].values, obs_rate = 0.4, missing_rate=rate)\n",
    "\n",
    "        # Masks for missingness\n",
    "        train_masks[cluster_id][key] = np.isnan(X_train_incomplete[cluster_id][key])\n",
    "        val_masks[cluster_id][key] = np.isnan(X_val_incomplete[cluster_id][key])"
   ]
  },
  {
   "cell_type": "markdown",
   "id": "0726acb2",
   "metadata": {},
   "source": [
    "### Mean Imputation"
   ]
  },
  {
   "cell_type": "code",
   "execution_count": 14,
   "id": "dfc6cf74",
   "metadata": {},
   "outputs": [],
   "source": [
    "def mean_impute(X_incomplete):\n",
    "    \"\"\"\n",
    "    Impute missing values using feature-wise mean over the entire dataset.\n",
    "    Assumes input shape is [n_samples, n_steps, n_features].\n",
    "    \"\"\"\n",
    "    X_imputed = X_incomplete.copy()\n",
    "    n_features = X_imputed.shape[1]\n",
    "\n",
    "    for f in range(n_features):\n",
    "        feature_data = X_imputed[:, f]\n",
    "        mean_val = np.nanmean(feature_data)\n",
    "        feature_data[np.isnan(feature_data)] = mean_val\n",
    "        X_imputed[:, f] = feature_data\n",
    "\n",
    "    return X_imputed\n"
   ]
  },
  {
   "cell_type": "code",
   "execution_count": 15,
   "id": "3fc8859c",
   "metadata": {},
   "outputs": [
    {
     "name": "stderr",
     "output_type": "stream",
     "text": [
      "C:\\Users\\Pepe\\AppData\\Local\\Temp\\ipykernel_8024\\1295300723.py:11: RuntimeWarning: Mean of empty slice\n",
      "  mean_val = np.nanmean(feature_data)\n"
     ]
    }
   ],
   "source": [
    "# Dictionary to hold results\n",
    "mean_imputed_results = {}\n",
    "missing_masks = {}\n",
    "\n",
    "for cluster_id in range(len(clusters)):\n",
    "    mean_imputed_results[cluster_id] = {}\n",
    "    missing_masks[cluster_id] = {}\n",
    "    \n",
    "    for rate in missing_rates:\n",
    "        key = int(rate * 100)\n",
    "        X_missing = X_val_incomplete[cluster_id][key]\n",
    "        \n",
    "        # Impute using mean\n",
    "        X_imputed = mean_impute(X_missing)\n",
    "        mean_imputed_results[cluster_id][key] = X_imputed"
   ]
  },
  {
   "cell_type": "code",
   "execution_count": 16,
   "id": "951ba061",
   "metadata": {},
   "outputs": [],
   "source": [
    "import joblib\n",
    "\n",
    "imputed_unscaled_mean = {}\n",
    "\n",
    "for cluster_id in range(len(clusters)):\n",
    "    imputed_unscaled_mean[cluster_id] = {}\n",
    "    \n",
    "    scaler = joblib.load(f\"demand_scaler_{cluster_id}.pkl\")\n",
    "    \n",
    "# Unscale the imputed values for each cluster and missing rate\n",
    "    for rate in missing_rates:\n",
    "        key = int(rate * 100)\n",
    "        \n",
    "        imputed_unscaled_mean[cluster_id][key] = scaler.inverse_transform(mean_imputed_results[cluster_id][key])"
   ]
  },
  {
   "cell_type": "code",
   "execution_count": 17,
   "id": "5f727c0a",
   "metadata": {},
   "outputs": [
    {
     "name": "stdout",
     "output_type": "stream",
     "text": [
      "MAE Cluster 0 Rate 5.0% (MAE): 69.44404224386464\n",
      "MAE Cluster 0 Rate 20.0% (MAE): 45.969190805123226\n",
      "MAE Cluster 0 Rate 60.0% (MAE): 84.42087017008248\n",
      "MAE Cluster 0 Rate 90.0% (MAE): 80.59367846144146\n",
      "MAE Cluster 1 Rate 5.0% (MAE): 138.08449492206594\n",
      "MAE Cluster 1 Rate 20.0% (MAE): 143.1188112172565\n",
      "MAE Cluster 1 Rate 60.0% (MAE): 153.8463241108802\n",
      "MAE Cluster 1 Rate 90.0% (MAE): 125.77193310815305\n",
      "MAE Cluster 2 Rate 5.0% (MAE): 143.5572716888418\n",
      "MAE Cluster 2 Rate 20.0% (MAE): 124.41082512725484\n",
      "MAE Cluster 2 Rate 60.0% (MAE): 136.14730750891377\n",
      "MAE Cluster 2 Rate 90.0% (MAE): 178.14912391040608\n",
      "MAE Cluster 3 Rate 5.0% (MAE): 207.0074553875323\n",
      "MAE Cluster 3 Rate 20.0% (MAE): 107.79247605040801\n",
      "MAE Cluster 3 Rate 60.0% (MAE): 45.52681180075994\n",
      "MAE Cluster 3 Rate 90.0% (MAE): 199.56761291477864\n",
      "MAE Cluster 4 Rate 5.0% (MAE): 65.43014377541012\n",
      "MAE Cluster 4 Rate 20.0% (MAE): 116.14322643253337\n",
      "MAE Cluster 4 Rate 60.0% (MAE): 133.78888806937312\n",
      "MAE Cluster 4 Rate 90.0% (MAE): nan\n"
     ]
    }
   ],
   "source": [
    "# Calculate MAE for imputation evaluation\n",
    "\n",
    "mae_mean = {}\n",
    "for cluster_id in range(len(clusters)):\n",
    "    mae_mean[cluster_id] = {}\n",
    "\n",
    "    for rate in missing_rates:\n",
    "        key = int(rate * 100)\n",
    "        mae_mean[cluster_id][key] = np.mean(np.abs(imputed_unscaled_mean[cluster_id][key][val_masks[cluster_id][key]] - X_val_full_unscaled[cluster_id].values[val_masks[cluster_id][key]]))\n",
    "        print(f\"MAE Cluster {cluster_id} Rate {rate*100}% (MAE): {mae_mean[cluster_id][key]}\")"
   ]
  },
  {
   "cell_type": "code",
   "execution_count": 18,
   "id": "a20c7b2d",
   "metadata": {},
   "outputs": [
    {
     "name": "stdout",
     "output_type": "stream",
     "text": [
      "SMAPE Cluster 0 Rate 5.0%: 53.31%\n",
      "SMAPE Cluster 0 Rate 20.0%: 51.75%\n",
      "SMAPE Cluster 0 Rate 60.0%: 59.82%\n",
      "SMAPE Cluster 0 Rate 90.0%: 56.57%\n",
      "SMAPE Cluster 1 Rate 5.0%: 52.97%\n",
      "SMAPE Cluster 1 Rate 20.0%: 47.99%\n",
      "SMAPE Cluster 1 Rate 60.0%: 50.98%\n",
      "SMAPE Cluster 1 Rate 90.0%: 53.78%\n",
      "SMAPE Cluster 2 Rate 5.0%: 62.12%\n",
      "SMAPE Cluster 2 Rate 20.0%: 44.19%\n",
      "SMAPE Cluster 2 Rate 60.0%: 52.33%\n",
      "SMAPE Cluster 2 Rate 90.0%: 60.06%\n",
      "SMAPE Cluster 3 Rate 5.0%: 49.85%\n",
      "SMAPE Cluster 3 Rate 20.0%: 47.34%\n",
      "SMAPE Cluster 3 Rate 60.0%: 46.59%\n",
      "SMAPE Cluster 3 Rate 90.0%: 55.99%\n",
      "SMAPE Cluster 4 Rate 5.0%: 85.77%\n",
      "SMAPE Cluster 4 Rate 20.0%: 90.42%\n",
      "SMAPE Cluster 4 Rate 60.0%: 87.20%\n",
      "SMAPE Cluster 4 Rate 90.0%: nan%\n"
     ]
    }
   ],
   "source": [
    "#SMAPE for each percentage of missingness\n",
    "smape = {}\n",
    "for cluster_id in range(len(clusters)):\n",
    "    smape[cluster_id] = {}\n",
    "    for rate in missing_rates:\n",
    "        key = int(rate * 100)\n",
    "        numerator = np.abs((imputed_unscaled_mean[cluster_id][key][val_masks[cluster_id][key]] - X_val_full_unscaled[cluster_id].values[val_masks[cluster_id][key]]))\n",
    "        denominator = np.abs(imputed_unscaled_mean[cluster_id][key][val_masks[cluster_id][key]]) + np.abs(X_val_full_unscaled[cluster_id].values[val_masks[cluster_id][key]]) + 1e-8\n",
    "        smape[cluster_id][key] = 100 * np.mean(2 * numerator / denominator)\n",
    "        print(f\"SMAPE Cluster {cluster_id} Rate {rate*100}%: {smape[cluster_id][key]:.2f}%\")"
   ]
  },
  {
   "cell_type": "markdown",
   "id": "7dbdac0c",
   "metadata": {},
   "source": [
    "### MICE Imputation"
   ]
  },
  {
   "cell_type": "code",
   "execution_count": 19,
   "id": "78cf127a",
   "metadata": {},
   "outputs": [
    {
     "name": "stdout",
     "output_type": "stream",
     "text": [
      "[[ 1.  2.]\n",
      " [ 6. 12.]\n",
      " [ 3.  6.]]\n"
     ]
    }
   ],
   "source": [
    "import numpy as np\n",
    "from sklearn.experimental import enable_iterative_imputer\n",
    "from sklearn.impute import IterativeImputer\n",
    "imputer = IterativeImputer(max_iter=10, random_state=36)\n",
    "\n",
    "# Fit on train with missing values\n",
    "imputer.fit([[1, 2], [3, 6], [4, 8], [np.nan, 3], [7, np.nan]])\n",
    "\n",
    "# Transform test data with missing values\n",
    "IterativeImputer(random_state=0)\n",
    "X_test = [[np.nan, 2], [6, np.nan], [np.nan, 6]]\n",
    "imputed = imputer.transform(X_test)\n",
    "\n",
    "# the model learns that the second feature is double the first\n",
    "print(np.round(imputer.transform(X_test)))"
   ]
  },
  {
   "cell_type": "code",
   "execution_count": 20,
   "id": "3272bad6",
   "metadata": {},
   "outputs": [
    {
     "data": {
      "text/plain": [
       "[[nan, 2], [6, nan], [nan, 6]]"
      ]
     },
     "execution_count": 20,
     "metadata": {},
     "output_type": "execute_result"
    }
   ],
   "source": [
    "X_test"
   ]
  },
  {
   "cell_type": "code",
   "execution_count": 21,
   "id": "2ddb10f6",
   "metadata": {},
   "outputs": [
    {
     "data": {
      "text/plain": [
       "[0.05, 0.2, 0.6, 0.9]"
      ]
     },
     "execution_count": 21,
     "metadata": {},
     "output_type": "execute_result"
    }
   ],
   "source": [
    "missing_rates"
   ]
  },
  {
   "cell_type": "code",
   "execution_count": 22,
   "id": "ab6cadb7",
   "metadata": {},
   "outputs": [
    {
     "name": "stdout",
     "output_type": "stream",
     "text": [
      "Rate 5 for cluster 0\n",
      "[IterativeImputer] Completing matrix with shape (14016, 29)\n",
      "[IterativeImputer] Change: 8.316972732543945, scaled tolerance: 0.005536511421203614 \n",
      "[IterativeImputer] Change: 0.5283327102661133, scaled tolerance: 0.005536511421203614 \n",
      "[IterativeImputer] Change: 0.12845945358276367, scaled tolerance: 0.005536511421203614 \n",
      "[IterativeImputer] Change: 2.847543716430664, scaled tolerance: 0.005536511421203614 \n",
      "[IterativeImputer] Change: 2.694247245788574, scaled tolerance: 0.005536511421203614 \n",
      "[IterativeImputer] Change: 1.8433291912078857, scaled tolerance: 0.005536511421203614 \n",
      "[IterativeImputer] Change: 8.380021095275879, scaled tolerance: 0.005536511421203614 \n",
      "[IterativeImputer] Change: 23.6720027923584, scaled tolerance: 0.005536511421203614 \n",
      "[IterativeImputer] Change: 29.466819763183594, scaled tolerance: 0.005536511421203614 \n",
      "[IterativeImputer] Change: 15.849039077758789, scaled tolerance: 0.005536511421203614 \n",
      "[IterativeImputer] Completing matrix with shape (3504, 29)\n",
      "Rate 20 for cluster 0\n",
      "[IterativeImputer] Completing matrix with shape (14016, 29)\n"
     ]
    },
    {
     "name": "stderr",
     "output_type": "stream",
     "text": [
      "d:\\anaconda3\\lib\\site-packages\\sklearn\\impute\\_iterative.py:785: ConvergenceWarning: [IterativeImputer] Early stopping criterion not reached.\n",
      "  warnings.warn(\n"
     ]
    },
    {
     "name": "stdout",
     "output_type": "stream",
     "text": [
      "[IterativeImputer] Change: 16.292375564575195, scaled tolerance: 0.005536511421203614 \n",
      "[IterativeImputer] Change: 1.246692180633545, scaled tolerance: 0.005536511421203614 \n",
      "[IterativeImputer] Change: 0.23740673065185547, scaled tolerance: 0.005536511421203614 \n",
      "[IterativeImputer] Change: 0.16731083393096924, scaled tolerance: 0.005536511421203614 \n",
      "[IterativeImputer] Change: 0.15319716930389404, scaled tolerance: 0.005536511421203614 \n",
      "[IterativeImputer] Change: 0.1296224594116211, scaled tolerance: 0.005536511421203614 \n",
      "[IterativeImputer] Change: 0.4313102960586548, scaled tolerance: 0.005536511421203614 \n",
      "[IterativeImputer] Change: 5.183964252471924, scaled tolerance: 0.005536511421203614 \n",
      "[IterativeImputer] Change: 20.69629669189453, scaled tolerance: 0.005536511421203614 \n",
      "[IterativeImputer] Change: 160.57186889648438, scaled tolerance: 0.005536511421203614 \n",
      "[IterativeImputer] Completing matrix with shape (3504, 29)\n",
      "Rate 60 for cluster 0\n",
      "[IterativeImputer] Completing matrix with shape (14016, 29)\n"
     ]
    },
    {
     "name": "stderr",
     "output_type": "stream",
     "text": [
      "d:\\anaconda3\\lib\\site-packages\\sklearn\\impute\\_iterative.py:785: ConvergenceWarning: [IterativeImputer] Early stopping criterion not reached.\n",
      "  warnings.warn(\n"
     ]
    },
    {
     "name": "stdout",
     "output_type": "stream",
     "text": [
      "[IterativeImputer] Change: 27.238508224487305, scaled tolerance: 0.005536511421203614 \n",
      "[IterativeImputer] Change: 5.869651794433594, scaled tolerance: 0.005536511421203614 \n",
      "[IterativeImputer] Change: 10.217443466186523, scaled tolerance: 0.005536511421203614 \n",
      "[IterativeImputer] Change: 26.829551696777344, scaled tolerance: 0.005536511421203614 \n",
      "[IterativeImputer] Change: 17.921062469482422, scaled tolerance: 0.005536511421203614 \n",
      "[IterativeImputer] Change: 14.506660461425781, scaled tolerance: 0.005536511421203614 \n",
      "[IterativeImputer] Change: 200.0491943359375, scaled tolerance: 0.005536511421203614 \n",
      "[IterativeImputer] Change: 14.670425415039062, scaled tolerance: 0.005536511421203614 \n",
      "[IterativeImputer] Change: 217.68292236328125, scaled tolerance: 0.005536511421203614 \n",
      "[IterativeImputer] Change: 57.62727737426758, scaled tolerance: 0.005536511421203614 \n",
      "[IterativeImputer] Completing matrix with shape (3504, 29)\n",
      "Rate 90 for cluster 0\n",
      "[IterativeImputer] Completing matrix with shape (14016, 29)\n"
     ]
    },
    {
     "name": "stderr",
     "output_type": "stream",
     "text": [
      "d:\\anaconda3\\lib\\site-packages\\sklearn\\impute\\_iterative.py:785: ConvergenceWarning: [IterativeImputer] Early stopping criterion not reached.\n",
      "  warnings.warn(\n"
     ]
    },
    {
     "name": "stdout",
     "output_type": "stream",
     "text": [
      "[IterativeImputer] Change: 22.591367721557617, scaled tolerance: 0.005536511421203614 \n",
      "[IterativeImputer] Change: 25.13498878479004, scaled tolerance: 0.005536511421203614 \n",
      "[IterativeImputer] Change: 27.781328201293945, scaled tolerance: 0.005536511421203614 \n",
      "[IterativeImputer] Change: 28.329023361206055, scaled tolerance: 0.005536511421203614 \n",
      "[IterativeImputer] Change: 23.313495635986328, scaled tolerance: 0.005536511421203614 \n",
      "[IterativeImputer] Change: 24.52948570251465, scaled tolerance: 0.005536511421203614 \n",
      "[IterativeImputer] Change: 44.32854461669922, scaled tolerance: 0.005536511421203614 \n",
      "[IterativeImputer] Change: 36.5477180480957, scaled tolerance: 0.005536511421203614 \n",
      "[IterativeImputer] Change: 31.919939041137695, scaled tolerance: 0.005536511421203614 \n",
      "[IterativeImputer] Change: 63.28205490112305, scaled tolerance: 0.005536511421203614 \n",
      "[IterativeImputer] Completing matrix with shape (3504, 29)\n",
      "Rate 5 for cluster 1\n",
      "[IterativeImputer] Completing matrix with shape (14016, 11)\n",
      "[IterativeImputer] Change: 6.171915054321289, scaled tolerance: 0.003448535442352295 \n",
      "[IterativeImputer] Change: 0.44748198986053467, scaled tolerance: 0.003448535442352295 \n",
      "[IterativeImputer] Change: 0.03924691677093506, scaled tolerance: 0.003448535442352295 \n",
      "[IterativeImputer] Change: 0.005369365215301514, scaled tolerance: 0.003448535442352295 \n"
     ]
    },
    {
     "name": "stderr",
     "output_type": "stream",
     "text": [
      "d:\\anaconda3\\lib\\site-packages\\sklearn\\impute\\_iterative.py:785: ConvergenceWarning: [IterativeImputer] Early stopping criterion not reached.\n",
      "  warnings.warn(\n"
     ]
    },
    {
     "name": "stdout",
     "output_type": "stream",
     "text": [
      "[IterativeImputer] Change: 0.0007367432117462158, scaled tolerance: 0.003448535442352295 \n",
      "[IterativeImputer] Early stopping criterion reached.\n",
      "[IterativeImputer] Completing matrix with shape (3504, 11)\n",
      "Rate 20 for cluster 1\n",
      "[IterativeImputer] Completing matrix with shape (14016, 11)\n",
      "[IterativeImputer] Change: 7.466121196746826, scaled tolerance: 0.0034515693187713624 \n",
      "[IterativeImputer] Change: 1.01924729347229, scaled tolerance: 0.0034515693187713624 \n",
      "[IterativeImputer] Change: 0.24909961223602295, scaled tolerance: 0.0034515693187713624 \n",
      "[IterativeImputer] Change: 0.06672263145446777, scaled tolerance: 0.0034515693187713624 \n",
      "[IterativeImputer] Change: 0.017867207527160645, scaled tolerance: 0.0034515693187713624 \n",
      "[IterativeImputer] Change: 0.004792928695678711, scaled tolerance: 0.0034515693187713624 \n",
      "[IterativeImputer] Change: 0.0012799501419067383, scaled tolerance: 0.0034515693187713624 \n",
      "[IterativeImputer] Early stopping criterion reached.\n",
      "[IterativeImputer] Completing matrix with shape (3504, 11)\n",
      "Rate 60 for cluster 1\n",
      "[IterativeImputer] Completing matrix with shape (14016, 11)\n",
      "[IterativeImputer] Change: 10.986873626708984, scaled tolerance: 0.0034515693187713624 \n",
      "[IterativeImputer] Change: 3.93898344039917, scaled tolerance: 0.0034515693187713624 \n",
      "[IterativeImputer] Change: 4.630947113037109, scaled tolerance: 0.0034515693187713624 \n",
      "[IterativeImputer] Change: 1.946357011795044, scaled tolerance: 0.0034515693187713624 \n",
      "[IterativeImputer] Change: 0.28743481636047363, scaled tolerance: 0.0034515693187713624 \n",
      "[IterativeImputer] Change: 0.22575020790100098, scaled tolerance: 0.0034515693187713624 \n",
      "[IterativeImputer] Change: 0.18239116668701172, scaled tolerance: 0.0034515693187713624 \n",
      "[IterativeImputer] Change: 0.1505429744720459, scaled tolerance: 0.0034515693187713624 \n",
      "[IterativeImputer] Change: 0.12666869163513184, scaled tolerance: 0.0034515693187713624 \n",
      "[IterativeImputer] Change: 0.10986697673797607, scaled tolerance: 0.0034515693187713624 \n",
      "[IterativeImputer] Completing matrix with shape (3504, 11)\n",
      "Rate 90 for cluster 1\n",
      "[IterativeImputer] Completing matrix with shape (14016, 11)\n",
      "[IterativeImputer] Change: 13.952507972717285, scaled tolerance: 0.003448535442352295 \n"
     ]
    },
    {
     "name": "stderr",
     "output_type": "stream",
     "text": [
      "d:\\anaconda3\\lib\\site-packages\\sklearn\\impute\\_iterative.py:785: ConvergenceWarning: [IterativeImputer] Early stopping criterion not reached.\n",
      "  warnings.warn(\n"
     ]
    },
    {
     "name": "stdout",
     "output_type": "stream",
     "text": [
      "[IterativeImputer] Change: 4.131760120391846, scaled tolerance: 0.003448535442352295 \n",
      "[IterativeImputer] Change: 2.115990161895752, scaled tolerance: 0.003448535442352295 \n",
      "[IterativeImputer] Change: 2.095518112182617, scaled tolerance: 0.003448535442352295 \n",
      "[IterativeImputer] Change: 0.9727045297622681, scaled tolerance: 0.003448535442352295 \n",
      "[IterativeImputer] Change: 2.4769184589385986, scaled tolerance: 0.003448535442352295 \n",
      "[IterativeImputer] Change: 2.8442134857177734, scaled tolerance: 0.003448535442352295 \n",
      "[IterativeImputer] Change: 2.461987018585205, scaled tolerance: 0.003448535442352295 \n",
      "[IterativeImputer] Change: 2.279207229614258, scaled tolerance: 0.003448535442352295 \n",
      "[IterativeImputer] Change: 1.3691754341125488, scaled tolerance: 0.003448535442352295 \n",
      "[IterativeImputer] Completing matrix with shape (3504, 11)\n",
      "Rate 5 for cluster 2\n",
      "[IterativeImputer] Completing matrix with shape (14016, 10)\n",
      "[IterativeImputer] Change: 4.462307929992676, scaled tolerance: 0.0034373376369476317 \n",
      "[IterativeImputer] Change: 0.5138694047927856, scaled tolerance: 0.0034373376369476317 \n",
      "[IterativeImputer] Change: 0.04314398765563965, scaled tolerance: 0.0034373376369476317 \n",
      "[IterativeImputer] Change: 0.002927541732788086, scaled tolerance: 0.0034373376369476317 \n",
      "[IterativeImputer] Early stopping criterion reached.\n",
      "[IterativeImputer] Completing matrix with shape (3504, 10)\n",
      "Rate 20 for cluster 2\n",
      "[IterativeImputer] Completing matrix with shape (14016, 10)\n",
      "[IterativeImputer] Change: 7.001079559326172, scaled tolerance: 0.0034373376369476317 \n",
      "[IterativeImputer] Change: 1.2698967456817627, scaled tolerance: 0.0034373376369476317 \n"
     ]
    },
    {
     "name": "stderr",
     "output_type": "stream",
     "text": [
      "d:\\anaconda3\\lib\\site-packages\\sklearn\\impute\\_iterative.py:785: ConvergenceWarning: [IterativeImputer] Early stopping criterion not reached.\n",
      "  warnings.warn(\n"
     ]
    },
    {
     "name": "stdout",
     "output_type": "stream",
     "text": [
      "[IterativeImputer] Change: 0.39700794219970703, scaled tolerance: 0.0034373376369476317 \n",
      "[IterativeImputer] Change: 0.15805011987686157, scaled tolerance: 0.0034373376369476317 \n",
      "[IterativeImputer] Change: 0.06593698263168335, scaled tolerance: 0.0034373376369476317 \n",
      "[IterativeImputer] Change: 0.027604401111602783, scaled tolerance: 0.0034373376369476317 \n",
      "[IterativeImputer] Change: 0.011557161808013916, scaled tolerance: 0.0034373376369476317 \n",
      "[IterativeImputer] Change: 0.0048427581787109375, scaled tolerance: 0.0034373376369476317 \n",
      "[IterativeImputer] Change: 0.002027273178100586, scaled tolerance: 0.0034373376369476317 \n",
      "[IterativeImputer] Early stopping criterion reached.\n",
      "[IterativeImputer] Completing matrix with shape (3504, 10)\n",
      "Rate 60 for cluster 2\n",
      "[IterativeImputer] Completing matrix with shape (14016, 10)\n",
      "[IterativeImputer] Change: 10.848382949829102, scaled tolerance: 0.0034373376369476317 \n",
      "[IterativeImputer] Change: 3.405888557434082, scaled tolerance: 0.0034373376369476317 \n",
      "[IterativeImputer] Change: 3.2442307472229004, scaled tolerance: 0.0034373376369476317 \n",
      "[IterativeImputer] Change: 5.6353254318237305, scaled tolerance: 0.0034373376369476317 \n",
      "[IterativeImputer] Change: 1.2991955280303955, scaled tolerance: 0.0034373376369476317 \n",
      "[IterativeImputer] Change: 0.44126057624816895, scaled tolerance: 0.0034373376369476317 \n",
      "[IterativeImputer] Change: 0.29073572158813477, scaled tolerance: 0.0034373376369476317 \n",
      "[IterativeImputer] Change: 0.20714116096496582, scaled tolerance: 0.0034373376369476317 \n",
      "[IterativeImputer] Change: 0.1555616855621338, scaled tolerance: 0.0034373376369476317 \n",
      "[IterativeImputer] Change: 0.12153482437133789, scaled tolerance: 0.0034373376369476317 \n"
     ]
    },
    {
     "name": "stderr",
     "output_type": "stream",
     "text": [
      "d:\\anaconda3\\lib\\site-packages\\sklearn\\impute\\_iterative.py:785: ConvergenceWarning: [IterativeImputer] Early stopping criterion not reached.\n",
      "  warnings.warn(\n"
     ]
    },
    {
     "name": "stdout",
     "output_type": "stream",
     "text": [
      "[IterativeImputer] Completing matrix with shape (3504, 10)\n",
      "Rate 90 for cluster 2\n",
      "[IterativeImputer] Completing matrix with shape (14016, 10)\n",
      "[IterativeImputer] Change: 10.5753173828125, scaled tolerance: 0.0034373376369476317 \n",
      "[IterativeImputer] Change: 3.838730812072754, scaled tolerance: 0.0034373376369476317 \n",
      "[IterativeImputer] Change: 3.0576767921447754, scaled tolerance: 0.0034373376369476317 \n",
      "[IterativeImputer] Change: 0.6031649112701416, scaled tolerance: 0.0034373376369476317 \n",
      "[IterativeImputer] Change: 0.41133594512939453, scaled tolerance: 0.0034373376369476317 \n",
      "[IterativeImputer] Change: 0.3078724145889282, scaled tolerance: 0.0034373376369476317 \n",
      "[IterativeImputer] Change: 0.25237250328063965, scaled tolerance: 0.0034373376369476317 \n",
      "[IterativeImputer] Change: 0.21462810039520264, scaled tolerance: 0.0034373376369476317 \n",
      "[IterativeImputer] Change: 0.18690550327301025, scaled tolerance: 0.0034373376369476317 \n",
      "[IterativeImputer] Change: 0.1656409502029419, scaled tolerance: 0.0034373376369476317 \n",
      "[IterativeImputer] Completing matrix with shape (3504, 10)\n",
      "Rate 5 for cluster 3\n",
      "[IterativeImputer] Completing matrix with shape (14016, 32)\n"
     ]
    },
    {
     "name": "stderr",
     "output_type": "stream",
     "text": [
      "d:\\anaconda3\\lib\\site-packages\\sklearn\\impute\\_iterative.py:785: ConvergenceWarning: [IterativeImputer] Early stopping criterion not reached.\n",
      "  warnings.warn(\n"
     ]
    },
    {
     "name": "stdout",
     "output_type": "stream",
     "text": [
      "[IterativeImputer] Change: 10.244632720947266, scaled tolerance: 0.007938280582427978 \n",
      "[IterativeImputer] Change: 0.682170033454895, scaled tolerance: 0.007938280582427978 \n",
      "[IterativeImputer] Change: 0.3332117795944214, scaled tolerance: 0.007938280582427978 \n",
      "[IterativeImputer] Change: 0.2558271884918213, scaled tolerance: 0.007938280582427978 \n",
      "[IterativeImputer] Change: 19.297395706176758, scaled tolerance: 0.007938280582427978 \n",
      "[IterativeImputer] Change: 25.81998062133789, scaled tolerance: 0.007938280582427978 \n",
      "[IterativeImputer] Change: 14.922510147094727, scaled tolerance: 0.007938280582427978 \n",
      "[IterativeImputer] Change: 4.996911525726318, scaled tolerance: 0.007938280582427978 \n",
      "[IterativeImputer] Change: 0.7758869528770447, scaled tolerance: 0.007938280582427978 \n",
      "[IterativeImputer] Change: 6.928586959838867, scaled tolerance: 0.007938280582427978 \n",
      "[IterativeImputer] Completing matrix with shape (3504, 32)\n",
      "Rate 20 for cluster 3\n",
      "[IterativeImputer] Completing matrix with shape (14016, 32)\n"
     ]
    },
    {
     "name": "stderr",
     "output_type": "stream",
     "text": [
      "d:\\anaconda3\\lib\\site-packages\\sklearn\\impute\\_iterative.py:785: ConvergenceWarning: [IterativeImputer] Early stopping criterion not reached.\n",
      "  warnings.warn(\n"
     ]
    },
    {
     "name": "stdout",
     "output_type": "stream",
     "text": [
      "[IterativeImputer] Change: 17.43035888671875, scaled tolerance: 0.007938280582427978 \n",
      "[IterativeImputer] Change: 1.6584304571151733, scaled tolerance: 0.007938280582427978 \n",
      "[IterativeImputer] Change: 0.48334357142448425, scaled tolerance: 0.007938280582427978 \n",
      "[IterativeImputer] Change: 0.07387427985668182, scaled tolerance: 0.007938280582427978 \n",
      "[IterativeImputer] Change: 0.6223652362823486, scaled tolerance: 0.007938280582427978 \n",
      "[IterativeImputer] Change: 6.7313642501831055, scaled tolerance: 0.007938280582427978 \n",
      "[IterativeImputer] Change: 10.523441314697266, scaled tolerance: 0.007938280582427978 \n",
      "[IterativeImputer] Change: 13.819599151611328, scaled tolerance: 0.007938280582427978 \n",
      "[IterativeImputer] Change: 0.8103452920913696, scaled tolerance: 0.007938280582427978 \n",
      "[IterativeImputer] Change: 1.3620421886444092, scaled tolerance: 0.007938280582427978 \n",
      "[IterativeImputer] Completing matrix with shape (3504, 32)\n",
      "Rate 60 for cluster 3\n",
      "[IterativeImputer] Completing matrix with shape (14016, 32)\n"
     ]
    },
    {
     "name": "stderr",
     "output_type": "stream",
     "text": [
      "d:\\anaconda3\\lib\\site-packages\\sklearn\\impute\\_iterative.py:785: ConvergenceWarning: [IterativeImputer] Early stopping criterion not reached.\n",
      "  warnings.warn(\n"
     ]
    },
    {
     "name": "stdout",
     "output_type": "stream",
     "text": [
      "[IterativeImputer] Change: 25.50485610961914, scaled tolerance: 0.007851129531860351 \n",
      "[IterativeImputer] Change: 5.589170455932617, scaled tolerance: 0.007851129531860351 \n",
      "[IterativeImputer] Change: 7.584375381469727, scaled tolerance: 0.007851129531860351 \n",
      "[IterativeImputer] Change: 1.980602502822876, scaled tolerance: 0.007851129531860351 \n",
      "[IterativeImputer] Change: 8.15357494354248, scaled tolerance: 0.007851129531860351 \n",
      "[IterativeImputer] Change: 10.967352867126465, scaled tolerance: 0.007851129531860351 \n",
      "[IterativeImputer] Change: 17.085241317749023, scaled tolerance: 0.007851129531860351 \n",
      "[IterativeImputer] Change: 39.755836486816406, scaled tolerance: 0.007851129531860351 \n",
      "[IterativeImputer] Change: 55.09229278564453, scaled tolerance: 0.007851129531860351 \n",
      "[IterativeImputer] Change: 33.93470001220703, scaled tolerance: 0.007851129531860351 \n",
      "[IterativeImputer] Completing matrix with shape (3504, 32)\n",
      "Rate 90 for cluster 3\n",
      "[IterativeImputer] Completing matrix with shape (14016, 32)\n"
     ]
    },
    {
     "name": "stderr",
     "output_type": "stream",
     "text": [
      "d:\\anaconda3\\lib\\site-packages\\sklearn\\impute\\_iterative.py:785: ConvergenceWarning: [IterativeImputer] Early stopping criterion not reached.\n",
      "  warnings.warn(\n"
     ]
    },
    {
     "name": "stdout",
     "output_type": "stream",
     "text": [
      "[IterativeImputer] Change: 18.423095703125, scaled tolerance: 0.007626693725585938 \n",
      "[IterativeImputer] Change: 0.08603620529174805, scaled tolerance: 0.007626693725585938 \n",
      "[IterativeImputer] Change: 38.234928131103516, scaled tolerance: 0.007626693725585938 \n",
      "[IterativeImputer] Change: 608.5635375976562, scaled tolerance: 0.007626693725585938 \n",
      "[IterativeImputer] Change: 650.0068969726562, scaled tolerance: 0.007626693725585938 \n",
      "[IterativeImputer] Change: 92.35369873046875, scaled tolerance: 0.007626693725585938 \n",
      "[IterativeImputer] Change: 92.42620849609375, scaled tolerance: 0.007626693725585938 \n",
      "[IterativeImputer] Change: 697.6278076171875, scaled tolerance: 0.007626693725585938 \n",
      "[IterativeImputer] Change: 684.1795654296875, scaled tolerance: 0.007626693725585938 \n",
      "[IterativeImputer] Change: 5407.1611328125, scaled tolerance: 0.007626693725585938 \n",
      "[IterativeImputer] Completing matrix with shape (3504, 32)\n",
      "Rate 5 for cluster 4\n",
      "[IterativeImputer] Completing matrix with shape (52, 82)\n"
     ]
    },
    {
     "name": "stderr",
     "output_type": "stream",
     "text": [
      "d:\\anaconda3\\lib\\site-packages\\sklearn\\impute\\_iterative.py:785: ConvergenceWarning: [IterativeImputer] Early stopping criterion not reached.\n",
      "  warnings.warn(\n"
     ]
    },
    {
     "name": "stdout",
     "output_type": "stream",
     "text": [
      "[IterativeImputer] Change: 11.43641471862793, scaled tolerance: 0.004543147087097168 \n",
      "[IterativeImputer] Change: 1.0570087432861328, scaled tolerance: 0.004543147087097168 \n",
      "[IterativeImputer] Change: 0.45237812399864197, scaled tolerance: 0.004543147087097168 \n",
      "[IterativeImputer] Change: 0.47555750608444214, scaled tolerance: 0.004543147087097168 \n",
      "[IterativeImputer] Change: 0.6931841969490051, scaled tolerance: 0.004543147087097168 \n",
      "[IterativeImputer] Change: 0.59562087059021, scaled tolerance: 0.004543147087097168 \n",
      "[IterativeImputer] Change: 0.30387574434280396, scaled tolerance: 0.004543147087097168 \n",
      "[IterativeImputer] Change: 0.26487845182418823, scaled tolerance: 0.004543147087097168 \n",
      "[IterativeImputer] Change: 0.5538845062255859, scaled tolerance: 0.004543147087097168 \n",
      "[IterativeImputer] Change: 0.5867285132408142, scaled tolerance: 0.004543147087097168 \n",
      "[IterativeImputer] Completing matrix with shape (13, 82)\n",
      "Rate 20 for cluster 4\n",
      "[IterativeImputer] Completing matrix with shape (52, 82)\n"
     ]
    },
    {
     "name": "stderr",
     "output_type": "stream",
     "text": [
      "d:\\anaconda3\\lib\\site-packages\\sklearn\\impute\\_iterative.py:785: ConvergenceWarning: [IterativeImputer] Early stopping criterion not reached.\n",
      "  warnings.warn(\n"
     ]
    },
    {
     "name": "stdout",
     "output_type": "stream",
     "text": [
      "[IterativeImputer] Change: 25.945140838623047, scaled tolerance: 0.004543147087097168 \n",
      "[IterativeImputer] Change: 3.704010009765625, scaled tolerance: 0.004543147087097168 \n",
      "[IterativeImputer] Change: 1.6440339088439941, scaled tolerance: 0.004543147087097168 \n",
      "[IterativeImputer] Change: 0.6765441298484802, scaled tolerance: 0.004543147087097168 \n",
      "[IterativeImputer] Change: 0.27722299098968506, scaled tolerance: 0.004543147087097168 \n",
      "[IterativeImputer] Change: 0.142680361866951, scaled tolerance: 0.004543147087097168 \n",
      "[IterativeImputer] Change: 0.07070291042327881, scaled tolerance: 0.004543147087097168 \n",
      "[IterativeImputer] Change: 0.04550135135650635, scaled tolerance: 0.004543147087097168 \n",
      "[IterativeImputer] Change: 0.029276609420776367, scaled tolerance: 0.004543147087097168 \n",
      "[IterativeImputer] Change: 0.12394486367702484, scaled tolerance: 0.004543147087097168 \n",
      "[IterativeImputer] Completing matrix with shape (13, 82)\n",
      "Rate 60 for cluster 4\n",
      "[IterativeImputer] Completing matrix with shape (52, 82)\n"
     ]
    },
    {
     "name": "stderr",
     "output_type": "stream",
     "text": [
      "d:\\anaconda3\\lib\\site-packages\\sklearn\\impute\\_iterative.py:785: ConvergenceWarning: [IterativeImputer] Early stopping criterion not reached.\n",
      "  warnings.warn(\n"
     ]
    },
    {
     "name": "stdout",
     "output_type": "stream",
     "text": [
      "[IterativeImputer] Change: 51.21318054199219, scaled tolerance: 0.0032625961303710937 \n",
      "[IterativeImputer] Change: 7.309798240661621, scaled tolerance: 0.0032625961303710937 \n",
      "[IterativeImputer] Change: 6.4633469581604, scaled tolerance: 0.0032625961303710937 \n",
      "[IterativeImputer] Change: 4.697670936584473, scaled tolerance: 0.0032625961303710937 \n",
      "[IterativeImputer] Change: 2.765697479248047, scaled tolerance: 0.0032625961303710937 \n",
      "[IterativeImputer] Change: 3.0571084022521973, scaled tolerance: 0.0032625961303710937 \n",
      "[IterativeImputer] Change: 2.001687526702881, scaled tolerance: 0.0032625961303710937 \n",
      "[IterativeImputer] Change: 1.5625245571136475, scaled tolerance: 0.0032625961303710937 \n",
      "[IterativeImputer] Change: 1.3066900968551636, scaled tolerance: 0.0032625961303710937 \n",
      "[IterativeImputer] Change: 1.4976389408111572, scaled tolerance: 0.0032625961303710937 \n",
      "[IterativeImputer] Completing matrix with shape (13, 82)\n",
      "Rate 90 for cluster 4\n",
      "[IterativeImputer] Completing matrix with shape (52, 82)\n",
      "[IterativeImputer] Change: 57.93329620361328, scaled tolerance: 0.004543147087097168 \n"
     ]
    },
    {
     "name": "stderr",
     "output_type": "stream",
     "text": [
      "d:\\anaconda3\\lib\\site-packages\\sklearn\\impute\\_iterative.py:785: ConvergenceWarning: [IterativeImputer] Early stopping criterion not reached.\n",
      "  warnings.warn(\n"
     ]
    },
    {
     "name": "stdout",
     "output_type": "stream",
     "text": [
      "[IterativeImputer] Change: 5.301389217376709, scaled tolerance: 0.004543147087097168 \n",
      "[IterativeImputer] Change: 1.264818787574768, scaled tolerance: 0.004543147087097168 \n",
      "[IterativeImputer] Change: 0.25766193866729736, scaled tolerance: 0.004543147087097168 \n",
      "[IterativeImputer] Change: 0.09442757070064545, scaled tolerance: 0.004543147087097168 \n",
      "[IterativeImputer] Change: 0.03720963001251221, scaled tolerance: 0.004543147087097168 \n",
      "[IterativeImputer] Change: 0.015144944190979004, scaled tolerance: 0.004543147087097168 \n",
      "[IterativeImputer] Change: 0.006416738033294678, scaled tolerance: 0.004543147087097168 \n",
      "[IterativeImputer] Change: 0.002796173095703125, scaled tolerance: 0.004543147087097168 \n",
      "[IterativeImputer] Early stopping criterion reached.\n",
      "[IterativeImputer] Completing matrix with shape (13, 82)\n"
     ]
    }
   ],
   "source": [
    "# Dictionary to hold results\n",
    "mice_imputed_results = {}\n",
    "\n",
    "for cluster_id in range(len(clusters)):\n",
    "    mice_imputed_results[cluster_id] = {}\n",
    "\n",
    "    for rate in missing_rates:\n",
    "        key = int(rate * 100)\n",
    "        print(f\"Rate {key} for cluster {cluster_id}\")\n",
    "        imputer = IterativeImputer(max_iter=10, random_state=0, verbose = 1)\n",
    "\n",
    "        # Fit on training data with missing values\n",
    "        imputer.fit(X_train_incomplete[cluster_id][key])\n",
    "        \n",
    "        # Impute using mice\n",
    "        X_imputed = imputer.transform(X_val_incomplete[cluster_id][key])\n",
    "        mice_imputed_results[cluster_id][key] = X_imputed"
   ]
  },
  {
   "cell_type": "code",
   "execution_count": 23,
   "id": "80d52e9d",
   "metadata": {},
   "outputs": [
    {
     "data": {
      "text/plain": [
       "array([[-0.5601144 , -0.6503718 , -0.833753  , ..., -0.66097677,\n",
       "        -0.6393503 , -0.50994533],\n",
       "       [-0.56060666, -1.0054954 , -0.6947575 , ..., -0.9558981 ,\n",
       "        -0.8522482 , -0.8635773 ],\n",
       "       [-0.5618067 , -0.9587519 , -1.2015084 , ..., -0.706963  ,\n",
       "        -1.0049225 , -0.9066047 ],\n",
       "       ...,\n",
       "       [-0.49296066,  0.19156624,  0.6709973 , ..., -0.06936998,\n",
       "        -0.04527993, -0.09033658],\n",
       "       [-0.5053395 , -0.1562099 , -0.9250547 , ..., -0.4955546 ,\n",
       "        -0.04510139, -0.03711906],\n",
       "       [-0.4371384 , -0.91022134, -0.95863044, ..., -0.8737483 ,\n",
       "        -0.6362361 , -0.47652516]], dtype=float32)"
      ]
     },
     "execution_count": 23,
     "metadata": {},
     "output_type": "execute_result"
    }
   ],
   "source": [
    "mice_imputed_results[0][20]"
   ]
  },
  {
   "cell_type": "markdown",
   "id": "8f816a26",
   "metadata": {},
   "source": [
    "### Unscale data before evaluation"
   ]
  },
  {
   "cell_type": "code",
   "execution_count": 24,
   "id": "08462023",
   "metadata": {},
   "outputs": [],
   "source": [
    "import joblib\n",
    "\n",
    "mice_imputed_unscaled = {}\n",
    "\n",
    "for cluster_id in range(len(clusters)):\n",
    "    mice_imputed_unscaled[cluster_id] = {}\n",
    "    \n",
    "    scaler = joblib.load(f\"demand_scaler_{cluster_id}.pkl\")\n",
    "\n",
    "# Unscale the imputed values for each cluster and missing rate\n",
    "    for rate in missing_rates:\n",
    "        key = int(rate * 100)\n",
    "        mice_imputed_unscaled[cluster_id][key] = scaler.inverse_transform(mice_imputed_results[cluster_id][key])"
   ]
  },
  {
   "cell_type": "markdown",
   "id": "00f95fed",
   "metadata": {},
   "source": [
    "## Evaluation"
   ]
  },
  {
   "cell_type": "code",
   "execution_count": 25,
   "id": "369745c6",
   "metadata": {},
   "outputs": [],
   "source": [
    "def clip_imputed_values(imputed_dict, min_val, max_val):\n",
    "    clipped_dict = {}\n",
    "    for cluster_id in imputed_dict:\n",
    "        clipped_dict[cluster_id] = {}\n",
    "        for rate_key in imputed_dict[cluster_id]:\n",
    "            imputed_array = imputed_dict[cluster_id][rate_key]\n",
    "            clipped_array = np.clip(imputed_array, min_val, max_val)\n",
    "            clipped_dict[cluster_id][rate_key] = clipped_array\n",
    "    return clipped_dict\n",
    "\n",
    "imputed_clipped = clip_imputed_values(mice_imputed_unscaled, min_val=0, max_val=200)"
   ]
  },
  {
   "cell_type": "code",
   "execution_count": 26,
   "id": "c05ad670",
   "metadata": {},
   "outputs": [
    {
     "name": "stdout",
     "output_type": "stream",
     "text": [
      "R² Cluster 0 Rate 5%: 0.708\n",
      "R² Cluster 0 Rate 20%: -1574068488.707\n",
      "R² Cluster 0 Rate 60%: -9.098\n",
      "R² Cluster 0 Rate 90%: -6858239270164343947515329284159832064.000\n",
      "R² Cluster 1 Rate 5%: 0.695\n",
      "R² Cluster 1 Rate 20%: 0.710\n",
      "R² Cluster 1 Rate 60%: 0.426\n",
      "R² Cluster 1 Rate 90%: -63991081.912\n",
      "R² Cluster 2 Rate 5%: 0.740\n",
      "R² Cluster 2 Rate 20%: 0.603\n",
      "R² Cluster 2 Rate 60%: 0.530\n",
      "R² Cluster 2 Rate 90%: 0.558\n",
      "R² Cluster 3 Rate 5%: 0.625\n",
      "R² Cluster 3 Rate 20%: 0.676\n",
      "R² Cluster 3 Rate 60%: -52801.930\n",
      "R² Cluster 3 Rate 90%: -182323.310\n",
      "R² Cluster 4 Rate 5%: 0.811\n",
      "R² Cluster 4 Rate 20%: -25.596\n",
      "R² Cluster 4 Rate 60%: -0.662\n",
      "R² Cluster 4 Rate 90%: -3.637\n"
     ]
    }
   ],
   "source": [
    "import numpy as np\n",
    "from sklearn.metrics import r2_score\n",
    "\n",
    "r2_scores = {}\n",
    "\n",
    "for cluster_id in range(len(clusters)):\n",
    "    r2_scores[cluster_id] = {}\n",
    "    for rate in missing_rates:\n",
    "        key = int(rate * 100)\n",
    "\n",
    "        imputed = mice_imputed_unscaled[cluster_id][key]\n",
    "        original = X_val_full_unscaled[cluster_id]\n",
    "        mask = val_masks[cluster_id][key]\n",
    "\n",
    "        # Initialize list for per-feature R²\n",
    "        feature_r2 = []\n",
    "\n",
    "        for f in range(original.values.shape[1]):  # loop over features\n",
    "            f_mask = mask[:, f]\n",
    "            if not np.any(f_mask):\n",
    "                continue  # skip if no missing values for this feature\n",
    "\n",
    "            y_true = original.values[:, f][f_mask]\n",
    "            y_pred = imputed[:, f][f_mask]\n",
    "\n",
    "            if len(y_true) < 2:\n",
    "                continue  # not enough points to compute R²\n",
    "\n",
    "            r2 = r2_score(y_true, y_pred)\n",
    "            feature_r2.append(r2)\n",
    "\n",
    "        if feature_r2:\n",
    "            r2_scores[cluster_id][key] = np.mean(feature_r2)\n",
    "        else:\n",
    "            r2_scores[cluster_id][key] = np.nan  # or 0 or another fallback\n",
    "\n",
    "        print(f\"R² Cluster {cluster_id} Rate {rate*100:.0f}%: {r2_scores[cluster_id][key]:.3f}\")\n"
   ]
  },
  {
   "cell_type": "code",
   "execution_count": 27,
   "id": "f44ec722",
   "metadata": {},
   "outputs": [
    {
     "name": "stdout",
     "output_type": "stream",
     "text": [
      "SMAPE Cluster 0 Rate 5.0%: 20.52%\n",
      "SMAPE Cluster 0 Rate 20.0%: 32.56%\n",
      "SMAPE Cluster 0 Rate 60.0%: 44.87%\n",
      "SMAPE Cluster 0 Rate 90.0%: 199.88%\n",
      "SMAPE Cluster 1 Rate 5.0%: 15.15%\n",
      "SMAPE Cluster 1 Rate 20.0%: 14.20%\n",
      "SMAPE Cluster 1 Rate 60.0%: 27.67%\n",
      "SMAPE Cluster 1 Rate 90.0%: 174.07%\n",
      "SMAPE Cluster 2 Rate 5.0%: 18.09%\n",
      "SMAPE Cluster 2 Rate 20.0%: 16.61%\n",
      "SMAPE Cluster 2 Rate 60.0%: 24.30%\n",
      "SMAPE Cluster 2 Rate 90.0%: 35.41%\n",
      "SMAPE Cluster 3 Rate 5.0%: 22.63%\n",
      "SMAPE Cluster 3 Rate 20.0%: 18.08%\n",
      "SMAPE Cluster 3 Rate 60.0%: 50.89%\n",
      "SMAPE Cluster 3 Rate 90.0%: 51.41%\n",
      "SMAPE Cluster 4 Rate 5.0%: 10.86%\n",
      "SMAPE Cluster 4 Rate 20.0%: 19.06%\n",
      "SMAPE Cluster 4 Rate 60.0%: 51.39%\n",
      "SMAPE Cluster 4 Rate 90.0%: 81.46%\n"
     ]
    }
   ],
   "source": [
    "smape = {}\n",
    "for cluster_id in range(len(clusters)):\n",
    "    smape[cluster_id] = {}\n",
    "    for rate in missing_rates:\n",
    "        key = int(rate * 100)\n",
    "        imputed = mice_imputed_unscaled[cluster_id][key]\n",
    "        original = X_val_full_unscaled[cluster_id].values\n",
    "        mask = val_masks[cluster_id][key]\n",
    "\n",
    "        # Initialize per-feature smape list\n",
    "        feature_smapes = []\n",
    "        for f in range(original.shape[1]):\n",
    "            f_mask = mask[:, f]\n",
    "            if not np.any(f_mask):\n",
    "                continue  # skip if no missing values for this feature\n",
    "\n",
    "            F = imputed[:, f][f_mask]\n",
    "            A = original[:, f][f_mask]\n",
    "\n",
    "            num = np.abs(F - A)\n",
    "            denom = np.abs(F) + np.abs(A) + 1e-8\n",
    "            smape_f = np.mean(2 * num / denom) * 100\n",
    "            feature_smapes.append(smape_f)\n",
    "\n",
    "        smape[cluster_id][key] = np.mean(feature_smapes)\n",
    "        print(f\"SMAPE Cluster {cluster_id} Rate {rate*100}%: {smape[cluster_id][key]:.2f}%\")\n"
   ]
  },
  {
   "cell_type": "markdown",
   "id": "7fbd386b",
   "metadata": {},
   "source": [
    "### Average errors per cluster"
   ]
  },
  {
   "cell_type": "code",
   "execution_count": 28,
   "id": "6a0f28e8",
   "metadata": {},
   "outputs": [],
   "source": [
    "features_per_cluster = {i: X_val_full_unscaled[i].shape[-1] for i in range(len(clusters))}"
   ]
  },
  {
   "cell_type": "code",
   "execution_count": 29,
   "id": "e0e549ff",
   "metadata": {},
   "outputs": [
    {
     "data": {
      "text/plain": [
       "{0: 29, 1: 11, 2: 10, 3: 32, 4: 82}"
      ]
     },
     "execution_count": 29,
     "metadata": {},
     "output_type": "execute_result"
    }
   ],
   "source": [
    "features_per_cluster"
   ]
  },
  {
   "cell_type": "code",
   "execution_count": 36,
   "id": "f7f27ef4",
   "metadata": {},
   "outputs": [
    {
     "name": "stdout",
     "output_type": "stream",
     "text": [
      "Weighted Average R2 for rate 5.0%: 0.68%\n",
      "R2 for full at rate 5.0%: 0.81%\n",
      "Weighted Average R2 for rate 20.0%: -556682757.77%\n",
      "R2 for full at rate 20.0%: -25.60%\n",
      "Weighted Average R2 for rate 60.0%: -20608.73%\n",
      "R2 for full at rate 60.0%: -0.66%\n",
      "Weighted Average R2 for rate 90.0%: -2425474863838609538436464437851324416.00%\n",
      "R2 for full at rate 90.0%: -3.64%\n"
     ]
    }
   ],
   "source": [
    "n_clusters = len(clusters) - 1  # number of actual clusters\n",
    "flow_all_id = len(clusters) - 1  # index of the full dataset\n",
    "\n",
    "avg_r2_cluster = {}\n",
    "r2_all = {}\n",
    "\n",
    "for rate in missing_rates:\n",
    "    key = int(rate * 100)\n",
    "\n",
    "    # Gather RMSE and weights\n",
    "    r2_values = np.array([r2_scores[cluster_id][key] for cluster_id in range(n_clusters)])\n",
    "    feature_counts = np.array([features_per_cluster[cluster_id] for cluster_id in range(n_clusters)])\n",
    "\n",
    "    weighted_avg = np.average(r2_values, weights=feature_counts)\n",
    "\n",
    "    avg_r2_cluster[key] = weighted_avg\n",
    "    r2_all[key] = r2_scores[flow_all_id][key]\n",
    "\n",
    "    print(f\"Weighted Average R2 for rate {rate*100}%: {avg_r2_cluster[key]:.2f}%\")\n",
    "    print(f\"R2 for full at rate {rate*100}%: {r2_all[key]:.2f}%\")"
   ]
  },
  {
   "cell_type": "code",
   "execution_count": 31,
   "id": "bc8b7010",
   "metadata": {},
   "outputs": [
    {
     "name": "stdout",
     "output_type": "stream",
     "text": [
      "Weighted Average SMAPE for rate 5.0%: 20.33%\n",
      "SMAPE for full at rate 5.0%: 10.86%\n",
      "Weighted Average SMAPE for rate 20.0%: 22.50%\n",
      "SMAPE for full at rate 20.0%: 19.06%\n",
      "Weighted Average SMAPE for rate 60.0%: 42.40%\n",
      "SMAPE for full at rate 60.0%: 51.39%\n",
      "Weighted Average SMAPE for rate 90.0%: 118.42%\n",
      "SMAPE for full at rate 90.0%: 81.46%\n"
     ]
    }
   ],
   "source": [
    "avg_smape_cluster = {}\n",
    "smape_all = {}\n",
    "\n",
    "for rate in missing_rates:\n",
    "    key = int(rate * 100)\n",
    "    \n",
    "    # Gather SMAPE and weights (number of features per cluster)\n",
    "    smape_values = np.array([smape[cluster_id][key] for cluster_id in range(n_clusters)])\n",
    "    feature_counts = np.array([features_per_cluster[cluster_id] for cluster_id in range(n_clusters)])\n",
    "    \n",
    "    # Compute weighted average\n",
    "    weighted_avg = np.average(smape_values, weights=feature_counts)\n",
    "    \n",
    "    avg_smape_cluster[key] = weighted_avg\n",
    "    smape_all[key] = smape[flow_all_id][key]  # for full feature set\n",
    "    \n",
    "    print(f\"Weighted Average SMAPE for rate {rate*100}%: {avg_smape_cluster[key]:.2f}%\")\n",
    "    print(f\"SMAPE for full at rate {rate*100}%: {smape_all[key]:.2f}%\")\n"
   ]
  },
  {
   "cell_type": "markdown",
   "id": "03c92541",
   "metadata": {},
   "source": [
    "SMAPE: 8.45%\n",
    "SMAPE: 10.32%\n",
    "SMAPE: 12.04%\n",
    "SMAPE: 30.44%"
   ]
  },
  {
   "cell_type": "code",
   "execution_count": 32,
   "id": "802312b5",
   "metadata": {},
   "outputs": [
    {
     "data": {
      "text/plain": [
       "dict_values([{5: 20.52476733231459, 20: 32.556363690473034, 60: 44.87346377918432, 90: 199.87802074680658}, {5: 15.149217300518456, 20: 14.196895022902662, 60: 27.667262352559327, 90: 174.0697679006705}, {5: 18.089195670285353, 20: 16.605097226038428, 60: 24.295049549943183, 90: 35.41414431363653}, {5: 22.63115344372461, 20: 18.080156241827076, 60: 50.892833346955285, 90: 51.40914547261927}, {5: 10.8600803521438, 20: 19.05529818265187, 60: 51.39191618806902, 90: 81.4583922237815}])"
      ]
     },
     "execution_count": 32,
     "metadata": {},
     "output_type": "execute_result"
    }
   ],
   "source": [
    "smape.values()"
   ]
  },
  {
   "cell_type": "code",
   "execution_count": 33,
   "id": "bf6f55db",
   "metadata": {},
   "outputs": [
    {
     "data": {
      "image/png": "[encoded data removed]",
      "text/plain": [
       "<Figure size 1000x500 with 1 Axes>"
      ]
     },
     "metadata": {},
     "output_type": "display_data"
    }
   ],
   "source": [
    "import matplotlib.pyplot as plt\n",
    "import seaborn as sns\n",
    "import numpy as np\n",
    "\n",
    "def plot_missing_vs_observed(data, mask, feature_name=\"flow\"):\n",
    "    \"\"\"\n",
    "    data: 1D array of original values\n",
    "    mask: 1D boolean array, True if missing\n",
    "    feature_name: for labeling\n",
    "    \"\"\"\n",
    "    data_missing = data[mask]\n",
    "    data_observed = data[~mask]\n",
    "\n",
    "    plt.figure(figsize=(10, 5))\n",
    "    sns.histplot(data_observed, color='blue', label='Observed', kde=True, stat=\"density\", bins=30)\n",
    "    sns.histplot(data_missing, color='red', label='Missing', kde=True, stat=\"density\", bins=30)\n",
    "    plt.title(f\"Distribution of {feature_name} - Observed vs Missing\")\n",
    "    plt.xlabel(feature_name)\n",
    "    plt.ylabel(\"Density\")\n",
    "    plt.legend()\n",
    "    plt.grid(True)\n",
    "    plt.show()\n",
    "\n",
    "plot_missing_vs_observed(X_val_full_unscaled[0], val_masks[0][90], feature_name=\"Flow at 20% missingness\")"
   ]
  },
  {
   "cell_type": "code",
   "execution_count": 34,
   "id": "4e346c94",
   "metadata": {},
   "outputs": [
    {
     "data": {
      "image/png": "[encoded data removed]",
      "text/plain": [
       "<Figure size 1000x800 with 2 Axes>"
      ]
     },
     "metadata": {},
     "output_type": "display_data"
    }
   ],
   "source": [
    "import matplotlib.pyplot as plt\n",
    "import numpy as np\n",
    "\n",
    "# Example error values (replace with your real variables)\n",
    "missing_levels = ['20%', '40%', '60%', '90%']\n",
    "\n",
    "# Bar chart setup\n",
    "x = np.arange(len(missing_levels))  # the label locations\n",
    "width = 0.35  # the width of the bars\n",
    "\n",
    "fig, ax = plt.subplots(2, 1, figsize=(10, 8), sharex=True)\n",
    "\n",
    "# --- MAE plot ---\n",
    "ax[0].bar(x - width/2, r2_all.values(), width, label='Without Semantics', color='tab:blue')\n",
    "ax[0].bar(x + width/2, avg_r2_cluster.values(), width, label='With Semantics', color='tab:orange')\n",
    "ax[0].set_ylabel('MAE')\n",
    "ax[0].set_title('MAE by Missingness Level')\n",
    "ax[0].legend()\n",
    "ax[0].grid(True, axis='y', linestyle='--', alpha=0.6)\n",
    "\n",
    "# --- SMAPE plot ---\n",
    "ax[1].bar(x - width/2, smape_all.values(), width, label='Without Semantics', color='tab:blue')\n",
    "ax[1].bar(x + width/2, avg_smape_cluster.values(), width, label='With Semantics', color='tab:orange')\n",
    "ax[1].set_ylabel('SMAPE (%)')\n",
    "ax[1].set_title('SMAPE by Missingness Level')\n",
    "ax[1].set_xticks(x)\n",
    "ax[1].set_xticklabels(missing_levels)\n",
    "ax[1].legend()\n",
    "ax[1].grid(True, axis='y', linestyle='--', alpha=0.6)\n",
    "\n",
    "fig.tight_layout()\n",
    "plt.show()\n"
   ]
  },
  {
   "cell_type": "markdown",
   "id": "6f3e364c",
   "metadata": {},
   "source": [
    "With MNAR, mean imputation works much worse, around 40% SMAPE. On the other hand, BRITS with all features, and MNAR on 80% of values missingness on 30% of columns with values deviated from 70% of mean, performs 22% SMAPE.\n",
    "When using only semantically relevant features with same percentage as above, SMAPE is 21% so almost no improvement. It seems that best improvements, in general, come when percentage of missing data is very big, which makes other features more important thus their relevance increases."
   ]
  },
  {
   "cell_type": "markdown",
   "id": "4e73a5b2",
   "metadata": {},
   "source": [
    "With 100% missingness of values above 0.5 treshold (so real 50% MNAR missingness in 30% of columns), SMAPE for average is  62%. \n",
    "For BRITS with all features, it is 26,62%.\n",
    "For average imputation with semantically relevant features 51%, for BRITS with semantically relevant features, it is 11,21%. AMAZING IMPROVEMENT"
   ]
  },
  {
   "cell_type": "markdown",
   "id": "91b871ce",
   "metadata": {},
   "source": [
    "## probar con otro modelo mas sencillo, mirar ultima celda distance"
   ]
  }
 ],
 "metadata": {
  "kernelspec": {
   "display_name": "base",
   "language": "python",
   "name": "python3"
  },
  "language_info": {
   "codemirror_mode": {
    "name": "ipython",
    "version": 3
   },
   "file_extension": ".py",
   "mimetype": "text/x-python",
   "name": "python",
   "nbconvert_exporter": "python",
   "pygments_lexer": "ipython3",
   "version": "3.10.14"
  }
 },
 "nbformat": 4,
 "nbformat_minor": 5
}
