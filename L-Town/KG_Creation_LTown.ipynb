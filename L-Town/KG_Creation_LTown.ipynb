{
 "cells": [
  {
   "cell_type": "code",
   "execution_count": 4,
   "metadata": {},
   "outputs": [
    {
     "name": "stdout",
     "output_type": "stream",
     "text": [
      "A knowledge graph has been created and saved to knowledge_graph-LTown.ttl\n",
      "DiGraph with 1707 nodes and 3512 edges\n"
     ]
    }
   ],
   "source": [
    "from rdflib import Graph\n",
    "from wdn_knowledge_graph.knowledge_graph import create_knowledge_graph_from_inp, networkx\n",
    "\n",
    "from pathlib import Path\n",
    "\n",
    "ontology_file = 'wdn_ontology.ttl'\n",
    "inp_file = 'L-TOWN.inp'\n",
    "output_file = 'knowledge_graph-LTown.ttl'\n",
    "\n",
    "\n",
    "# Create knowledge graph\n",
    "knowledge_graph = create_knowledge_graph_from_inp(inp_file, destination=output_file)\n",
    "\n",
    "# Convert the RDF knowledge graph to a NetworkX graph for further processing\n",
    "networkx_graph = networkx(knowledge_graph)\n",
    "    \n",
    "print(networkx_graph)"
   ]
  }
 ],
 "metadata": {
  "kernelspec": {
   "display_name": "base",
   "language": "python",
   "name": "python3"
  },
  "language_info": {
   "codemirror_mode": {
    "name": "ipython",
    "version": 3
   },
   "file_extension": ".py",
   "mimetype": "text/x-python",
   "name": "python",
   "nbconvert_exporter": "python",
   "pygments_lexer": "ipython3",
   "version": "3.10.14"
  }
 },
 "nbformat": 4,
 "nbformat_minor": 2
}
